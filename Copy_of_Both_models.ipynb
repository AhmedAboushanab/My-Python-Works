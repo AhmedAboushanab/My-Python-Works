{
  "nbformat": 4,
  "nbformat_minor": 0,
  "metadata": {
    "colab": {
      "provenance": [],
      "machine_shape": "hm",
      "include_colab_link": true
    },
    "kernelspec": {
      "name": "python3",
      "display_name": "Python 3"
    }
  },
  "cells": [
    {
      "cell_type": "markdown",
      "metadata": {
        "id": "view-in-github",
        "colab_type": "text"
      },
      "source": [
        "<a href=\"https://colab.research.google.com/github/AhmedAboushanab/My-Python-Works/blob/master/Copy_of_Both_models.ipynb\" target=\"_parent\"><img src=\"https://colab.research.google.com/assets/colab-badge.svg\" alt=\"Open In Colab\"/></a>"
      ]
    },
    {
      "cell_type": "markdown",
      "metadata": {
        "id": "0MRC0e0KhQ0S"
      },
      "source": [
        "# Classification Models"
      ]
    },
    {
      "cell_type": "markdown",
      "metadata": {
        "id": "LWd1UlMnhT2s"
      },
      "source": [
        "## Importing the libraries"
      ]
    },
    {
      "cell_type": "code",
      "metadata": {
        "id": "YvGPUQaHhXfL"
      },
      "source": [
        "import numpy as np\n",
        "import matplotlib.pyplot as plt\n",
        "import pandas as pd\n",
        "from sklearn.metrics import auc\n",
        "from sklearn.metrics import RocCurveDisplay\n",
        "from sklearn.linear_model import LogisticRegression\n",
        "from sklearn.ensemble import RandomForestClassifier\n",
        "from sklearn import model_selection"
      ],
      "execution_count": 69,
      "outputs": []
    },
    {
      "cell_type": "markdown",
      "metadata": {
        "id": "K1VMqkGvhc3-"
      },
      "source": [
        "## Importing the dataset"
      ]
    },
    {
      "cell_type": "code",
      "metadata": {
        "id": "M52QDmyzhh9s"
      },
      "source": [
        "dataset = pd.read_csv('Meta-Analysis-Demo-4 - Sheet21.csv')\n",
        "X = dataset.iloc[:, :-1].values\n",
        "y = dataset.iloc[:, -1].values"
      ],
      "execution_count": 70,
      "outputs": []
    },
    {
      "cell_type": "code",
      "source": [
        "from sklearn.impute import SimpleImputer\n",
        "imputer = SimpleImputer(missing_values=np.nan, strategy='most_frequent')\n",
        "imputer.fit(X[:,215:217])\n",
        "X[:, 215:217] = imputer.transform(X[:, 215:217])"
      ],
      "metadata": {
        "id": "3os0JUvtqT97"
      },
      "execution_count": 71,
      "outputs": []
    },
    {
      "cell_type": "code",
      "source": [
        "print(X)"
      ],
      "metadata": {
        "colab": {
          "base_uri": "https://localhost:8080/"
        },
        "id": "rJAnF3K2tE8E",
        "outputId": "94e15c82-0322-4459-f13d-96842159163e"
      },
      "execution_count": 72,
      "outputs": [
        {
          "output_type": "stream",
          "name": "stdout",
          "text": [
            "[['A' 'P' 'E' ... 'K' 'G' 'K']\n",
            " ['A' 'P' 'E' ... 'K' 'G' 'K']\n",
            " ['A' 'P' 'E' ... 'P' 'G' 'K']\n",
            " ...\n",
            " ['A' 'P' 'E' ... 'P' 'G' 'K']\n",
            " ['A' 'P' 'E' ... 'K' 'G' 'K']\n",
            " ['A' 'P' 'E' ... 'P' 'G' 'K']]\n"
          ]
        }
      ]
    },
    {
      "source": [
        "from sklearn.impute import SimpleImputer\n",
        "import pandas as pd\n",
        "import numpy as np\n",
        "\n",
        "# Assuming X is your dataset with missing values\n",
        "# ... (Your code to load and prepare the dataset)\n",
        "\n",
        "# Identify the columns with non-numeric data\n",
        "non_numeric_cols = X[:, 215:217].astype(str)\n",
        "non_numeric_cols = np.any(pd.DataFrame(non_numeric_cols).apply(pd.to_numeric, errors='coerce').isnull(), axis=0)\n",
        "non_numeric_cols = np.where(non_numeric_cols)[0] + 215  # Adjust for slicing offset\n",
        "\n",
        "# Create a SimpleImputer for numeric columns (strategy='mean')\n",
        "num_imputer = SimpleImputer(missing_values=np.nan, strategy='mean')\n",
        "\n",
        "# Create a SimpleImputer for non-numeric columns (strategy='most_frequent')\n",
        "cat_imputer = SimpleImputer(missing_values=np.nan, strategy='most_frequent')\n",
        "\n",
        "# Apply imputation to numeric columns\n",
        "num_cols = np.delete(np.arange(215, 217), non_numeric_cols - 215)\n",
        "if len(num_cols)>0:\n",
        "  num_imputer.fit(X[:, num_cols])\n",
        "  X[:, num_cols] = num_imputer.transform(X[:, num_cols])\n",
        "\n",
        "# Apply imputation to non-numeric columns\n",
        "if len(non_numeric_cols)>0:\n",
        "  cat_imputer.fit(X[:, non_numeric_cols])\n",
        "  X[:, non_numeric_cols] = cat_imputer.transform(X[:, non_numeric_cols])\n",
        "\n",
        "# ... (Rest of your code)"
      ],
      "cell_type": "code",
      "metadata": {
        "id": "41gxJIXarcAn"
      },
      "execution_count": 41,
      "outputs": []
    },
    {
      "cell_type": "markdown",
      "source": [
        "## Encoding categorical data"
      ],
      "metadata": {
        "id": "vCDNApdJDKOP"
      }
    },
    {
      "cell_type": "code",
      "source": [
        "from sklearn.compose import ColumnTransformer\n",
        "from sklearn.preprocessing import OneHotEncoder\n",
        "ct = ColumnTransformer(transformers=[('encoder', OneHotEncoder(), list(range(0, 217)))], remainder='passthrough')\n",
        "X = np.array(ct.fit_transform(X))"
      ],
      "metadata": {
        "id": "-JE7Hh5sDJY1"
      },
      "execution_count": 73,
      "outputs": []
    },
    {
      "cell_type": "code",
      "source": [
        "print(X)"
      ],
      "metadata": {
        "id": "hnJaFAQ0FVCH",
        "colab": {
          "base_uri": "https://localhost:8080/"
        },
        "outputId": "d56e7e7f-bb0a-4e16-9049-65fda8cad476"
      },
      "execution_count": 74,
      "outputs": [
        {
          "output_type": "stream",
          "name": "stdout",
          "text": [
            "[[1. 1. 0. ... 0. 1. 1.]\n",
            " [1. 1. 0. ... 0. 1. 1.]\n",
            " [1. 1. 0. ... 1. 1. 1.]\n",
            " ...\n",
            " [1. 1. 0. ... 1. 1. 1.]\n",
            " [1. 1. 0. ... 0. 1. 1.]\n",
            " [1. 1. 0. ... 1. 1. 1.]]\n"
          ]
        }
      ]
    },
    {
      "cell_type": "markdown",
      "source": [
        "## Taking care of missing data"
      ],
      "metadata": {
        "id": "km7qCwZJFIyo"
      }
    },
    {
      "cell_type": "code",
      "source": [
        "from sklearn.impute import SimpleImputer\n",
        "imputer = SimpleImputer(missing_values=np.nan, strategy='mean')\n",
        "imputer.fit(X[:,215:217])\n",
        "X[:, 215:217] = imputer.transform(X[:, 215:217])"
      ],
      "metadata": {
        "id": "oEf71Co7FIA8"
      },
      "execution_count": 48,
      "outputs": []
    },
    {
      "cell_type": "code",
      "source": [
        "print(X)"
      ],
      "metadata": {
        "id": "1x3qkxfuFMoW",
        "colab": {
          "base_uri": "https://localhost:8080/"
        },
        "outputId": "8dbf52ab-7778-48a3-a34b-1570e4c1d528"
      },
      "execution_count": 49,
      "outputs": [
        {
          "output_type": "stream",
          "name": "stdout",
          "text": [
            "[[1.0 1.0 0.0 ... 0.0 1.0 'K']\n",
            " [1.0 1.0 0.0 ... 0.0 1.0 'K']\n",
            " [1.0 1.0 0.0 ... 1.0 1.0 'K']\n",
            " ...\n",
            " [1.0 1.0 0.0 ... 1.0 1.0 'K']\n",
            " [1.0 1.0 0.0 ... 0.0 1.0 'K']\n",
            " [1.0 1.0 0.0 ... 1.0 1.0 'K']]\n"
          ]
        }
      ]
    },
    {
      "cell_type": "markdown",
      "metadata": {
        "id": "YvxIPVyMhmKp"
      },
      "source": [
        "## Splitting the dataset into the Training set and Test set"
      ]
    },
    {
      "cell_type": "code",
      "source": [
        "from sklearn.model_selection import GroupShuffleSplit\n",
        "X_train, X_test, y_train, y_test = GroupShuffleSplit(n_splits=5, train_size=.75, random_state=42)"
      ],
      "metadata": {
        "colab": {
          "base_uri": "https://localhost:8080/",
          "height": 180
        },
        "id": "kPMwEnJDxRCB",
        "outputId": "35b3788b-e662-411f-cdb6-985aa0192dfd"
      },
      "execution_count": 64,
      "outputs": [
        {
          "output_type": "error",
          "ename": "TypeError",
          "evalue": "cannot unpack non-iterable GroupShuffleSplit object",
          "traceback": [
            "\u001b[0;31m---------------------------------------------------------------------------\u001b[0m",
            "\u001b[0;31mTypeError\u001b[0m                                 Traceback (most recent call last)",
            "\u001b[0;32m<ipython-input-64-17dfa67ee90b>\u001b[0m in \u001b[0;36m<cell line: 2>\u001b[0;34m()\u001b[0m\n\u001b[1;32m      1\u001b[0m \u001b[0;32mfrom\u001b[0m \u001b[0msklearn\u001b[0m\u001b[0;34m.\u001b[0m\u001b[0mmodel_selection\u001b[0m \u001b[0;32mimport\u001b[0m \u001b[0mGroupShuffleSplit\u001b[0m\u001b[0;34m\u001b[0m\u001b[0;34m\u001b[0m\u001b[0m\n\u001b[0;32m----> 2\u001b[0;31m \u001b[0mX_train\u001b[0m\u001b[0;34m,\u001b[0m \u001b[0mX_test\u001b[0m\u001b[0;34m,\u001b[0m \u001b[0my_train\u001b[0m\u001b[0;34m,\u001b[0m \u001b[0my_test\u001b[0m \u001b[0;34m=\u001b[0m \u001b[0mGroupShuffleSplit\u001b[0m\u001b[0;34m(\u001b[0m\u001b[0mn_splits\u001b[0m\u001b[0;34m=\u001b[0m\u001b[0;36m5\u001b[0m\u001b[0;34m,\u001b[0m \u001b[0mtrain_size\u001b[0m\u001b[0;34m=\u001b[0m\u001b[0;36m.75\u001b[0m\u001b[0;34m,\u001b[0m \u001b[0mrandom_state\u001b[0m\u001b[0;34m=\u001b[0m\u001b[0;36m42\u001b[0m\u001b[0;34m)\u001b[0m\u001b[0;34m\u001b[0m\u001b[0;34m\u001b[0m\u001b[0m\n\u001b[0m",
            "\u001b[0;31mTypeError\u001b[0m: cannot unpack non-iterable GroupShuffleSplit object"
          ]
        }
      ]
    },
    {
      "source": [
        "from sklearn.model_selection import GroupShuffleSplit\n",
        "\n",
        "# Assuming you have features in X and target variable in y,\n",
        "# and a 'group' variable for GroupShuffleSplit\n",
        "# Replace 'groups' with your actual group variable\n",
        "\n",
        "# Create the GroupShuffleSplit object\n",
        "gss = GroupShuffleSplit(n_splits=5, train_size=.75, random_state=42)\n",
        "\n",
        "# Get the indices for the first split\n",
        "# Assuming 'groups' is your group variable\n",
        "# Replace with your actual group variable if different\n",
        "train_idx, test_idx = next(gss.split(X, y, groups=y))\n",
        "\n",
        "# Split the data using the obtained indices\n",
        "X_train, X_test = X[train_idx], X[test_idx]\n",
        "y_train, y_test = y[train_idx], y[test_idx]"
      ],
      "cell_type": "code",
      "metadata": {
        "id": "3andO07KyK3e"
      },
      "execution_count": 81,
      "outputs": []
    },
    {
      "cell_type": "code",
      "metadata": {
        "id": "AVzJWAXIhxoC"
      },
      "source": [
        "from sklearn.model_selection import train_test_split\n",
        "X_train, X_test, y_train, y_test = train_test_split(X, y, test_size = 0.25, random_state = 0)"
      ],
      "execution_count": 82,
      "outputs": []
    },
    {
      "cell_type": "code",
      "metadata": {
        "id": "P3nS3-6r1i2B",
        "colab": {
          "base_uri": "https://localhost:8080/"
        },
        "outputId": "9766c557-622c-4c6e-e99c-a4d9ede6654c"
      },
      "source": [
        "print(X_train)"
      ],
      "execution_count": 83,
      "outputs": [
        {
          "output_type": "stream",
          "name": "stdout",
          "text": [
            "[[1. 1. 1. ... 1. 1. 1.]\n",
            " [1. 1. 0. ... 0. 1. 1.]\n",
            " [1. 1. 0. ... 0. 1. 1.]\n",
            " ...\n",
            " [1. 1. 1. ... 1. 1. 1.]\n",
            " [1. 1. 0. ... 1. 1. 1.]\n",
            " [1. 1. 0. ... 1. 1. 1.]]\n"
          ]
        }
      ]
    },
    {
      "cell_type": "code",
      "metadata": {
        "id": "8dpDLojm1mVG",
        "colab": {
          "base_uri": "https://localhost:8080/"
        },
        "outputId": "c3028e6b-2dab-424d-e697-047e90b8d56a"
      },
      "source": [
        "print(y_train)"
      ],
      "execution_count": 84,
      "outputs": [
        {
          "output_type": "stream",
          "name": "stdout",
          "text": [
            "['Bad' 'Bad' 'Hit' 'Bad' 'Good' 'Hit' 'Bad' 'Hit' 'Bad' 'Bad' 'Good' 'Bad'\n",
            " 'Bad' 'Bad' 'Good' 'Hit' 'Bad' 'Hit' 'Good' 'Bad' 'Bad' 'Hit' 'Good'\n",
            " 'Bad' 'Bad' 'Hit' 'Bad' 'Bad' 'Hit' 'Bad' 'Bad' 'Hit' 'Hit' 'Hit' 'Good'\n",
            " 'Good' 'Bad' 'Bad' 'Hit' 'Hit' 'Bad' 'Good' 'Hit' 'Bad' 'Bad' 'Bad' 'Hit'\n",
            " 'Bad' 'Bad' 'Hit' 'Bad' 'Bad' 'Hit' 'Bad' 'Bad' 'Hit' 'Bad' 'Hit' 'Hit'\n",
            " 'Bad' 'Bad' 'Hit' 'Good' 'Bad' 'Bad' 'Hit' 'Bad' 'Bad' 'Good' 'Bad' 'Bad'\n",
            " 'Hit' 'Hit' 'Bad' 'Hit' 'Hit' 'Bad' 'Hit' 'Hit' 'Bad' 'Hit' 'Bad' 'Hit'\n",
            " 'Good' 'Bad' 'Bad' 'Bad' 'Bad' 'Bad' 'Bad' 'Bad' 'Bad' 'Hit' 'Bad' 'Bad'\n",
            " 'Bad' 'Hit' 'Bad' 'Hit' 'Bad' 'Hit' 'Bad' 'Bad' 'Bad' 'Good' 'Good' 'Bad'\n",
            " 'Hit' 'Good' 'Hit' 'Hit' 'Hit' 'Good' 'Bad' 'Bad' 'Bad' 'Bad' 'Bad' 'Hit'\n",
            " 'Bad' 'Hit' 'Good' 'Bad' 'Bad' 'Bad' 'Bad' 'Bad' 'Hit' 'Bad' 'Bad' 'Bad'\n",
            " 'Bad' 'Bad' 'Bad' 'Bad' 'Bad' 'Bad' 'Bad' 'Bad' 'Bad' 'Good' 'Bad' 'Bad'\n",
            " 'Bad' 'Hit' 'Good' 'Bad' 'Hit' 'Bad' 'Hit' 'Bad' 'Hit' 'Hit' 'Bad' 'Hit'\n",
            " 'Hit' 'Hit' 'Good' 'Bad' 'Bad' 'Hit' 'Bad' 'Hit' 'Bad' 'Hit' 'Bad' 'Hit'\n",
            " 'Hit' 'Hit' 'Bad' 'Hit' 'Bad' 'Bad' 'Hit' 'Good' 'Hit' 'Hit' 'Bad' 'Bad'\n",
            " 'Bad' 'Good' 'Good' 'Good' 'Bad' 'Bad' 'Bad' 'Good' 'Good' 'Bad' 'Hit'\n",
            " 'Good' 'Good' 'Bad' 'Bad' 'Good' 'Bad' 'Hit' 'Bad' 'Hit' 'Hit' 'Hit'\n",
            " 'Bad' 'Bad' 'Bad' 'Bad' 'Bad' 'Hit' 'Hit' 'Good' 'Bad' 'Good' 'Bad'\n",
            " 'Good' 'Good' 'Good' 'Bad' 'Bad' 'Hit' 'Bad' 'Hit' 'Hit' 'Bad' 'Good'\n",
            " 'Bad' 'Bad' 'Hit' 'Bad' 'Bad' 'Hit' 'Hit' 'Bad' 'Bad' 'Hit' 'Bad' 'Bad'\n",
            " 'Bad' 'Hit' 'Hit' 'Bad' 'Bad' 'Hit' 'Good' 'Hit' 'Bad' 'Bad' 'Bad' 'Bad'\n",
            " 'Good' 'Hit' 'Bad' 'Good' 'Bad' 'Bad' 'Hit' 'Bad' 'Hit' 'Bad' 'Hit' 'Bad'\n",
            " 'Bad' 'Good' 'Bad' 'Bad' 'Hit' 'Bad' 'Bad' 'Hit' 'Good' 'Bad' 'Bad'\n",
            " 'Good' 'Bad' 'Hit' 'Hit' 'Bad' 'Bad' 'Bad' 'Bad' 'Bad' 'Good' 'Good'\n",
            " 'Bad' 'Hit' 'Bad' 'Good' 'Hit' 'Hit' 'Bad' 'Good' 'Bad' 'Hit' 'Good'\n",
            " 'Good' 'Bad' 'Hit' 'Bad' 'Bad' 'Bad' 'Bad' 'Bad' 'Bad' 'Bad' 'Hit' 'Hit'\n",
            " 'Good' 'Bad' 'Bad' 'Bad' 'Hit']\n"
          ]
        }
      ]
    },
    {
      "cell_type": "code",
      "metadata": {
        "id": "qbb7i0DH1qui",
        "colab": {
          "base_uri": "https://localhost:8080/"
        },
        "outputId": "2e2acacc-fd68-4e6b-dcc7-696ac95a9bd5"
      },
      "source": [
        "print(X_test)"
      ],
      "execution_count": 85,
      "outputs": [
        {
          "output_type": "stream",
          "name": "stdout",
          "text": [
            "[[1. 1. 1. ... 1. 1. 1.]\n",
            " [1. 1. 0. ... 0. 1. 1.]\n",
            " [1. 1. 0. ... 0. 1. 1.]\n",
            " ...\n",
            " [1. 1. 0. ... 0. 1. 1.]\n",
            " [1. 1. 0. ... 1. 1. 1.]\n",
            " [1. 1. 1. ... 1. 1. 1.]]\n"
          ]
        }
      ]
    },
    {
      "cell_type": "code",
      "metadata": {
        "id": "kj1hnFAR1s5w",
        "colab": {
          "base_uri": "https://localhost:8080/"
        },
        "outputId": "c516dcc8-d698-43d8-9019-6b77d6f0f8c7"
      },
      "source": [
        "print(y_test)"
      ],
      "execution_count": 86,
      "outputs": [
        {
          "output_type": "stream",
          "name": "stdout",
          "text": [
            "['Bad' 'Hit' 'Hit' 'Hit' 'Bad' 'Hit' 'Bad' 'Bad' 'Hit' 'Bad' 'Bad' 'Good'\n",
            " 'Bad' 'Bad' 'Hit' 'Hit' 'Bad' 'Hit' 'Good' 'Good' 'Hit' 'Hit' 'Bad' 'Bad'\n",
            " 'Hit' 'Bad' 'Bad' 'Bad' 'Bad' 'Bad' 'Bad' 'Hit' 'Bad' 'Hit' 'Hit' 'Good'\n",
            " 'Bad' 'Bad' 'Hit' 'Bad' 'Hit' 'Hit' 'Hit' 'Bad' 'Good' 'Good' 'Good'\n",
            " 'Hit' 'Bad' 'Bad' 'Good' 'Hit' 'Hit' 'Bad' 'Bad' 'Good' 'Hit' 'Bad' 'Bad'\n",
            " 'Bad' 'Bad' 'Good' 'Bad' 'Bad' 'Bad' 'Bad' 'Good' 'Bad' 'Bad' 'Bad' 'Bad'\n",
            " 'Bad' 'Bad' 'Bad' 'Good' 'Bad' 'Bad' 'Good' 'Bad' 'Good' 'Good' 'Good'\n",
            " 'Good' 'Bad' 'Hit' 'Bad' 'Hit' 'Good' 'Good' 'Hit' 'Good' 'Bad' 'Bad'\n",
            " 'Bad' 'Hit' 'Good' 'Bad' 'Good' 'Bad' 'Hit' 'Bad' 'Hit' 'Bad' 'Bad']\n"
          ]
        }
      ]
    },
    {
      "cell_type": "markdown",
      "metadata": {
        "id": "v3eJ5sAoYkPM"
      },
      "source": [
        "**Feature Scaling**"
      ]
    },
    {
      "cell_type": "code",
      "metadata": {
        "id": "GASG8Z2MYlq_"
      },
      "source": [
        "#from sklearn.preprocessing import StandardScaler\n",
        "#sc = StandardScaler()\n",
        "#X_train = sc.fit_transform(X_train)\n",
        "#X_test = sc.transform(X_test)"
      ],
      "execution_count": null,
      "outputs": []
    },
    {
      "cell_type": "code",
      "metadata": {
        "id": "9YdmpwYWYpA4"
      },
      "source": [
        "#print(X_train)"
      ],
      "execution_count": null,
      "outputs": []
    },
    {
      "cell_type": "code",
      "metadata": {
        "id": "BfMAEXcqYr27"
      },
      "source": [
        "#print(X_test)"
      ],
      "execution_count": null,
      "outputs": []
    },
    {
      "cell_type": "markdown",
      "metadata": {
        "id": "XYrBIN5sVmgQ"
      },
      "source": [
        "**For loop for both Models**"
      ]
    },
    {
      "cell_type": "code",
      "metadata": {
        "colab": {
          "base_uri": "https://localhost:8080/"
        },
        "id": "iLwvsRoEVqQM",
        "outputId": "beac1d43-ccc9-4785-e057-b899e93fbad3"
      },
      "source": [
        "# prepare models\n",
        "models = []\n",
        "models.append(('LR', LogisticRegression(random_state = 0, max_iter=1000)))\n",
        "models.append(('RF', RandomForestClassifier(n_estimators = 1000, criterion = 'entropy', random_state = 0)))\n",
        "\n",
        "# evaluate each model in turn\n",
        "results = []\n",
        "names = []\n",
        "scoring = 'accuracy'\n",
        "for name, model in models:\n",
        "\tkfold = model_selection.KFold(n_splits=10)\n",
        "\tcv_results = model_selection.cross_val_score(estimator = model, X = X_train, y = y_train, cv = 100)\n",
        "\tresults.append(cv_results)\n",
        "\tnames.append(name)\n",
        "\tmsg = \"%s: %f (%f)\" % (name, cv_results.mean(), cv_results.std())\n",
        "\tprint(msg)"
      ],
      "execution_count": 87,
      "outputs": [
        {
          "output_type": "stream",
          "name": "stderr",
          "text": [
            "/usr/local/lib/python3.10/dist-packages/sklearn/model_selection/_split.py:776: UserWarning: The least populated class in y has only 47 members, which is less than n_splits=100.\n",
            "  warnings.warn(\n"
          ]
        },
        {
          "output_type": "stream",
          "name": "stdout",
          "text": [
            "LR: 0.785833 (0.204551)\n"
          ]
        },
        {
          "output_type": "stream",
          "name": "stderr",
          "text": [
            "/usr/local/lib/python3.10/dist-packages/sklearn/model_selection/_split.py:776: UserWarning: The least populated class in y has only 47 members, which is less than n_splits=100.\n",
            "  warnings.warn(\n"
          ]
        },
        {
          "output_type": "stream",
          "name": "stdout",
          "text": [
            "RF: 0.789167 (0.199811)\n"
          ]
        }
      ]
    },
    {
      "cell_type": "markdown",
      "metadata": {
        "id": "ZWR-z9TjWwLl"
      },
      "source": [
        "**boxplot algorithm comparison**"
      ]
    },
    {
      "cell_type": "code",
      "metadata": {
        "colab": {
          "base_uri": "https://localhost:8080/",
          "height": 478
        },
        "id": "h84z3opbW1-F",
        "outputId": "aa559b43-ed11-49b4-a5a5-87df61f6142b"
      },
      "source": [
        "fig = plt.figure()\n",
        "fig.suptitle('Algorithm Comparison')\n",
        "ax = fig.add_subplot(111)\n",
        "plt.boxplot(results)\n",
        "ax.set_xticklabels(names)\n",
        "plt.show()"
      ],
      "execution_count": 88,
      "outputs": [
        {
          "output_type": "display_data",
          "data": {
            "text/plain": [
              "<Figure size 640x480 with 1 Axes>"
            ],
            "image/png": "[encoded data removed]"
          },
          "metadata": {}
        }
      ]
    }
  ]
}