{
  "nbformat": 4,
  "nbformat_minor": 0,
  "metadata": {
    "colab": {
      "provenance": [],
      "authorship_tag": "ABX9TyOepNIdA8nD0i3PUcTpggI8",
      "include_colab_link": true
    },
    "kernelspec": {
      "name": "python3",
      "display_name": "Python 3"
    },
    "language_info": {
      "name": "python"
    }
  },
  "cells": [
    {
      "cell_type": "markdown",
      "metadata": {
        "id": "view-in-github",
        "colab_type": "text"
      },
      "source": [
        "<a href=\"https://colab.research.google.com/github/AhmedAboushanab/My-Python-Works/blob/master/Dividing_the_strings_into_individual_Characters.ipynb\" target=\"_parent\"><img src=\"https://colab.research.google.com/assets/colab-badge.svg\" alt=\"Open In Colab\"/></a>"
      ]
    },
    {
      "cell_type": "code",
      "source": [
        "import pandas as pd\n",
        "import numpy as np"
      ],
      "metadata": {
        "id": "hIWLzl0q7rLZ"
      },
      "execution_count": 1,
      "outputs": []
    },
    {
      "cell_type": "code",
      "source": [
        "Data = pd.read_csv(\"Seqs-2.csv\")"
      ],
      "metadata": {
        "id": "tPj-Vg7i6Sv3"
      },
      "execution_count": 2,
      "outputs": []
    },
    {
      "cell_type": "markdown",
      "source": [
        "**For Heavy chain**"
      ],
      "metadata": {
        "id": "9b5tq46Hd9lM"
      }
    },
    {
      "cell_type": "code",
      "source": [
        "Heavy_Chain = Data['heavy chain sequence']\n",
        "Keys = Data['Heavy Chain ID']\n",
        "Heavy_Chain[1][1]\n",
        "Keys"
      ],
      "metadata": {
        "colab": {
          "base_uri": "https://localhost:8080/",
          "height": 1000
        },
        "id": "oTcDhBca6n8F",
        "outputId": "09fbca2f-2eea-4a13-cc80-032d3fac4eac"
      },
      "execution_count": 115,
      "outputs": [
        {
          "output_type": "execute_result",
          "data": {
            "text/plain": [
              "0                            WT\n",
              "1                          LLKK\n",
              "2                       KWEPAYY\n",
              "3                  Dara-KWEPAYY\n",
              "4                          PIQ \n",
              "5                     thin-life\n",
              "6             ultimate-mountain\n",
              "7              cheap-appearance\n",
              "8              autonomous-chief\n",
              "9             mysterious-scheme\n",
              "10    half of: sepcific-english\n",
              "11                radical-size2\n",
              "12            latter-exhibition\n",
              "13                 trivial-step\n",
              "14                paddle-tennis\n",
              "15             provincial-board\n",
              "16                thorough-lake\n",
              "17             beneficial-sport\n",
              "18                          LRP\n",
              "19                          GIF\n",
              "20                          KLF\n",
              "21                          RNQ\n",
              "22                          RRT\n",
              "23                          AIL\n",
              "24                           IN\n",
              "25                          AGR\n",
              "26                          AAP\n",
              "27                          IFL\n",
              "28                          IQY\n",
              "29                          TYA\n",
              "30                          AGG\n",
              "31                          KLI\n",
              "32            experimental-hand\n",
              "33             supreme-security\n",
              "34                 overall-army\n",
              "35                          IRF\n",
              "36                          ILK\n",
              "37                          RIP\n",
              "38                          FVG\n",
              "39                          GVP\n",
              "40                          VQN\n",
              "41                          KTG\n",
              "42                          VRV\n",
              "43                          AIF\n",
              "44                          TFT\n",
              "45                          TLG\n",
              "46                          FGF\n",
              "47                          TTG\n",
              "48                          LGI\n",
              "49                          IKV\n",
              "50                          TFF\n",
              "51                          SPI\n",
              "52           SPI variant -1 (s)\n",
              "53           SPI variant -2 (p)\n",
              "54           SPI variant -3 (I)\n",
              "55         SPI variant - 4 (SP)\n",
              "56         SPI variant - 5 (SI)\n",
              "57         SPI variant - 6 (PI)\n",
              "58           Passionate Output \n",
              "Name: Heavy Chain ID, dtype: object"
            ],
            "text/html": [
              "<div>\n",
              "<style scoped>\n",
              "    .dataframe tbody tr th:only-of-type {\n",
              "        vertical-align: middle;\n",
              "    }\n",
              "\n",
              "    .dataframe tbody tr th {\n",
              "        vertical-align: top;\n",
              "    }\n",
              "\n",
              "    .dataframe thead th {\n",
              "        text-align: right;\n",
              "    }\n",
              "</style>\n",
              "<table border=\"1\" class=\"dataframe\">\n",
              "  <thead>\n",
              "    <tr style=\"text-align: right;\">\n",
              "      <th></th>\n",
              "      <th>Heavy Chain ID</th>\n",
              "    </tr>\n",
              "  </thead>\n",
              "  <tbody>\n",
              "    <tr>\n",
              "      <th>0</th>\n",
              "      <td>WT</td>\n",
              "    </tr>\n",
              "    <tr>\n",
              "      <th>1</th>\n",
              "      <td>LLKK</td>\n",
              "    </tr>\n",
              "    <tr>\n",
              "      <th>2</th>\n",
              "      <td>KWEPAYY</td>\n",
              "    </tr>\n",
              "    <tr>\n",
              "      <th>3</th>\n",
              "      <td>Dara-KWEPAYY</td>\n",
              "    </tr>\n",
              "    <tr>\n",
              "      <th>4</th>\n",
              "      <td>PIQ</td>\n",
              "    </tr>\n",
              "    <tr>\n",
              "      <th>5</th>\n",
              "      <td>thin-life</td>\n",
              "    </tr>\n",
              "    <tr>\n",
              "      <th>6</th>\n",
              "      <td>ultimate-mountain</td>\n",
              "    </tr>\n",
              "    <tr>\n",
              "      <th>7</th>\n",
              "      <td>cheap-appearance</td>\n",
              "    </tr>\n",
              "    <tr>\n",
              "      <th>8</th>\n",
              "      <td>autonomous-chief</td>\n",
              "    </tr>\n",
              "    <tr>\n",
              "      <th>9</th>\n",
              "      <td>mysterious-scheme</td>\n",
              "    </tr>\n",
              "    <tr>\n",
              "      <th>10</th>\n",
              "      <td>half of: sepcific-english</td>\n",
              "    </tr>\n",
              "    <tr>\n",
              "      <th>11</th>\n",
              "      <td>radical-size2</td>\n",
              "    </tr>\n",
              "    <tr>\n",
              "      <th>12</th>\n",
              "      <td>latter-exhibition</td>\n",
              "    </tr>\n",
              "    <tr>\n",
              "      <th>13</th>\n",
              "      <td>trivial-step</td>\n",
              "    </tr>\n",
              "    <tr>\n",
              "      <th>14</th>\n",
              "      <td>paddle-tennis</td>\n",
              "    </tr>\n",
              "    <tr>\n",
              "      <th>15</th>\n",
              "      <td>provincial-board</td>\n",
              "    </tr>\n",
              "    <tr>\n",
              "      <th>16</th>\n",
              "      <td>thorough-lake</td>\n",
              "    </tr>\n",
              "    <tr>\n",
              "      <th>17</th>\n",
              "      <td>beneficial-sport</td>\n",
              "    </tr>\n",
              "    <tr>\n",
              "      <th>18</th>\n",
              "      <td>LRP</td>\n",
              "    </tr>\n",
              "    <tr>\n",
              "      <th>19</th>\n",
              "      <td>GIF</td>\n",
              "    </tr>\n",
              "    <tr>\n",
              "      <th>20</th>\n",
              "      <td>KLF</td>\n",
              "    </tr>\n",
              "    <tr>\n",
              "      <th>21</th>\n",
              "      <td>RNQ</td>\n",
              "    </tr>\n",
              "    <tr>\n",
              "      <th>22</th>\n",
              "      <td>RRT</td>\n",
              "    </tr>\n",
              "    <tr>\n",
              "      <th>23</th>\n",
              "      <td>AIL</td>\n",
              "    </tr>\n",
              "    <tr>\n",
              "      <th>24</th>\n",
              "      <td>IN</td>\n",
              "    </tr>\n",
              "    <tr>\n",
              "      <th>25</th>\n",
              "      <td>AGR</td>\n",
              "    </tr>\n",
              "    <tr>\n",
              "      <th>26</th>\n",
              "      <td>AAP</td>\n",
              "    </tr>\n",
              "    <tr>\n",
              "      <th>27</th>\n",
              "      <td>IFL</td>\n",
              "    </tr>\n",
              "    <tr>\n",
              "      <th>28</th>\n",
              "      <td>IQY</td>\n",
              "    </tr>\n",
              "    <tr>\n",
              "      <th>29</th>\n",
              "      <td>TYA</td>\n",
              "    </tr>\n",
              "    <tr>\n",
              "      <th>30</th>\n",
              "      <td>AGG</td>\n",
              "    </tr>\n",
              "    <tr>\n",
              "      <th>31</th>\n",
              "      <td>KLI</td>\n",
              "    </tr>\n",
              "    <tr>\n",
              "      <th>32</th>\n",
              "      <td>experimental-hand</td>\n",
              "    </tr>\n",
              "    <tr>\n",
              "      <th>33</th>\n",
              "      <td>supreme-security</td>\n",
              "    </tr>\n",
              "    <tr>\n",
              "      <th>34</th>\n",
              "      <td>overall-army</td>\n",
              "    </tr>\n",
              "    <tr>\n",
              "      <th>35</th>\n",
              "      <td>IRF</td>\n",
              "    </tr>\n",
              "    <tr>\n",
              "      <th>36</th>\n",
              "      <td>ILK</td>\n",
              "    </tr>\n",
              "    <tr>\n",
              "      <th>37</th>\n",
              "      <td>RIP</td>\n",
              "    </tr>\n",
              "    <tr>\n",
              "      <th>38</th>\n",
              "      <td>FVG</td>\n",
              "    </tr>\n",
              "    <tr>\n",
              "      <th>39</th>\n",
              "      <td>GVP</td>\n",
              "    </tr>\n",
              "    <tr>\n",
              "      <th>40</th>\n",
              "      <td>VQN</td>\n",
              "    </tr>\n",
              "    <tr>\n",
              "      <th>41</th>\n",
              "      <td>KTG</td>\n",
              "    </tr>\n",
              "    <tr>\n",
              "      <th>42</th>\n",
              "      <td>VRV</td>\n",
              "    </tr>\n",
              "    <tr>\n",
              "      <th>43</th>\n",
              "      <td>AIF</td>\n",
              "    </tr>\n",
              "    <tr>\n",
              "      <th>44</th>\n",
              "      <td>TFT</td>\n",
              "    </tr>\n",
              "    <tr>\n",
              "      <th>45</th>\n",
              "      <td>TLG</td>\n",
              "    </tr>\n",
              "    <tr>\n",
              "      <th>46</th>\n",
              "      <td>FGF</td>\n",
              "    </tr>\n",
              "    <tr>\n",
              "      <th>47</th>\n",
              "      <td>TTG</td>\n",
              "    </tr>\n",
              "    <tr>\n",
              "      <th>48</th>\n",
              "      <td>LGI</td>\n",
              "    </tr>\n",
              "    <tr>\n",
              "      <th>49</th>\n",
              "      <td>IKV</td>\n",
              "    </tr>\n",
              "    <tr>\n",
              "      <th>50</th>\n",
              "      <td>TFF</td>\n",
              "    </tr>\n",
              "    <tr>\n",
              "      <th>51</th>\n",
              "      <td>SPI</td>\n",
              "    </tr>\n",
              "    <tr>\n",
              "      <th>52</th>\n",
              "      <td>SPI variant -1 (s)</td>\n",
              "    </tr>\n",
              "    <tr>\n",
              "      <th>53</th>\n",
              "      <td>SPI variant -2 (p)</td>\n",
              "    </tr>\n",
              "    <tr>\n",
              "      <th>54</th>\n",
              "      <td>SPI variant -3 (I)</td>\n",
              "    </tr>\n",
              "    <tr>\n",
              "      <th>55</th>\n",
              "      <td>SPI variant - 4 (SP)</td>\n",
              "    </tr>\n",
              "    <tr>\n",
              "      <th>56</th>\n",
              "      <td>SPI variant - 5 (SI)</td>\n",
              "    </tr>\n",
              "    <tr>\n",
              "      <th>57</th>\n",
              "      <td>SPI variant - 6 (PI)</td>\n",
              "    </tr>\n",
              "    <tr>\n",
              "      <th>58</th>\n",
              "      <td>Passionate Output</td>\n",
              "    </tr>\n",
              "  </tbody>\n",
              "</table>\n",
              "</div><br><label><b>dtype:</b> object</label>"
            ]
          },
          "metadata": {},
          "execution_count": 115
        }
      ]
    },
    {
      "cell_type": "code",
      "source": [
        "# Dividing the sting into a list of strings\n",
        "List = Heavy_Chain[1]\n",
        "x=[i for a,i in enumerate(List) ]\n",
        "print(x)"
      ],
      "metadata": {
        "colab": {
          "base_uri": "https://localhost:8080/"
        },
        "id": "aUIaDlWlmINC",
        "outputId": "be9c2874-3ea9-4a20-c530-c1b0a5f4f343"
      },
      "execution_count": 160,
      "outputs": [
        {
          "output_type": "stream",
          "name": "stdout",
          "text": [
            "['E', 'V', 'Q', 'L', 'L', 'E', 'S', 'G', 'G', 'G', 'L', 'V', 'Q', 'P', 'G', 'G', 'S', 'L', 'R', 'L', 'S', 'C', 'A', 'V', 'S', 'G', 'F', 'T', 'F', 'N', 'S', 'F', 'A', 'M', 'S', 'W', 'V', 'R', 'Q', 'A', 'P', 'G', 'K', 'G', 'L', 'E', 'W', 'V', 'S', 'A', 'I', 'S', 'G', 'S', 'G', 'G', 'G', 'T', 'Y', 'Y', 'A', 'D', 'S', 'V', 'K', 'G', 'R', 'F', 'T', 'I', 'S', 'R', 'D', 'N', 'S', 'K', 'N', 'T', 'L', 'Y', 'L', 'Q', 'M', 'N', 'S', 'L', 'R', 'A', 'E', 'D', 'T', 'A', 'V', 'Y', 'F', 'C', 'A', 'K', 'D', 'K', 'I', 'L', 'W', 'F', 'G', 'E', 'P', 'V', 'F', 'D', 'Y', 'W', 'G', 'Q', 'G', 'T', 'L', 'V', 'T', 'V', 'S', 'S', 'A', 'S', 'T', 'K', 'G', 'P', 'S', 'V', 'F', 'P', 'L', 'A', 'P', 'S', 'S', 'K', 'S', 'T', 'S', 'G', 'G', 'T', 'A', 'A', 'L', 'G', 'C', 'L', 'V', 'K', 'D', 'Y', 'F', 'P', 'E', 'P', 'V', 'T', 'V', 'S', 'W', 'N', 'S', 'G', 'A', 'L', 'T', 'S', 'G', 'V', 'H', 'T', 'F', 'P', 'A', 'V', 'L', 'Q', 'S', 'S', 'G', 'L', 'Y', 'S', 'L', 'S', 'S', 'V', 'V', 'T', 'V', 'P', 'S', 'S', 'S', 'L', 'G', 'T', 'Q', 'T', 'Y', 'I', 'C', 'N', 'V', 'N', 'H', 'K', 'P', 'S', 'N', 'T', 'K', 'V', 'D', 'K', 'R', 'V', 'E', 'P', 'K', 'S', 'C', 'D', 'K', 'T', 'H', 'T', 'C', 'P', 'P', 'C', 'P', 'A', 'P', 'E', 'L', 'K', 'G', 'G', 'P', 'S', 'V', 'F', 'L', 'F', 'P', 'P', 'K', 'P', 'K', 'D', 'T', 'L', 'M', 'I', 'S', 'R', 'T', 'P', 'E', 'V', 'T', 'C', 'V', 'V', 'V', 'D', 'V', 'S', 'H', 'E', 'D', 'P', 'E', 'V', 'K', 'F', 'N', 'W', 'Y', 'V', 'D', 'G', 'V', 'E', 'V', 'H', 'N', 'A', 'K', 'T', 'K', 'P', 'R', 'E', 'E', 'Q', 'Y', 'N', 'S', 'T', 'Y', 'R', 'V', 'V', 'S', 'V', 'L', 'T', 'V', 'K', 'H', 'Q', 'D', 'W', 'L', 'N', 'G', 'K', 'E', 'Y', 'K', 'C', 'K', 'V', 'S', 'N', 'K', 'A', 'L', 'P', 'A', 'P', 'I', 'E', 'K', 'T', 'I', 'S', 'K', 'A', 'K', 'G', 'Q', 'P', 'R', 'E', 'P', 'Q', 'V', 'Y', 'T', 'L', 'P', 'P', 'S', 'R', 'D', 'E', 'L', 'T', 'K', 'N', 'Q', 'V', 'S', 'L', 'T', 'C', 'L', 'V', 'K', 'G', 'F', 'Y', 'P', 'S', 'D', 'I', 'A', 'V', 'E', 'W', 'E', 'S', 'N', 'G', 'Q', 'P', 'E', 'N', 'N', 'Y', 'K', 'T', 'T', 'P', 'P', 'V', 'L', 'D', 'S', 'D', 'G', 'S', 'F', 'F', 'L', 'Y', 'S', 'K', 'L', 'T', 'V', 'D', 'K', 'S', 'R', 'W', 'Q', 'Q', 'G', 'N', 'V', 'F', 'S', 'C', 'S', 'V', 'M', 'H', 'E', 'A', 'L', 'H', 'N', 'H', 'Y', 'T', 'Q', 'K', 'S', 'L', 'S', 'L', 'S', 'P', 'G', 'K']\n"
          ]
        }
      ]
    },
    {
      "cell_type": "code",
      "source": [
        "Dictionary_1 = {Keys[i]: Heavy_Chain[i] for i in range(len(Heavy_Chain))}\n",
        "Dictionary_1['WT'][1]"
      ],
      "metadata": {
        "colab": {
          "base_uri": "https://localhost:8080/",
          "height": 35
        },
        "id": "y0UdOIxAZwaS",
        "outputId": "37852ffa-8993-415c-bb21-860619f4ea45"
      },
      "execution_count": 164,
      "outputs": [
        {
          "output_type": "execute_result",
          "data": {
            "text/plain": [
              "'V'"
            ],
            "application/vnd.google.colaboratory.intrinsic+json": {
              "type": "string"
            }
          },
          "metadata": {},
          "execution_count": 164
        }
      ]
    },
    {
      "cell_type": "code",
      "source": [
        "Dictionary_1.keys()\n",
        "list(Dictionary_1.keys())[1]"
      ],
      "metadata": {
        "colab": {
          "base_uri": "https://localhost:8080/",
          "height": 35
        },
        "id": "vi5HghoDhuvJ",
        "outputId": "e422dd62-395b-47bc-a3c0-11ea29d7f403"
      },
      "execution_count": 169,
      "outputs": [
        {
          "output_type": "execute_result",
          "data": {
            "text/plain": [
              "' LLKK'"
            ],
            "application/vnd.google.colaboratory.intrinsic+json": {
              "type": "string"
            }
          },
          "metadata": {},
          "execution_count": 169
        }
      ]
    },
    {
      "cell_type": "code",
      "source": [
        "list2 = {}\n",
        "for i in range(len(list(Dictionary_1.keys()))):\n",
        "    key = list(Dictionary_1.keys())[i]  # Get the key\n",
        "    value = [j for a, j in enumerate(Heavy_Chain[i])] # Extract the value for list2\n",
        "    #Check if the Key is in the list2 if not create an empty list for that key:\n",
        "    if key not in list2:\n",
        "        list2[key] = []\n",
        "    list2[key].append(value)"
      ],
      "metadata": {
        "id": "gb7HMnjlw1tl"
      },
      "execution_count": 175,
      "outputs": []
    },
    {
      "cell_type": "code",
      "source": [
        "print(list2)"
      ],
      "metadata": {
        "colab": {
          "base_uri": "https://localhost:8080/"
        },
        "id": "RETxTPr8CsuH",
        "outputId": "f7f41455-7743-4318-8913-6a759de0e2e8"
      },
      "execution_count": 176,
      "outputs": [
        {
          "output_type": "stream",
          "name": "stdout",
          "text": [
            "{'WT': [['E', 'V', 'Q', 'L', 'L', 'E', 'S', 'G', 'G', 'G', 'L', 'V', 'Q', 'P', 'G', 'G', 'S', 'L', 'R', 'L', 'S', 'C', 'A', 'V', 'S', 'G', 'F', 'T', 'F', 'N', 'S', 'F', 'A', 'M', 'S', 'W', 'V', 'R', 'Q', 'A', 'P', 'G', 'K', 'G', 'L', 'E', 'W', 'V', 'S', 'A', 'I', 'S', 'G', 'S', 'G', 'G', 'G', 'T', 'Y', 'Y', 'A', 'D', 'S', 'V', 'K', 'G', 'R', 'F', 'T', 'I', 'S', 'R', 'D', 'N', 'S', 'K', 'N', 'T', 'L', 'Y', 'L', 'Q', 'M', 'N', 'S', 'L', 'R', 'A', 'E', 'D', 'T', 'A', 'V', 'Y', 'F', 'C', 'A', 'K', 'D', 'K', 'I', 'L', 'W', 'F', 'G', 'E', 'P', 'V', 'F', 'D', 'Y', 'W', 'G', 'Q', 'G', 'T', 'L', 'V', 'T', 'V', 'S', 'S', 'A', 'S', 'T', 'K', 'G', 'P', 'S', 'V', 'F', 'P', 'L', 'A', 'P', 'S', 'S', 'K', 'S', 'T', 'S', 'G', 'G', 'T', 'A', 'A', 'L', 'G', 'C', 'L', 'V', 'K', 'D', 'Y', 'F', 'P', 'E', 'P', 'V', 'T', 'V', 'S', 'W', 'N', 'S', 'G', 'A', 'L', 'T', 'S', 'G', 'V', 'H', 'T', 'F', 'P', 'A', 'V', 'L', 'Q', 'S', 'S', 'G', 'L', 'Y', 'S', 'L', 'S', 'S', 'V', 'V', 'T', 'V', 'P', 'S', 'S', 'S', 'L', 'G', 'T', 'Q', 'T', 'Y', 'I', 'C', 'N', 'V', 'N', 'H', 'K', 'P', 'S', 'N', 'T', 'K', 'V', 'D', 'K', 'R', 'V', 'E', 'P', 'K', 'S', 'C', 'D', 'K', 'T', 'H', 'T', 'C', 'P', 'P', 'C', 'P', 'A', 'P', 'E', 'L', 'L', 'G', 'G', 'P', 'S', 'V', 'F', 'L', 'F', 'P', 'P', 'K', 'P', 'K', 'D', 'T', 'L', 'M', 'I', 'S', 'R', 'T', 'P', 'E', 'V', 'T', 'C', 'V', 'V', 'V', 'D', 'V', 'S', 'H', 'E', 'D', 'P', 'E', 'V', 'K', 'F', 'N', 'W', 'Y', 'V', 'D', 'G', 'V', 'E', 'V', 'H', 'N', 'A', 'K', 'T', 'K', 'P', 'R', 'E', 'E', 'Q', 'Y', 'N', 'S', 'T', 'Y', 'R', 'V', 'V', 'S', 'V', 'L', 'T', 'V', 'L', 'H', 'Q', 'D', 'W', 'L', 'N', 'G', 'K', 'E', 'Y', 'K', 'C', 'K', 'V', 'S', 'N', 'K', 'A', 'L', 'P', 'A', 'P', 'I', 'E', 'K', 'T', 'I', 'S', 'K', 'A', 'K', 'G', 'Q', 'P', 'R', 'E', 'P', 'Q', 'V', 'Y', 'T', 'L', 'P', 'P', 'S', 'R', 'D', 'E', 'L', 'T', 'K', 'N', 'Q', 'V', 'S', 'L', 'T', 'C', 'L', 'V', 'K', 'G', 'F', 'Y', 'P', 'S', 'D', 'I', 'A', 'V', 'E', 'W', 'E', 'S', 'N', 'G', 'Q', 'P', 'E', 'N', 'N', 'Y', 'K', 'T', 'T', 'P', 'P', 'V', 'L', 'D', 'S', 'D', 'G', 'S', 'F', 'F', 'L', 'Y', 'S', 'K', 'L', 'T', 'V', 'D', 'K', 'S', 'R', 'W', 'Q', 'Q', 'G', 'N', 'V', 'F', 'S', 'C', 'S', 'V', 'M', 'H', 'E', 'A', 'L', 'H', 'N', 'H', 'Y', 'T', 'Q', 'K', 'S', 'L', 'S', 'L', 'S', 'P', 'G', 'K']], ' LLKK': [['E', 'V', 'Q', 'L', 'L', 'E', 'S', 'G', 'G', 'G', 'L', 'V', 'Q', 'P', 'G', 'G', 'S', 'L', 'R', 'L', 'S', 'C', 'A', 'V', 'S', 'G', 'F', 'T', 'F', 'N', 'S', 'F', 'A', 'M', 'S', 'W', 'V', 'R', 'Q', 'A', 'P', 'G', 'K', 'G', 'L', 'E', 'W', 'V', 'S', 'A', 'I', 'S', 'G', 'S', 'G', 'G', 'G', 'T', 'Y', 'Y', 'A', 'D', 'S', 'V', 'K', 'G', 'R', 'F', 'T', 'I', 'S', 'R', 'D', 'N', 'S', 'K', 'N', 'T', 'L', 'Y', 'L', 'Q', 'M', 'N', 'S', 'L', 'R', 'A', 'E', 'D', 'T', 'A', 'V', 'Y', 'F', 'C', 'A', 'K', 'D', 'K', 'I', 'L', 'W', 'F', 'G', 'E', 'P', 'V', 'F', 'D', 'Y', 'W', 'G', 'Q', 'G', 'T', 'L', 'V', 'T', 'V', 'S', 'S', 'A', 'S', 'T', 'K', 'G', 'P', 'S', 'V', 'F', 'P', 'L', 'A', 'P', 'S', 'S', 'K', 'S', 'T', 'S', 'G', 'G', 'T', 'A', 'A', 'L', 'G', 'C', 'L', 'V', 'K', 'D', 'Y', 'F', 'P', 'E', 'P', 'V', 'T', 'V', 'S', 'W', 'N', 'S', 'G', 'A', 'L', 'T', 'S', 'G', 'V', 'H', 'T', 'F', 'P', 'A', 'V', 'L', 'Q', 'S', 'S', 'G', 'L', 'Y', 'S', 'L', 'S', 'S', 'V', 'V', 'T', 'V', 'P', 'S', 'S', 'S', 'L', 'G', 'T', 'Q', 'T', 'Y', 'I', 'C', 'N', 'V', 'N', 'H', 'K', 'P', 'S', 'N', 'T', 'K', 'V', 'D', 'K', 'R', 'V', 'E', 'P', 'K', 'S', 'C', 'D', 'K', 'T', 'H', 'T', 'C', 'P', 'P', 'C', 'P', 'A', 'P', 'E', 'L', 'K', 'G', 'G', 'P', 'S', 'V', 'F', 'L', 'F', 'P', 'P', 'K', 'P', 'K', 'D', 'T', 'L', 'M', 'I', 'S', 'R', 'T', 'P', 'E', 'V', 'T', 'C', 'V', 'V', 'V', 'D', 'V', 'S', 'H', 'E', 'D', 'P', 'E', 'V', 'K', 'F', 'N', 'W', 'Y', 'V', 'D', 'G', 'V', 'E', 'V', 'H', 'N', 'A', 'K', 'T', 'K', 'P', 'R', 'E', 'E', 'Q', 'Y', 'N', 'S', 'T', 'Y', 'R', 'V', 'V', 'S', 'V', 'L', 'T', 'V', 'K', 'H', 'Q', 'D', 'W', 'L', 'N', 'G', 'K', 'E', 'Y', 'K', 'C', 'K', 'V', 'S', 'N', 'K', 'A', 'L', 'P', 'A', 'P', 'I', 'E', 'K', 'T', 'I', 'S', 'K', 'A', 'K', 'G', 'Q', 'P', 'R', 'E', 'P', 'Q', 'V', 'Y', 'T', 'L', 'P', 'P', 'S', 'R', 'D', 'E', 'L', 'T', 'K', 'N', 'Q', 'V', 'S', 'L', 'T', 'C', 'L', 'V', 'K', 'G', 'F', 'Y', 'P', 'S', 'D', 'I', 'A', 'V', 'E', 'W', 'E', 'S', 'N', 'G', 'Q', 'P', 'E', 'N', 'N', 'Y', 'K', 'T', 'T', 'P', 'P', 'V', 'L', 'D', 'S', 'D', 'G', 'S', 'F', 'F', 'L', 'Y', 'S', 'K', 'L', 'T', 'V', 'D', 'K', 'S', 'R', 'W', 'Q', 'Q', 'G', 'N', 'V', 'F', 'S', 'C', 'S', 'V', 'M', 'H', 'E', 'A', 'L', 'H', 'N', 'H', 'Y', 'T', 'Q', 'K', 'S', 'L', 'S', 'L', 'S', 'P', 'G', 'K']], 'KWEPAYY': [['Q', 'V', 'Q', 'L', 'Q', 'E', 'S', 'G', 'P', 'G', 'L', 'V', 'K', 'P', 'S', 'E', 'T', 'L', 'S', 'L', 'T', 'C', 'A', 'V', 'S', 'G', 'H', 'S', 'I', 'S', 'H', 'D', 'H', 'A', 'W', 'S', 'W', 'V', 'R', 'Q', 'P', 'P', 'G', 'E', 'G', 'L', 'E', 'W', 'I', 'G', 'F', 'I', 'S', 'Y', 'S', 'G', 'I', 'T', 'N', 'Y', 'N', 'P', 'S', 'L', 'Q', 'G', 'R', 'V', 'T', 'I', 'S', 'R', 'D', 'N', 'S', 'K', 'N', 'T', 'L', 'Y', 'L', 'Q', 'M', 'N', 'S', 'L', 'R', 'A', 'E', 'D', 'T', 'A', 'V', 'Y', 'Y', 'C', 'A', 'R', 'S', 'L', 'A', 'R', 'T', 'T', 'A', 'M', 'D', 'Y', 'W', 'G', 'E', 'G', 'T', 'L', 'V', 'T', 'V', 'S', 'S', 'A', 'S', 'T', 'K', 'G', 'P', 'S', 'V', 'F', 'P', 'L', 'A', 'P', 'S', 'S', 'K', 'S', 'T', 'S', 'G', 'G', 'T', 'A', 'A', 'L', 'G', 'C', 'L', 'V', 'K', 'D', 'Y', 'F', 'P', 'E', 'P', 'V', 'T', 'V', 'S', 'W', 'N', 'S', 'G', 'A', 'L', 'T', 'S', 'G', 'V', 'H', 'T', 'F', 'P', 'A', 'V', 'L', 'Q', 'S', 'S', 'G', 'L', 'Y', 'S', 'L', 'S', 'S', 'V', 'V', 'T', 'V', 'P', 'S', 'S', 'S', 'L', 'G', 'T', 'Q', 'T', 'Y', 'I', 'C', 'N', 'V', 'N', 'H', 'K', 'P', 'S', 'N', 'T', 'K', 'V', 'D', 'K', 'K', 'V', 'E', 'P', 'K', 'S', 'C', 'D', 'K', 'T', 'H', 'T', 'C', 'P', 'P', 'C', 'P', 'A', 'P', 'E', 'L', 'L', 'G', 'G', 'P', 'K', 'V', 'F', 'L', 'F', 'P', 'P', 'K', 'P', 'K', 'D', 'T', 'L', 'W', 'I', 'S', 'R', 'E', 'P', 'E', 'V', 'T', 'C', 'V', 'V', 'V', 'D', 'V', 'S', 'H', 'E', 'D', 'P', 'E', 'V', 'K', 'F', 'N', 'W', 'Y', 'V', 'D', 'G', 'V', 'E', 'V', 'H', 'N', 'A', 'K', 'T', 'K', 'P', 'R', 'E', 'E', 'Q', 'Y', 'N', 'S', 'T', 'Y', 'R', 'V', 'V', 'S', 'V', 'L', 'T', 'P', 'L', 'H', 'A', 'D', 'W', 'L', 'N', 'G', 'K', 'E', 'Y', 'K', 'C', 'K', 'V', 'S', 'N', 'K', 'A', 'L', 'P', 'A', 'P', 'I', 'E', 'K', 'T', 'I', 'S', 'K', 'A', 'K', 'G', 'Q', 'P', 'R', 'E', 'P', 'Q', 'V', 'Y', 'T', 'L', 'P', 'P', 'S', 'R', 'D', 'E', 'L', 'T', 'K', 'N', 'Q', 'V', 'S', 'L', 'T', 'C', 'L', 'V', 'K', 'G', 'F', 'Y', 'P', 'S', 'D', 'I', 'A', 'V', 'E', 'W', 'E', 'S', 'N', 'G', 'Q', 'P', 'E', 'N', 'N', 'Y', 'K', 'T', 'T', 'P', 'P', 'V', 'L', 'D', 'S', 'D', 'G', 'S', 'F', 'F', 'L', 'Y', 'S', 'K', 'L', 'T', 'V', 'D', 'K', 'S', 'R', 'W', 'Q', 'Q', 'G', 'N', 'V', 'F', 'S', 'C', 'S', 'V', 'Y', 'H', 'E', 'A', 'L', 'H', 'Y', 'H', 'Y', 'T', 'Q', 'K', 'S', 'L', 'S', 'L', 'S', 'P']], 'Dara-KWEPAYY': [['E', 'V', 'Q', 'L', 'L', 'E', 'S', 'G', 'G', 'G', 'L', 'V', 'Q', 'P', 'G', 'G', 'S', 'L', 'R', 'L', 'S', 'C', 'A', 'V', 'S', 'G', 'F', 'T', 'F', 'N', 'S', 'F', 'A', 'M', 'S', 'W', 'V', 'R', 'Q', 'A', 'P', 'G', 'K', 'G', 'L', 'E', 'W', 'V', 'S', 'A', 'I', 'S', 'G', 'S', 'G', 'G', 'G', 'T', 'Y', 'Y', 'A', 'D', 'S', 'V', 'K', 'G', 'R', 'F', 'T', 'I', 'S', 'R', 'D', 'N', 'S', 'K', 'N', 'T', 'L', 'Y', 'L', 'Q', 'M', 'N', 'S', 'L', 'R', 'A', 'E', 'D', 'T', 'A', 'V', 'Y', 'F', 'C', 'A', 'K', 'D', 'K', 'I', 'L', 'W', 'F', 'G', 'E', 'P', 'V', 'F', 'D', 'Y', 'W', 'G', 'Q', 'G', 'T', 'L', 'V', 'T', 'V', 'S', 'S', 'A', 'S', 'T', 'K', 'G', 'P', 'S', 'V', 'F', 'P', 'L', 'A', 'P', 'S', 'S', 'K', 'S', 'T', 'S', 'G', 'G', 'T', 'A', 'A', 'L', 'G', 'C', 'L', 'V', 'K', 'D', 'Y', 'F', 'P', 'E', 'P', 'V', 'T', 'V', 'S', 'W', 'N', 'S', 'G', 'A', 'L', 'T', 'S', 'G', 'V', 'H', 'T', 'F', 'P', 'A', 'V', 'L', 'Q', 'S', 'S', 'G', 'L', 'Y', 'S', 'L', 'S', 'S', 'V', 'V', 'T', 'V', 'P', 'S', 'S', 'S', 'L', 'G', 'T', 'Q', 'T', 'Y', 'I', 'C', 'N', 'V', 'N', 'H', 'K', 'P', 'S', 'N', 'T', 'K', 'V', 'D', 'K', 'R', 'V', 'E', 'P', 'K', 'S', 'C', 'D', 'K', 'T', 'H', 'T', 'C', 'P', 'P', 'C', 'P', 'A', 'P', 'E', 'L', 'L', 'G', 'G', 'P', 'K', 'V', 'F', 'L', 'F', 'P', 'P', 'K', 'P', 'K', 'D', 'T', 'L', 'W', 'I', 'S', 'R', 'E', 'P', 'E', 'V', 'T', 'C', 'V', 'V', 'V', 'D', 'V', 'S', 'H', 'E', 'D', 'P', 'E', 'V', 'K', 'F', 'N', 'W', 'Y', 'V', 'D', 'G', 'V', 'E', 'V', 'H', 'N', 'A', 'K', 'T', 'K', 'P', 'R', 'E', 'E', 'Q', 'Y', 'N', 'S', 'T', 'Y', 'R', 'V', 'V', 'S', 'V', 'L', 'T', 'P', 'L', 'H', 'A', 'D', 'W', 'L', 'N', 'G', 'K', 'E', 'Y', 'K', 'C', 'K', 'V', 'S', 'N', 'K', 'A', 'L', 'P', 'A', 'P', 'I', 'E', 'K', 'T', 'I', 'S', 'K', 'A', 'K', 'G', 'Q', 'P', 'R', 'E', 'P', 'Q', 'V', 'Y', 'T', 'L', 'P', 'P', 'S', 'R', 'D', 'E', 'L', 'T', 'K', 'N', 'Q', 'V', 'S', 'L', 'T', 'C', 'L', 'V', 'K', 'G', 'F', 'Y', 'P', 'S', 'D', 'I', 'A', 'V', 'E', 'W', 'E', 'S', 'N', 'G', 'Q', 'P', 'E', 'N', 'N', 'Y', 'K', 'T', 'T', 'P', 'P', 'V', 'L', 'D', 'S', 'D', 'G', 'S', 'F', 'F', 'L', 'Y', 'S', 'K', 'L', 'T', 'V', 'D', 'K', 'S', 'R', 'W', 'Q', 'Q', 'G', 'N', 'V', 'F', 'S', 'C', 'S', 'V', 'Y', 'H', 'E', 'A', 'L', 'H', 'Y', 'H', 'Y', 'T', 'Q', 'K', 'S', 'L', 'S', 'L', 'S', 'P']], 'PIQ ': [['E', 'V', 'Q', 'L', 'L', 'E', 'S', 'G', 'G', 'G', 'L', 'V', 'Q', 'P', 'G', 'G', 'S', 'L', 'R', 'L', 'S', 'C', 'A', 'V', 'S', 'G', 'F', 'T', 'F', 'N', 'S', 'F', 'A', 'M', 'S', 'W', 'V', 'R', 'Q', 'A', 'P', 'G', 'K', 'G', 'L', 'E', 'W', 'V', 'S', 'A', 'I', 'S', 'G', 'S', 'G', 'G', 'G', 'T', 'Y', 'Y', 'A', 'D', 'S', 'V', 'K', 'G', 'R', 'F', 'T', 'I', 'S', 'R', 'D', 'N', 'S', 'K', 'N', 'T', 'L', 'Y', 'L', 'Q', 'M', 'N', 'S', 'L', 'R', 'A', 'E', 'D', 'T', 'A', 'V', 'Y', 'F', 'C', 'A', 'K', 'D', 'K', 'I', 'L', 'W', 'F', 'G', 'E', 'P', 'V', 'F', 'D', 'Y', 'W', 'G', 'Q', 'G', 'T', 'L', 'V', 'T', 'V', 'S', 'S', 'A', 'S', 'T', 'K', 'G', 'P', 'S', 'V', 'F', 'P', 'L', 'A', 'P', 'S', 'S', 'K', 'S', 'T', 'S', 'G', 'G', 'T', 'A', 'A', 'L', 'G', 'C', 'L', 'V', 'K', 'D', 'Y', 'F', 'P', 'E', 'P', 'V', 'T', 'V', 'S', 'W', 'N', 'S', 'G', 'A', 'L', 'T', 'S', 'G', 'V', 'H', 'T', 'F', 'P', 'A', 'V', 'L', 'Q', 'S', 'S', 'G', 'L', 'Y', 'S', 'L', 'S', 'S', 'V', 'V', 'T', 'V', 'P', 'S', 'S', 'S', 'L', 'G', 'T', 'Q', 'T', 'Y', 'I', 'C', 'N', 'V', 'N', 'H', 'K', 'P', 'S', 'N', 'T', 'K', 'V', 'D', 'K', 'R', 'V', 'E', 'P', 'K', 'S', 'C', 'D', 'K', 'T', 'H', 'T', 'C', 'P', 'P', 'C', 'P', 'A', 'P', 'E', 'L', 'L', 'G', 'G', 'P', 'S', 'V', 'F', 'L', 'F', 'P', 'P', 'K', 'P', 'K', 'D', 'T', 'L', 'M', 'I', 'S', 'R', 'T', 'P', 'E', 'V', 'T', 'C', 'V', 'V', 'V', 'D', 'V', 'S', 'H', 'E', 'D', 'P', 'E', 'V', 'K', 'F', 'N', 'W', 'Y', 'V', 'D', 'G', 'V', 'E', 'V', 'H', 'N', 'A', 'K', 'T', 'K', 'P', 'R', 'E', 'E', 'Q', 'Y', 'N', 'S', 'T', 'Y', 'R', 'V', 'V', 'S', 'V', 'L', 'P', 'I', 'Q', 'H', 'Q', 'D', 'W', 'L', 'N', 'G', 'K', 'E', 'Y', 'K', 'C', 'K', 'V', 'S', 'N', 'K', 'A', 'L', 'P', 'A', 'P', 'I', 'E', 'K', 'T', 'I', 'S', 'K', 'A', 'K', 'G', 'Q', 'P', 'R', 'E', 'P', 'Q', 'V', 'Y', 'T', 'L', 'P', 'P', 'S', 'R', 'D', 'E', 'L', 'T', 'K', 'N', 'Q', 'V', 'S', 'L', 'T', 'C', 'L', 'V', 'K', 'G', 'F', 'Y', 'P', 'S', 'D', 'I', 'A', 'V', 'E', 'W', 'E', 'S', 'N', 'G', 'Q', 'P', 'E', 'N', 'N', 'Y', 'K', 'T', 'T', 'P', 'P', 'V', 'L', 'D', 'S', 'D', 'G', 'S', 'F', 'F', 'L', 'Y', 'S', 'K', 'L', 'T', 'V', 'D', 'K', 'S', 'R', 'W', 'Q', 'Q', 'G', 'N', 'V', 'F', 'S', 'C', 'S', 'V', 'M', 'H', 'E', 'A', 'L', 'H', 'N', 'H', 'Y', 'T', 'Q', 'K', 'S', 'L', 'S', 'L', 'S', 'P', 'G', 'K']], 'thin-life': [['E', 'V', 'Q', 'L', 'L', 'E', 'S', 'G', 'G', 'G', 'L', 'V', 'Q', 'P', 'G', 'G', 'S', 'L', 'R', 'L', 'S', 'C', 'A', 'V', 'S', 'G', 'F', 'T', 'F', 'N', 'S', 'F', 'A', 'M', 'S', 'W', 'V', 'R', 'Q', 'A', 'P', 'G', 'K', 'G', 'L', 'E', 'W', 'V', 'S', 'A', 'I', 'S', 'G', 'S', 'G', 'G', 'G', 'T', 'Y', 'Y', 'A', 'D', 'S', 'V', 'K', 'G', 'R', 'F', 'T', 'I', 'S', 'R', 'D', 'N', 'S', 'K', 'N', 'T', 'L', 'Y', 'L', 'Q', 'M', 'N', 'S', 'L', 'R', 'A', 'E', 'D', 'T', 'A', 'V', 'Y', 'F', 'C', 'A', 'K', 'D', 'K', 'I', 'L', 'W', 'F', 'G', 'E', 'P', 'V', 'F', 'D', 'Y', 'W', 'G', 'Q', 'G', 'T', 'L', 'V', 'T', 'V', 'S', 'S', 'A', 'S', 'T', 'K', 'G', 'P', 'S', 'V', 'F', 'P', 'L', 'A', 'P', 'S', 'S', 'K', 'S', 'T', 'S', 'G', 'G', 'T', 'A', 'A', 'L', 'G', 'C', 'L', 'V', 'K', 'D', 'Y', 'F', 'P', 'E', 'P', 'V', 'T', 'V', 'S', 'W', 'N', 'S', 'G', 'A', 'L', 'T', 'S', 'G', 'V', 'H', 'T', 'F', 'P', 'A', 'V', 'L', 'Q', 'S', 'S', 'G', 'L', 'Y', 'S', 'L', 'S', 'S', 'V', 'V', 'T', 'V', 'P', 'S', 'S', 'S', 'L', 'G', 'T', 'Q', 'T', 'Y', 'I', 'C', 'N', 'V', 'N', 'H', 'K', 'P', 'S', 'N', 'T', 'K', 'V', 'D', 'K', 'R', 'V', 'E', 'P', 'K', 'S', 'C', 'D', 'K', 'T', 'H', 'T', 'C', 'P', 'P', 'C', 'P', 'A', 'E', 'P', 'P', 'P', 'S', 'G', 'P', 'S', 'V', 'F', 'L', 'F', 'P', 'P', 'K', 'P', 'K', 'D', 'T', 'L', 'M', 'I', 'S', 'R', 'T', 'P', 'E', 'V', 'T', 'C', 'V', 'V', 'V', 'D', 'V', 'S', 'H', 'E', 'D', 'P', 'E', 'V', 'K', 'F', 'N', 'W', 'Y', 'V', 'D', 'G', 'V', 'E', 'V', 'H', 'N', 'A', 'K', 'T', 'K', 'P', 'R', 'E', 'E', 'Q', 'Y', 'N', 'S', 'T', 'Y', 'R', 'V', 'V', 'S', 'S', 'L', 'P', 'I', 'E', 'H', 'Q', 'D', 'W', 'L', 'N', 'G', 'K', 'E', 'Y', 'K', 'C', 'K', 'V', 'S', 'N', 'K', 'A', 'L', 'P', 'A', 'P', 'I', 'E', 'K', 'T', 'I', 'S', 'K', 'A', 'K', 'G', 'Q', 'P', 'R', 'E', 'P', 'Q', 'V', 'Y', 'T', 'L', 'P', 'P', 'S', 'R', 'D', 'E', 'L', 'T', 'K', 'N', 'Q', 'V', 'S', 'L', 'T', 'C', 'L', 'V', 'K', 'G', 'F', 'Y', 'P', 'S', 'D', 'I', 'A', 'V', 'E', 'W', 'E', 'S', 'N', 'G', 'Q', 'P', 'E', 'N', 'N', 'Y', 'K', 'T', 'T', 'P', 'P', 'V', 'L', 'D', 'S', 'D', 'G', 'S', 'F', 'F', 'L', 'Y', 'S', 'K', 'L', 'T', 'V', 'D', 'K', 'S', 'R', 'W', 'Q', 'Q', 'G', 'N', 'V', 'F', 'S', 'C', 'S', 'V', 'M', 'H', 'E', 'A', 'L', 'H', 'N', 'H', 'Y', 'T', 'Q', 'K', 'S', 'L', 'S', 'L', 'S', 'P', 'G', 'K']], 'ultimate-mountain': [['E', 'V', 'Q', 'L', 'L', 'E', 'S', 'G', 'G', 'G', 'L', 'V', 'Q', 'P', 'G', 'G', 'S', 'L', 'R', 'L', 'S', 'C', 'A', 'V', 'S', 'G', 'F', 'T', 'F', 'N', 'S', 'F', 'A', 'M', 'S', 'W', 'V', 'R', 'Q', 'A', 'P', 'G', 'K', 'G', 'L', 'E', 'W', 'V', 'S', 'A', 'I', 'S', 'G', 'S', 'G', 'G', 'G', 'T', 'Y', 'Y', 'A', 'D', 'S', 'V', 'K', 'G', 'R', 'F', 'T', 'I', 'S', 'R', 'D', 'N', 'S', 'K', 'N', 'T', 'L', 'Y', 'L', 'Q', 'M', 'N', 'S', 'L', 'R', 'A', 'E', 'D', 'T', 'A', 'V', 'Y', 'F', 'C', 'A', 'K', 'D', 'K', 'I', 'L', 'W', 'F', 'G', 'E', 'P', 'V', 'F', 'D', 'Y', 'W', 'G', 'Q', 'G', 'T', 'L', 'V', 'T', 'V', 'S', 'S', 'A', 'S', 'T', 'K', 'G', 'P', 'S', 'V', 'F', 'P', 'L', 'A', 'P', 'S', 'S', 'K', 'S', 'T', 'S', 'G', 'G', 'T', 'A', 'A', 'L', 'G', 'C', 'L', 'V', 'K', 'D', 'Y', 'F', 'P', 'E', 'P', 'V', 'T', 'V', 'S', 'W', 'N', 'S', 'G', 'A', 'L', 'T', 'S', 'G', 'V', 'H', 'T', 'F', 'P', 'A', 'V', 'L', 'Q', 'S', 'S', 'G', 'L', 'Y', 'S', 'L', 'S', 'S', 'V', 'V', 'T', 'V', 'P', 'S', 'S', 'S', 'L', 'G', 'T', 'Q', 'T', 'Y', 'I', 'C', 'N', 'V', 'N', 'H', 'K', 'P', 'S', 'N', 'T', 'K', 'V', 'D', 'K', 'R', 'V', 'E', 'P', 'K', 'S', 'C', 'D', 'K', 'T', 'H', 'T', 'C', 'P', 'P', 'C', 'P', 'A', 'P', 'E', 'L', 'L', 'G', 'G', 'P', 'S', 'V', 'F', 'L', 'F', 'P', 'P', 'K', 'P', 'K', 'D', 'T', 'L', 'M', 'I', 'S', 'R', 'T', 'P', 'E', 'V', 'T', 'C', 'V', 'V', 'V', 'D', 'V', 'S', 'H', 'E', 'D', 'P', 'E', 'V', 'K', 'F', 'N', 'W', 'Y', 'V', 'D', 'G', 'V', 'E', 'V', 'H', 'N', 'A', 'K', 'T', 'K', 'P', 'R', 'E', 'E', 'Q', 'Y', 'N', 'S', 'T', 'Y', 'R', 'V', 'R', 'S', 'K', 'L', 'T', 'L', 'L', 'H', 'Q', 'D', 'W', 'L', 'N', 'G', 'K', 'E', 'Y', 'K', 'C', 'K', 'V', 'S', 'N', 'K', 'A', 'L', 'P', 'A', 'P', 'I', 'E', 'K', 'T', 'I', 'S', 'K', 'A', 'K', 'G', 'Q', 'P', 'R', 'E', 'P', 'Q', 'V', 'Y', 'T', 'L', 'P', 'P', 'S', 'R', 'D', 'E', 'L', 'T', 'K', 'N', 'Q', 'V', 'S', 'L', 'T', 'C', 'L', 'V', 'K', 'G', 'F', 'Y', 'P', 'S', 'D', 'I', 'A', 'V', 'E', 'W', 'E', 'S', 'N', 'G', 'Q', 'P', 'E', 'N', 'N', 'Y', 'K', 'T', 'T', 'P', 'P', 'V', 'L', 'D', 'S', 'D', 'G', 'S', 'F', 'F', 'L', 'Y', 'S', 'K', 'L', 'T', 'V', 'D', 'K', 'S', 'R', 'W', 'Q', 'Q', 'G', 'N', 'V', 'F', 'S', 'C', 'S', 'V', 'M', 'H', 'E', 'A', 'L', 'H', 'N', 'H', 'Y', 'T', 'Q', 'K', 'S', 'L', 'S', 'L', 'S', 'P', 'G', 'K']], 'cheap-appearance': [['E', 'V', 'Q', 'L', 'L', 'E', 'S', 'G', 'G', 'G', 'L', 'V', 'Q', 'P', 'G', 'G', 'S', 'L', 'R', 'L', 'S', 'C', 'A', 'V', 'S', 'G', 'F', 'T', 'F', 'N', 'S', 'F', 'A', 'M', 'S', 'W', 'V', 'R', 'Q', 'A', 'P', 'G', 'K', 'G', 'L', 'E', 'W', 'V', 'S', 'A', 'I', 'S', 'G', 'S', 'G', 'G', 'G', 'T', 'Y', 'Y', 'A', 'D', 'S', 'V', 'K', 'G', 'R', 'F', 'T', 'I', 'S', 'R', 'D', 'N', 'S', 'K', 'N', 'T', 'L', 'Y', 'L', 'Q', 'M', 'N', 'S', 'L', 'R', 'A', 'E', 'D', 'T', 'A', 'V', 'Y', 'F', 'C', 'A', 'K', 'D', 'K', 'I', 'L', 'W', 'F', 'G', 'E', 'P', 'V', 'F', 'D', 'Y', 'W', 'G', 'Q', 'G', 'T', 'L', 'V', 'T', 'V', 'S', 'S', 'A', 'S', 'T', 'K', 'G', 'P', 'S', 'V', 'F', 'P', 'L', 'A', 'P', 'S', 'S', 'K', 'S', 'T', 'S', 'G', 'G', 'T', 'A', 'A', 'L', 'G', 'C', 'L', 'V', 'K', 'D', 'Y', 'F', 'P', 'E', 'P', 'V', 'T', 'V', 'S', 'W', 'N', 'S', 'G', 'A', 'L', 'T', 'S', 'G', 'V', 'H', 'T', 'F', 'P', 'A', 'V', 'L', 'Q', 'S', 'S', 'G', 'L', 'Y', 'S', 'L', 'S', 'S', 'V', 'V', 'T', 'V', 'P', 'S', 'S', 'S', 'L', 'G', 'T', 'Q', 'T', 'Y', 'I', 'C', 'N', 'V', 'N', 'H', 'K', 'P', 'S', 'N', 'T', 'K', 'V', 'D', 'K', 'R', 'V', 'E', 'P', 'K', 'S', 'C', 'D', 'K', 'T', 'H', 'T', 'C', 'P', 'P', 'C', 'P', 'A', 'P', 'E', 'L', 'L', 'G', 'G', 'P', 'S', 'V', 'F', 'L', 'F', 'P', 'P', 'K', 'P', 'K', 'D', 'T', 'L', 'M', 'I', 'S', 'R', 'T', 'P', 'E', 'V', 'T', 'C', 'V', 'V', 'V', 'D', 'V', 'S', 'H', 'E', 'D', 'P', 'E', 'V', 'K', 'F', 'N', 'W', 'Y', 'V', 'D', 'G', 'V', 'E', 'V', 'H', 'N', 'A', 'K', 'T', 'K', 'P', 'R', 'E', 'E', 'Q', 'Y', 'N', 'S', 'T', 'Y', 'R', 'V', 'A', 'S', 'V', 'L', 'T', 'V', 'L', 'H', 'Q', 'D', 'W', 'L', 'N', 'G', 'K', 'E', 'Y', 'K', 'C', 'K', 'V', 'S', 'N', 'K', 'A', 'L', 'P', 'A', 'P', 'I', 'E', 'K', 'T', 'I', 'S', 'K', 'A', 'K', 'G', 'Q', 'P', 'R', 'E', 'P', 'Q', 'V', 'Y', 'T', 'L', 'P', 'P', 'S', 'R', 'D', 'E', 'L', 'T', 'K', 'N', 'Q', 'V', 'S', 'L', 'T', 'C', 'L', 'V', 'K', 'G', 'F', 'Y', 'P', 'S', 'D', 'I', 'A', 'V', 'E', 'W', 'E', 'S', 'N', 'G', 'Q', 'P', 'E', 'N', 'N', 'Y', 'K', 'T', 'T', 'P', 'P', 'V', 'L', 'D', 'S', 'D', 'G', 'S', 'F', 'F', 'L', 'Y', 'S', 'K', 'L', 'T', 'V', 'D', 'K', 'S', 'R', 'W', 'Q', 'Q', 'G', 'N', 'V', 'F', 'S', 'C', 'S', 'V', 'M', 'H', 'E', 'A', 'L', 'H', 'N', 'H', 'Y', 'T', 'Q', 'K', 'S', 'L', 'S', 'L', 'S', 'P', 'G', 'K']], 'autonomous-chief': [['E', 'V', 'Q', 'L', 'L', 'E', 'S', 'G', 'G', 'G', 'L', 'V', 'Q', 'P', 'G', 'G', 'S', 'L', 'R', 'L', 'S', 'C', 'A', 'V', 'S', 'G', 'F', 'T', 'F', 'N', 'S', 'F', 'A', 'M', 'S', 'W', 'V', 'R', 'Q', 'A', 'P', 'G', 'K', 'G', 'L', 'E', 'W', 'V', 'S', 'A', 'I', 'S', 'G', 'S', 'G', 'G', 'G', 'T', 'Y', 'Y', 'A', 'D', 'S', 'V', 'K', 'G', 'R', 'F', 'T', 'I', 'S', 'R', 'D', 'N', 'S', 'K', 'N', 'T', 'L', 'Y', 'L', 'Q', 'M', 'N', 'S', 'L', 'R', 'A', 'E', 'D', 'T', 'A', 'V', 'Y', 'F', 'C', 'A', 'K', 'D', 'K', 'I', 'L', 'W', 'F', 'G', 'E', 'P', 'V', 'F', 'D', 'Y', 'W', 'G', 'Q', 'G', 'T', 'L', 'V', 'T', 'V', 'S', 'S', 'A', 'S', 'T', 'K', 'G', 'P', 'S', 'V', 'F', 'P', 'L', 'A', 'P', 'S', 'S', 'K', 'S', 'T', 'S', 'G', 'G', 'T', 'A', 'A', 'L', 'G', 'C', 'L', 'V', 'K', 'D', 'Y', 'F', 'P', 'E', 'P', 'V', 'T', 'V', 'S', 'W', 'N', 'S', 'G', 'A', 'L', 'T', 'S', 'G', 'V', 'H', 'T', 'F', 'P', 'A', 'V', 'L', 'Q', 'S', 'S', 'G', 'L', 'Y', 'S', 'L', 'S', 'S', 'V', 'V', 'T', 'V', 'P', 'S', 'S', 'S', 'L', 'G', 'T', 'Q', 'T', 'Y', 'I', 'C', 'N', 'V', 'N', 'H', 'K', 'P', 'S', 'N', 'T', 'K', 'V', 'D', 'K', 'R', 'V', 'E', 'P', 'K', 'S', 'C', 'D', 'K', 'T', 'H', 'T', 'C', 'P', 'P', 'C', 'P', 'A', 'P', 'E', 'L', 'L', 'G', 'G', 'P', 'S', 'V', 'F', 'L', 'F', 'P', 'P', 'K', 'P', 'K', 'D', 'Q', 'L', 'M', 'I', 'S', 'R', 'T', 'P', 'E', 'V', 'T', 'C', 'V', 'V', 'V', 'D', 'V', 'S', 'H', 'E', 'D', 'P', 'E', 'V', 'K', 'F', 'N', 'W', 'Y', 'V', 'D', 'G', 'V', 'E', 'V', 'D', 'N', 'A', 'K', 'T', 'K', 'P', 'R', 'E', 'E', 'Q', 'Y', 'N', 'S', 'T', 'Y', 'R', 'V', 'V', 'S', 'A', 'L', 'T', 'V', 'L', 'H', 'Q', 'D', 'W', 'L', 'N', 'G', 'K', 'E', 'Y', 'K', 'C', 'K', 'V', 'S', 'N', 'K', 'A', 'L', 'P', 'A', 'P', 'I', 'E', 'K', 'T', 'I', 'S', 'K', 'A', 'K', 'G', 'Q', 'P', 'R', 'E', 'P', 'Q', 'V', 'Y', 'T', 'L', 'P', 'P', 'S', 'R', 'D', 'E', 'L', 'T', 'K', 'N', 'Q', 'V', 'S', 'L', 'T', 'C', 'L', 'V', 'K', 'G', 'F', 'Y', 'P', 'S', 'D', 'I', 'A', 'V', 'E', 'W', 'E', 'S', 'N', 'G', 'Q', 'P', 'E', 'N', 'N', 'Y', 'K', 'T', 'T', 'P', 'P', 'V', 'L', 'D', 'S', 'D', 'G', 'S', 'F', 'F', 'L', 'Y', 'S', 'K', 'L', 'T', 'V', 'D', 'K', 'S', 'R', 'W', 'Q', 'Q', 'G', 'N', 'V', 'F', 'S', 'C', 'S', 'V', 'M', 'H', 'E', 'A', 'L', 'H', 'N', 'H', 'Y', 'T', 'Q', 'K', 'S', 'L', 'S', 'L', 'S', 'P', 'G', 'K']], 'mysterious-scheme': [['E', 'V', 'Q', 'L', 'L', 'E', 'S', 'G', 'G', 'G', 'L', 'V', 'Q', 'P', 'G', 'G', 'S', 'L', 'R', 'L', 'S', 'C', 'A', 'V', 'S', 'G', 'F', 'T', 'F', 'N', 'S', 'F', 'A', 'M', 'S', 'W', 'V', 'R', 'Q', 'A', 'P', 'G', 'K', 'G', 'L', 'E', 'W', 'V', 'S', 'A', 'I', 'S', 'G', 'S', 'G', 'G', 'G', 'T', 'Y', 'Y', 'A', 'D', 'S', 'V', 'K', 'G', 'R', 'F', 'T', 'I', 'S', 'R', 'D', 'N', 'S', 'K', 'N', 'T', 'L', 'Y', 'L', 'Q', 'M', 'N', 'S', 'L', 'R', 'A', 'E', 'D', 'T', 'A', 'V', 'Y', 'F', 'C', 'A', 'K', 'D', 'K', 'I', 'L', 'W', 'F', 'G', 'E', 'P', 'V', 'F', 'D', 'Y', 'W', 'G', 'Q', 'G', 'T', 'L', 'V', 'T', 'V', 'S', 'S', 'A', 'S', 'T', 'K', 'G', 'P', 'S', 'V', 'F', 'P', 'L', 'A', 'P', 'S', 'S', 'K', 'S', 'T', 'S', 'G', 'G', 'T', 'A', 'A', 'L', 'G', 'C', 'L', 'V', 'K', 'D', 'Y', 'F', 'P', 'E', 'P', 'V', 'T', 'V', 'S', 'W', 'N', 'S', 'G', 'A', 'L', 'T', 'S', 'G', 'V', 'H', 'T', 'F', 'P', 'A', 'V', 'L', 'Q', 'S', 'S', 'G', 'L', 'Y', 'S', 'L', 'S', 'S', 'V', 'V', 'T', 'V', 'P', 'S', 'S', 'S', 'L', 'G', 'T', 'Q', 'T', 'Y', 'I', 'C', 'N', 'V', 'N', 'H', 'K', 'P', 'S', 'N', 'T', 'K', 'V', 'D', 'K', 'R', 'V', 'E', 'P', 'K', 'S', 'C', 'D', 'K', 'T', 'H', 'T', 'C', 'P', 'P', 'C', 'P', 'A', 'P', 'E', 'L', 'L', 'G', 'G', 'P', 'S', 'V', 'F', 'L', 'F', 'P', 'P', 'K', 'P', 'K', 'D', 'T', 'L', 'M', 'I', 'S', 'R', 'T', 'P', 'E', 'V', 'T', 'C', 'V', 'V', 'V', 'D', 'V', 'S', 'H', 'E', 'D', 'P', 'E', 'V', 'K', 'F', 'N', 'W', 'Y', 'V', 'D', 'G', 'V', 'E', 'V', 'H', 'N', 'A', 'K', 'T', 'K', 'P', 'R', 'E', 'E', 'Q', 'Y', 'N', 'S', 'T', 'Y', 'R', 'V', 'V', 'P', 'A', 'K', 'H', 'Q', 'Y', 'H', 'Q', 'D', 'W', 'L', 'N', 'G', 'K', 'E', 'Y', 'K', 'C', 'K', 'V', 'S', 'N', 'K', 'A', 'L', 'P', 'A', 'P', 'I', 'E', 'K', 'T', 'I', 'S', 'K', 'A', 'K', 'G', 'Q', 'P', 'R', 'E', 'P', 'Q', 'V', 'Y', 'T', 'L', 'P', 'P', 'S', 'R', 'D', 'E', 'L', 'T', 'K', 'N', 'Q', 'V', 'S', 'L', 'T', 'C', 'L', 'V', 'K', 'G', 'F', 'Y', 'P', 'S', 'D', 'I', 'A', 'V', 'E', 'W', 'E', 'S', 'N', 'G', 'Q', 'P', 'E', 'N', 'N', 'Y', 'K', 'T', 'T', 'P', 'P', 'V', 'L', 'D', 'S', 'D', 'G', 'S', 'F', 'F', 'L', 'Y', 'S', 'K', 'L', 'T', 'V', 'D', 'K', 'S', 'R', 'W', 'Q', 'Q', 'G', 'N', 'V', 'F', 'S', 'C', 'S', 'V', 'M', 'H', 'E', 'A', 'L', 'H', 'N', 'H', 'Y', 'T', 'Q', 'K', 'S', 'L', 'S', 'L', 'S', 'P', 'G', 'K']], 'half of: sepcific-english': [['E', 'V', 'Q', 'L', 'L', 'E', 'S', 'G', 'G', 'G', 'L', 'V', 'Q', 'P', 'G', 'G', 'S', 'L', 'R', 'L', 'S', 'C', 'A', 'V', 'S', 'G', 'F', 'T', 'F', 'N', 'S', 'F', 'A', 'M', 'S', 'W', 'V', 'R', 'Q', 'A', 'P', 'G', 'K', 'G', 'L', 'E', 'W', 'V', 'S', 'A', 'I', 'S', 'G', 'S', 'G', 'G', 'G', 'T', 'Y', 'Y', 'A', 'D', 'S', 'V', 'K', 'G', 'R', 'F', 'T', 'I', 'S', 'R', 'D', 'N', 'S', 'K', 'N', 'T', 'L', 'Y', 'L', 'Q', 'M', 'N', 'S', 'L', 'R', 'A', 'E', 'D', 'T', 'A', 'V', 'Y', 'F', 'C', 'A', 'K', 'D', 'K', 'I', 'L', 'W', 'F', 'G', 'E', 'P', 'V', 'F', 'D', 'Y', 'W', 'G', 'Q', 'G', 'T', 'L', 'V', 'T', 'V', 'S', 'S', 'A', 'S', 'T', 'K', 'G', 'P', 'S', 'V', 'F', 'P', 'L', 'A', 'P', 'S', 'S', 'K', 'S', 'T', 'S', 'G', 'G', 'T', 'A', 'A', 'L', 'G', 'C', 'L', 'V', 'K', 'D', 'Y', 'F', 'P', 'E', 'P', 'V', 'T', 'V', 'S', 'W', 'N', 'S', 'G', 'A', 'L', 'T', 'S', 'G', 'V', 'H', 'T', 'F', 'P', 'A', 'V', 'L', 'Q', 'S', 'S', 'G', 'L', 'Y', 'S', 'L', 'S', 'S', 'V', 'V', 'T', 'V', 'P', 'S', 'S', 'S', 'L', 'G', 'T', 'Q', 'T', 'Y', 'I', 'C', 'N', 'V', 'N', 'H', 'K', 'P', 'S', 'N', 'T', 'K', 'V', 'D', 'K', 'R', 'V', 'E', 'P', 'K', 'S', 'C', 'D', 'K', 'T', 'H', 'T', 'C', 'P', 'P', 'C', 'P', 'A', 'P', 'E', 'L', 'L', 'G', 'G', 'P', 'S', 'V', 'F', 'L', 'F', 'P', 'P', 'K', 'P', 'K', 'D', 'T', 'L', 'M', 'I', 'S', 'R', 'T', 'P', 'E', 'V', 'T', 'C', 'V', 'V', 'V', 'D', 'V', 'S', 'H', 'E', 'D', 'P', 'E', 'V', 'K', 'F', 'N', 'W', 'Y', 'V', 'D', 'G', 'V', 'E', 'V', 'H', 'N', 'A', 'K', 'T', 'K', 'P', 'R', 'E', 'E', 'Q', 'Y', 'N', 'S', 'T', 'Y', 'R', 'V', 'V', 'S', 'Q', 'Y', 'K', 'H', 'Q', 'H', 'Q', 'D', 'W', 'L', 'N', 'G', 'K', 'E', 'Y', 'K', 'C', 'K', 'V', 'S', 'N', 'K', 'A', 'L', 'P', 'A', 'P', 'I', 'E', 'K', 'T', 'I', 'S', 'K', 'A', 'K', 'G', 'Q', 'P', 'R', 'E', 'P', 'Q', 'V', 'Y', 'T', 'L', 'P', 'P', 'S', 'R', 'D', 'E', 'L', 'T', 'K', 'N', 'Q', 'V', 'S', 'L', 'T', 'C', 'L', 'V', 'K', 'G', 'F', 'Y', 'P', 'S', 'D', 'I', 'A', 'V', 'E', 'W', 'E', 'S', 'N', 'G', 'Q', 'P', 'E', 'N', 'N', 'Y', 'K', 'T', 'T', 'P', 'P', 'V', 'L', 'D', 'S', 'D', 'G', 'S', 'F', 'F', 'L', 'Y', 'S', 'K', 'L', 'T', 'V', 'D', 'K', 'S', 'R', 'W', 'Q', 'Q', 'G', 'N', 'V', 'F', 'S', 'C', 'S', 'V', 'M', 'H', 'E', 'A', 'L', 'H', 'N', 'H', 'Y', 'T', 'Q', 'K', 'S', 'L', 'S', 'L', 'S', 'P', 'G', 'K']], 'radical-size2': [['E', 'V', 'Q', 'L', 'L', 'E', 'S', 'G', 'G', 'G', 'L', 'V', 'Q', 'P', 'G', 'G', 'S', 'L', 'R', 'L', 'S', 'C', 'A', 'V', 'S', 'G', 'F', 'T', 'F', 'N', 'S', 'F', 'A', 'M', 'S', 'W', 'V', 'R', 'Q', 'A', 'P', 'G', 'K', 'G', 'L', 'E', 'W', 'V', 'S', 'A', 'I', 'S', 'G', 'S', 'G', 'G', 'G', 'T', 'Y', 'Y', 'A', 'D', 'S', 'V', 'K', 'G', 'R', 'F', 'T', 'I', 'S', 'R', 'D', 'N', 'S', 'K', 'N', 'T', 'L', 'Y', 'L', 'Q', 'M', 'N', 'S', 'L', 'R', 'A', 'E', 'D', 'T', 'A', 'V', 'Y', 'F', 'C', 'A', 'K', 'D', 'K', 'I', 'L', 'W', 'F', 'G', 'E', 'P', 'V', 'F', 'D', 'Y', 'W', 'G', 'Q', 'G', 'T', 'L', 'V', 'T', 'V', 'S', 'S', 'A', 'S', 'T', 'K', 'G', 'P', 'S', 'V', 'F', 'P', 'L', 'A', 'P', 'S', 'S', 'K', 'S', 'T', 'S', 'G', 'G', 'T', 'A', 'A', 'L', 'G', 'C', 'L', 'V', 'K', 'D', 'Y', 'F', 'P', 'E', 'P', 'V', 'T', 'V', 'S', 'W', 'N', 'S', 'G', 'A', 'L', 'T', 'S', 'G', 'V', 'H', 'T', 'F', 'P', 'A', 'V', 'L', 'Q', 'S', 'S', 'G', 'L', 'Y', 'S', 'L', 'S', 'S', 'V', 'V', 'T', 'V', 'P', 'S', 'S', 'S', 'L', 'G', 'T', 'Q', 'T', 'Y', 'I', 'C', 'N', 'V', 'N', 'H', 'K', 'P', 'S', 'N', 'T', 'K', 'V', 'D', 'K', 'R', 'V', 'E', 'P', 'K', 'S', 'C', 'D', 'K', 'T', 'H', 'T', 'C', 'P', 'P', 'C', 'P', 'A', 'P', 'S', 'S', 'L', 'G', 'G', 'P', 'S', 'V', 'F', 'L', 'F', 'P', 'P', 'K', 'P', 'K', 'V', 'T', 'L', 'M', 'I', 'S', 'R', 'T', 'P', 'E', 'V', 'T', 'C', 'V', 'V', 'V', 'A', 'V', 'S', 'H', 'E', 'D', 'P', 'E', 'V', 'K', 'F', 'N', 'W', 'Y', 'V', 'D', 'G', 'V', 'E', 'V', 'H', 'N', 'A', 'K', 'T', 'K', 'P', 'R', 'E', 'E', 'Q', 'Y', 'N', 'S', 'T', 'Y', 'R', 'V', 'V', 'S', 'V', 'L', 'T', 'V', 'L', 'H', 'Q', 'D', 'W', 'L', 'N', 'G', 'K', 'E', 'Y', 'K', 'C', 'K', 'V', 'S', 'N', 'K', 'A', 'L', 'P', 'A', 'P', 'I', 'E', 'K', 'T', 'I', 'S', 'K', 'A', 'K', 'G', 'Q', 'P', 'R', 'E', 'P', 'Q', 'V', 'Y', 'T', 'L', 'P', 'P', 'S', 'R', 'D', 'E', 'L', 'T', 'K', 'N', 'Q', 'V', 'S', 'L', 'T', 'C', 'L', 'V', 'K', 'G', 'F', 'Y', 'P', 'S', 'D', 'I', 'A', 'V', 'E', 'W', 'E', 'S', 'N', 'G', 'Q', 'P', 'E', 'N', 'N', 'Y', 'K', 'T', 'T', 'P', 'P', 'V', 'L', 'D', 'S', 'D', 'G', 'S', 'F', 'F', 'L', 'Y', 'S', 'K', 'L', 'T', 'V', 'D', 'K', 'S', 'R', 'W', 'Q', 'Q', 'G', 'N', 'V', 'F', 'S', 'C', 'S', 'V', 'M', 'H', 'E', 'A', 'L', 'H', 'N', 'H', 'Y', 'T', 'Q', 'K', 'S', 'L', 'S', 'L', 'S', 'P', 'G', 'K']], 'latter-exhibition': [['E', 'V', 'Q', 'L', 'L', 'E', 'S', 'G', 'G', 'G', 'L', 'V', 'Q', 'P', 'G', 'G', 'S', 'L', 'R', 'L', 'S', 'C', 'A', 'V', 'S', 'G', 'F', 'T', 'F', 'N', 'S', 'F', 'A', 'M', 'S', 'W', 'V', 'R', 'Q', 'A', 'P', 'G', 'K', 'G', 'L', 'E', 'W', 'V', 'S', 'A', 'I', 'S', 'G', 'S', 'G', 'G', 'G', 'T', 'Y', 'Y', 'A', 'D', 'S', 'V', 'K', 'G', 'R', 'F', 'T', 'I', 'S', 'R', 'D', 'N', 'S', 'K', 'N', 'T', 'L', 'Y', 'L', 'Q', 'M', 'N', 'S', 'L', 'R', 'A', 'E', 'D', 'T', 'A', 'V', 'Y', 'F', 'C', 'A', 'K', 'D', 'K', 'I', 'L', 'W', 'F', 'G', 'E', 'P', 'V', 'F', 'D', 'Y', 'W', 'G', 'Q', 'G', 'T', 'L', 'V', 'T', 'V', 'S', 'S', 'A', 'S', 'T', 'K', 'G', 'P', 'S', 'V', 'F', 'P', 'L', 'A', 'P', 'S', 'S', 'K', 'S', 'T', 'S', 'G', 'G', 'T', 'A', 'A', 'L', 'G', 'C', 'L', 'V', 'K', 'D', 'Y', 'F', 'P', 'E', 'P', 'V', 'T', 'V', 'S', 'W', 'N', 'S', 'G', 'A', 'L', 'T', 'S', 'G', 'V', 'H', 'T', 'F', 'P', 'A', 'V', 'L', 'Q', 'S', 'S', 'G', 'L', 'Y', 'S', 'L', 'S', 'S', 'V', 'V', 'T', 'V', 'P', 'S', 'S', 'S', 'L', 'G', 'T', 'Q', 'T', 'Y', 'I', 'C', 'N', 'V', 'N', 'H', 'K', 'P', 'S', 'N', 'T', 'K', 'V', 'D', 'K', 'R', 'V', 'E', 'P', 'K', 'S', 'C', 'D', 'K', 'T', 'H', 'T', 'C', 'P', 'P', 'C', 'P', 'A', 'P', 'E', 'L', 'L', 'G', 'G', 'P', 'S', 'V', 'F', 'A', 'F', 'P', 'P', 'K', 'P', 'K', 'D', 'T', 'L', 'M', 'I', 'S', 'R', 'T', 'P', 'E', 'V', 'T', 'C', 'V', 'V', 'V', 'D', 'V', 'S', 'H', 'E', 'D', 'P', 'E', 'V', 'K', 'F', 'N', 'W', 'Y', 'V', 'D', 'G', 'V', 'E', 'V', 'H', 'N', 'A', 'K', 'T', 'K', 'P', 'R', 'E', 'E', 'Q', 'Y', 'N', 'S', 'T', 'Y', 'R', 'V', 'R', 'S', 'A', 'L', 'T', 'V', 'L', 'H', 'Q', 'D', 'W', 'L', 'N', 'G', 'K', 'E', 'Y', 'K', 'C', 'K', 'V', 'S', 'N', 'K', 'A', 'L', 'P', 'A', 'P', 'I', 'E', 'K', 'T', 'I', 'S', 'K', 'A', 'K', 'G', 'Q', 'P', 'R', 'E', 'P', 'Q', 'V', 'Y', 'T', 'L', 'P', 'P', 'S', 'R', 'D', 'E', 'L', 'T', 'K', 'N', 'Q', 'V', 'S', 'L', 'T', 'C', 'L', 'V', 'K', 'G', 'F', 'Y', 'P', 'S', 'D', 'I', 'A', 'V', 'E', 'W', 'E', 'S', 'N', 'G', 'Q', 'P', 'E', 'N', 'N', 'Y', 'K', 'T', 'T', 'P', 'P', 'V', 'L', 'D', 'S', 'D', 'G', 'S', 'F', 'F', 'L', 'Y', 'S', 'K', 'L', 'T', 'V', 'D', 'K', 'S', 'R', 'W', 'Q', 'Q', 'G', 'N', 'V', 'F', 'S', 'C', 'S', 'V', 'M', 'H', 'E', 'A', 'L', 'H', 'N', 'H', 'Y', 'T', 'Q', 'K', 'S', 'L', 'S', 'L', 'S', 'P', 'G', 'K']], 'trivial-step': [['E', 'V', 'Q', 'L', 'L', 'E', 'S', 'G', 'G', 'G', 'L', 'V', 'Q', 'P', 'G', 'G', 'S', 'L', 'R', 'L', 'S', 'C', 'A', 'V', 'S', 'G', 'F', 'T', 'F', 'N', 'S', 'F', 'A', 'M', 'S', 'W', 'V', 'R', 'Q', 'A', 'P', 'G', 'K', 'G', 'L', 'E', 'W', 'V', 'S', 'A', 'I', 'S', 'G', 'S', 'G', 'G', 'G', 'T', 'Y', 'Y', 'A', 'D', 'S', 'V', 'K', 'G', 'R', 'F', 'T', 'I', 'S', 'R', 'D', 'N', 'S', 'K', 'N', 'T', 'L', 'Y', 'L', 'Q', 'M', 'N', 'S', 'L', 'R', 'A', 'E', 'D', 'T', 'A', 'V', 'Y', 'F', 'C', 'A', 'K', 'D', 'K', 'I', 'L', 'W', 'F', 'G', 'E', 'P', 'V', 'F', 'D', 'Y', 'W', 'G', 'Q', 'G', 'T', 'L', 'V', 'T', 'V', 'S', 'S', 'A', 'S', 'T', 'K', 'G', 'P', 'S', 'V', 'F', 'P', 'L', 'A', 'P', 'S', 'S', 'K', 'S', 'T', 'S', 'G', 'G', 'T', 'A', 'A', 'L', 'G', 'C', 'L', 'V', 'K', 'D', 'Y', 'F', 'P', 'E', 'P', 'V', 'T', 'V', 'S', 'W', 'N', 'S', 'G', 'A', 'L', 'T', 'S', 'G', 'V', 'H', 'T', 'F', 'P', 'A', 'V', 'L', 'Q', 'S', 'S', 'G', 'L', 'Y', 'S', 'L', 'S', 'S', 'V', 'V', 'T', 'V', 'P', 'S', 'S', 'S', 'L', 'G', 'T', 'Q', 'T', 'Y', 'I', 'C', 'N', 'V', 'N', 'H', 'K', 'P', 'S', 'N', 'T', 'K', 'V', 'D', 'K', 'R', 'V', 'E', 'P', 'K', 'S', 'C', 'D', 'K', 'T', 'H', 'T', 'C', 'P', 'P', 'C', 'P', 'A', 'P', 'E', 'R', 'R', 'Q', 'G', 'P', 'S', 'V', 'F', 'L', 'F', 'P', 'P', 'K', 'P', 'K', 'D', 'T', 'L', 'M', 'I', 'S', 'R', 'T', 'P', 'E', 'V', 'T', 'C', 'V', 'V', 'V', 'A', 'V', 'S', 'H', 'E', 'D', 'P', 'E', 'V', 'K', 'F', 'N', 'W', 'Y', 'V', 'D', 'G', 'V', 'E', 'V', 'H', 'N', 'A', 'K', 'T', 'K', 'P', 'R', 'E', 'E', 'Q', 'Y', 'N', 'S', 'T', 'Y', 'R', 'V', 'V', 'S', 'V', 'L', 'T', 'V', 'L', 'H', 'Q', 'D', 'W', 'L', 'N', 'G', 'K', 'E', 'Y', 'K', 'C', 'K', 'V', 'S', 'N', 'K', 'A', 'L', 'P', 'A', 'P', 'I', 'E', 'K', 'T', 'I', 'S', 'K', 'A', 'K', 'G', 'Q', 'P', 'R', 'E', 'P', 'Q', 'V', 'Y', 'T', 'L', 'P', 'P', 'S', 'R', 'D', 'E', 'L', 'T', 'K', 'N', 'Q', 'V', 'S', 'L', 'T', 'C', 'L', 'V', 'K', 'G', 'F', 'Y', 'P', 'S', 'D', 'I', 'A', 'V', 'E', 'W', 'E', 'S', 'N', 'G', 'Q', 'P', 'E', 'N', 'N', 'Y', 'K', 'T', 'T', 'P', 'P', 'V', 'L', 'D', 'S', 'D', 'G', 'S', 'F', 'F', 'L', 'Y', 'S', 'K', 'L', 'T', 'V', 'D', 'K', 'S', 'R', 'W', 'Q', 'Q', 'G', 'N', 'V', 'F', 'S', 'C', 'S', 'V', 'M', 'H', 'E', 'A', 'L', 'H', 'N', 'H', 'Y', 'T', 'Q', 'K', 'S', 'L', 'S', 'L', 'S', 'P', 'G', 'K']], 'paddle-tennis': [['E', 'V', 'Q', 'L', 'L', 'E', 'S', 'G', 'G', 'G', 'L', 'V', 'Q', 'P', 'G', 'G', 'S', 'L', 'R', 'L', 'S', 'C', 'A', 'V', 'S', 'G', 'F', 'T', 'F', 'N', 'S', 'F', 'A', 'M', 'S', 'W', 'V', 'R', 'Q', 'A', 'P', 'G', 'K', 'G', 'L', 'E', 'W', 'V', 'S', 'A', 'I', 'S', 'G', 'S', 'G', 'G', 'G', 'T', 'Y', 'Y', 'A', 'D', 'S', 'V', 'K', 'G', 'R', 'F', 'T', 'I', 'S', 'R', 'D', 'N', 'S', 'K', 'N', 'T', 'L', 'Y', 'L', 'Q', 'M', 'N', 'S', 'L', 'R', 'A', 'E', 'D', 'T', 'A', 'V', 'Y', 'F', 'C', 'A', 'K', 'D', 'K', 'I', 'L', 'W', 'F', 'G', 'E', 'P', 'V', 'F', 'D', 'Y', 'W', 'G', 'Q', 'G', 'T', 'L', 'V', 'T', 'V', 'S', 'S', 'A', 'S', 'T', 'K', 'G', 'P', 'S', 'V', 'F', 'P', 'L', 'A', 'P', 'S', 'S', 'K', 'S', 'T', 'S', 'G', 'G', 'T', 'A', 'A', 'L', 'G', 'C', 'L', 'V', 'K', 'D', 'Y', 'F', 'P', 'E', 'P', 'V', 'T', 'V', 'S', 'W', 'N', 'S', 'G', 'A', 'L', 'T', 'S', 'G', 'V', 'H', 'T', 'F', 'P', 'A', 'V', 'L', 'Q', 'S', 'S', 'G', 'L', 'Y', 'S', 'L', 'S', 'S', 'V', 'V', 'T', 'V', 'P', 'S', 'S', 'S', 'L', 'G', 'T', 'Q', 'T', 'Y', 'I', 'C', 'N', 'V', 'N', 'H', 'K', 'P', 'S', 'N', 'T', 'K', 'V', 'D', 'K', 'R', 'V', 'E', 'P', 'K', 'S', 'C', 'D', 'K', 'T', 'H', 'T', 'C', 'P', 'P', 'C', 'P', 'A', 'P', 'E', 'L', 'L', 'G', 'G', 'P', 'S', 'V', 'F', 'L', 'F', 'P', 'P', 'K', 'P', 'K', 'D', 'Q', 'L', 'M', 'I', 'S', 'R', 'T', 'P', 'E', 'V', 'T', 'C', 'V', 'V', 'V', 'D', 'V', 'S', 'H', 'E', 'D', 'P', 'E', 'V', 'K', 'F', 'N', 'W', 'Y', 'V', 'D', 'G', 'V', 'E', 'V', 'D', 'N', 'A', 'K', 'T', 'K', 'P', 'R', 'E', 'E', 'Q', 'Y', 'N', 'S', 'T', 'Y', 'R', 'V', 'V', 'S', 'V', 'L', 'Q', 'V', 'L', 'H', 'Q', 'D', 'W', 'L', 'N', 'G', 'K', 'E', 'Y', 'K', 'C', 'K', 'V', 'S', 'N', 'K', 'A', 'L', 'P', 'A', 'P', 'I', 'E', 'K', 'T', 'I', 'S', 'K', 'A', 'K', 'G', 'Q', 'P', 'R', 'E', 'P', 'Q', 'V', 'Y', 'T', 'L', 'P', 'P', 'S', 'R', 'D', 'E', 'L', 'T', 'K', 'N', 'Q', 'V', 'S', 'L', 'T', 'C', 'L', 'V', 'K', 'G', 'F', 'Y', 'P', 'S', 'D', 'I', 'A', 'V', 'E', 'W', 'E', 'S', 'N', 'G', 'Q', 'P', 'E', 'N', 'N', 'Y', 'K', 'T', 'T', 'P', 'P', 'V', 'L', 'D', 'S', 'D', 'G', 'S', 'F', 'F', 'L', 'Y', 'S', 'K', 'L', 'T', 'V', 'D', 'K', 'S', 'R', 'W', 'Q', 'Q', 'G', 'N', 'V', 'F', 'S', 'C', 'S', 'V', 'L', 'H', 'E', 'A', 'L', 'H', 'N', 'H', 'Y', 'T', 'Q', 'K', 'S', 'L', 'S', 'L', 'S', 'P', 'G', 'K']], 'provincial-board': [['E', 'V', 'Q', 'L', 'L', 'E', 'S', 'G', 'G', 'G', 'L', 'V', 'Q', 'P', 'G', 'G', 'S', 'L', 'R', 'L', 'S', 'C', 'A', 'V', 'S', 'G', 'F', 'T', 'F', 'N', 'S', 'F', 'A', 'M', 'S', 'W', 'V', 'R', 'Q', 'A', 'P', 'G', 'K', 'G', 'L', 'E', 'W', 'V', 'S', 'A', 'I', 'S', 'G', 'S', 'G', 'G', 'G', 'T', 'Y', 'Y', 'A', 'D', 'S', 'V', 'K', 'G', 'R', 'F', 'T', 'I', 'S', 'R', 'D', 'N', 'S', 'K', 'N', 'T', 'L', 'Y', 'L', 'Q', 'M', 'N', 'S', 'L', 'R', 'A', 'E', 'D', 'T', 'A', 'V', 'Y', 'F', 'C', 'A', 'K', 'D', 'K', 'I', 'L', 'W', 'F', 'G', 'E', 'P', 'V', 'F', 'D', 'Y', 'W', 'G', 'Q', 'G', 'T', 'L', 'V', 'T', 'V', 'S', 'S', 'A', 'S', 'T', 'K', 'G', 'P', 'S', 'V', 'F', 'P', 'L', 'A', 'P', 'S', 'S', 'K', 'S', 'T', 'S', 'G', 'G', 'T', 'A', 'A', 'L', 'G', 'C', 'L', 'V', 'K', 'D', 'Y', 'F', 'P', 'E', 'P', 'V', 'T', 'V', 'S', 'W', 'N', 'S', 'G', 'A', 'L', 'T', 'S', 'G', 'V', 'H', 'T', 'F', 'P', 'A', 'V', 'L', 'Q', 'S', 'S', 'G', 'L', 'Y', 'S', 'L', 'S', 'S', 'V', 'V', 'T', 'V', 'P', 'S', 'S', 'S', 'L', 'G', 'T', 'Q', 'T', 'Y', 'I', 'C', 'N', 'V', 'N', 'H', 'K', 'P', 'S', 'N', 'T', 'K', 'V', 'D', 'K', 'R', 'V', 'E', 'P', 'K', 'S', 'C', 'D', 'K', 'T', 'H', 'T', 'C', 'P', 'P', 'C', 'P', 'A', 'P', 'E', 'L', 'L', 'G', 'G', 'P', 'S', 'V', 'F', 'L', 'F', 'P', 'P', 'K', 'P', 'K', 'D', 'T', 'L', 'M', 'I', 'S', 'R', 'T', 'P', 'E', 'V', 'T', 'C', 'V', 'V', 'V', 'D', 'V', 'S', 'H', 'E', 'D', 'P', 'E', 'V', 'K', 'F', 'N', 'W', 'Y', 'V', 'D', 'G', 'V', 'E', 'V', 'H', 'N', 'A', 'K', 'T', 'K', 'P', 'R', 'E', 'E', 'Q', 'Y', 'N', 'S', 'T', 'Y', 'R', 'V', 'V', 'S', 'V', 'H', 'Q', 'K', 'H', 'H', 'Q', 'D', 'W', 'L', 'N', 'G', 'K', 'E', 'Y', 'K', 'C', 'K', 'V', 'S', 'N', 'K', 'A', 'L', 'P', 'A', 'P', 'I', 'E', 'K', 'T', 'I', 'S', 'K', 'A', 'K', 'G', 'Q', 'P', 'R', 'E', 'P', 'Q', 'V', 'Y', 'T', 'L', 'P', 'P', 'S', 'R', 'D', 'E', 'L', 'T', 'K', 'N', 'Q', 'V', 'S', 'L', 'T', 'C', 'L', 'V', 'K', 'G', 'F', 'Y', 'P', 'S', 'D', 'I', 'A', 'V', 'E', 'W', 'E', 'S', 'N', 'G', 'Q', 'P', 'E', 'N', 'N', 'Y', 'K', 'T', 'T', 'P', 'P', 'V', 'L', 'D', 'S', 'D', 'G', 'S', 'F', 'F', 'L', 'Y', 'S', 'K', 'L', 'T', 'V', 'D', 'K', 'S', 'R', 'W', 'Q', 'Q', 'G', 'N', 'V', 'F', 'S', 'C', 'S', 'V', 'M', 'H', 'E', 'A', 'L', 'H', 'N', 'H', 'Y', 'T', 'Q', 'K', 'S', 'L', 'S', 'L', 'S', 'P', 'G', 'K']], 'thorough-lake': [['E', 'V', 'Q', 'L', 'L', 'E', 'S', 'G', 'G', 'G', 'L', 'V', 'Q', 'P', 'G', 'G', 'S', 'L', 'R', 'L', 'S', 'C', 'A', 'V', 'S', 'G', 'F', 'T', 'F', 'N', 'S', 'F', 'A', 'M', 'S', 'W', 'V', 'R', 'Q', 'A', 'P', 'G', 'K', 'G', 'L', 'E', 'W', 'V', 'S', 'A', 'I', 'S', 'G', 'S', 'G', 'G', 'G', 'T', 'Y', 'Y', 'A', 'D', 'S', 'V', 'K', 'G', 'R', 'F', 'T', 'I', 'S', 'R', 'D', 'N', 'S', 'K', 'N', 'T', 'L', 'Y', 'L', 'Q', 'M', 'N', 'S', 'L', 'R', 'A', 'E', 'D', 'T', 'A', 'V', 'Y', 'F', 'C', 'A', 'K', 'D', 'K', 'I', 'L', 'W', 'F', 'G', 'E', 'P', 'V', 'F', 'D', 'Y', 'W', 'G', 'Q', 'G', 'T', 'L', 'V', 'T', 'V', 'S', 'S', 'A', 'S', 'T', 'K', 'G', 'P', 'S', 'V', 'F', 'P', 'L', 'A', 'P', 'S', 'S', 'K', 'S', 'T', 'S', 'G', 'G', 'T', 'A', 'A', 'L', 'G', 'C', 'L', 'V', 'K', 'D', 'Y', 'F', 'P', 'E', 'P', 'V', 'T', 'V', 'S', 'W', 'N', 'S', 'G', 'A', 'L', 'T', 'S', 'G', 'V', 'H', 'T', 'F', 'P', 'A', 'V', 'L', 'Q', 'S', 'S', 'G', 'L', 'Y', 'S', 'L', 'S', 'S', 'V', 'V', 'T', 'V', 'P', 'S', 'S', 'S', 'L', 'G', 'T', 'Q', 'T', 'Y', 'I', 'C', 'N', 'V', 'N', 'H', 'K', 'P', 'S', 'N', 'T', 'K', 'V', 'D', 'K', 'R', 'V', 'E', 'P', 'K', 'S', 'C', 'D', 'K', 'T', 'H', 'T', 'C', 'P', 'P', 'C', 'P', 'A', 'P', 'E', 'A', 'E', 'G', 'A', 'P', 'S', 'V', 'F', 'L', 'F', 'P', 'P', 'K', 'P', 'K', 'D', 'T', 'L', 'M', 'I', 'S', 'R', 'T', 'P', 'E', 'V', 'T', 'C', 'V', 'V', 'V', 'A', 'V', 'S', 'H', 'E', 'D', 'P', 'E', 'V', 'K', 'F', 'N', 'W', 'Y', 'V', 'D', 'G', 'V', 'E', 'V', 'H', 'N', 'A', 'K', 'T', 'K', 'P', 'R', 'E', 'E', 'Q', 'Y', 'N', 'S', 'T', 'Y', 'R', 'V', 'V', 'S', 'V', 'L', 'T', 'V', 'L', 'H', 'Q', 'D', 'W', 'L', 'N', 'G', 'K', 'E', 'Y', 'K', 'C', 'K', 'V', 'S', 'N', 'K', 'A', 'R', 'P', 'A', 'P', 'I', 'E', 'K', 'T', 'I', 'S', 'K', 'A', 'K', 'G', 'Q', 'P', 'R', 'E', 'P', 'Q', 'V', 'Y', 'T', 'L', 'P', 'P', 'S', 'R', 'D', 'E', 'L', 'T', 'K', 'N', 'Q', 'V', 'S', 'L', 'T', 'C', 'L', 'V', 'K', 'G', 'F', 'Y', 'P', 'S', 'D', 'I', 'A', 'V', 'E', 'W', 'E', 'S', 'N', 'G', 'Q', 'P', 'E', 'N', 'Y', 'K', 'K', 'T', 'T', 'P', 'P', 'V', 'L', 'D', 'S', 'D', 'G', 'S', 'F', 'F', 'L', 'Y', 'S', 'K', 'L', 'T', 'V', 'D', 'K', 'S', 'R', 'W', 'Q', 'Q', 'G', 'N', 'V', 'F', 'S', 'C', 'S', 'V', 'M', 'H', 'E', 'A', 'L', 'H', 'N', 'H', 'Y', 'T', 'Q', 'K', 'S', 'L', 'S', 'L', 'S', 'P', 'G', 'K']], 'beneficial-sport': [['E', 'V', 'Q', 'L', 'L', 'E', 'S', 'G', 'G', 'G', 'L', 'V', 'Q', 'P', 'G', 'G', 'S', 'L', 'R', 'L', 'S', 'C', 'A', 'V', 'S', 'G', 'F', 'T', 'F', 'N', 'S', 'F', 'A', 'M', 'S', 'W', 'V', 'R', 'Q', 'A', 'P', 'G', 'K', 'G', 'L', 'E', 'W', 'V', 'S', 'A', 'I', 'S', 'G', 'S', 'G', 'G', 'G', 'T', 'Y', 'Y', 'A', 'D', 'S', 'V', 'K', 'G', 'R', 'F', 'T', 'I', 'S', 'R', 'D', 'N', 'S', 'K', 'N', 'T', 'L', 'Y', 'L', 'Q', 'M', 'N', 'S', 'L', 'R', 'A', 'E', 'D', 'T', 'A', 'V', 'Y', 'F', 'C', 'A', 'K', 'D', 'K', 'I', 'L', 'W', 'F', 'G', 'E', 'P', 'V', 'F', 'D', 'Y', 'W', 'G', 'Q', 'G', 'T', 'L', 'V', 'T', 'V', 'S', 'S', 'A', 'S', 'T', 'K', 'G', 'P', 'S', 'V', 'F', 'P', 'L', 'A', 'P', 'S', 'S', 'K', 'S', 'T', 'S', 'G', 'G', 'T', 'A', 'A', 'L', 'G', 'C', 'L', 'V', 'K', 'D', 'Y', 'F', 'P', 'E', 'P', 'V', 'T', 'V', 'S', 'W', 'N', 'S', 'G', 'A', 'L', 'T', 'S', 'G', 'V', 'H', 'T', 'F', 'P', 'A', 'V', 'L', 'Q', 'S', 'S', 'G', 'L', 'Y', 'S', 'L', 'S', 'S', 'V', 'V', 'T', 'V', 'P', 'S', 'S', 'S', 'L', 'G', 'T', 'Q', 'T', 'Y', 'I', 'C', 'N', 'V', 'N', 'H', 'K', 'P', 'S', 'N', 'T', 'K', 'V', 'D', 'K', 'R', 'V', 'E', 'P', 'K', 'S', 'C', 'D', 'K', 'T', 'H', 'T', 'C', 'P', 'P', 'C', 'P', 'A', 'P', 'E', 'L', 'K', 'G', 'G', 'P', 'S', 'V', 'F', 'L', 'F', 'P', 'P', 'K', 'P', 'K', 'D', 'T', 'L', 'M', 'I', 'S', 'R', 'T', 'P', 'E', 'V', 'T', 'C', 'V', 'V', 'V', 'D', 'V', 'S', 'H', 'E', 'D', 'P', 'E', 'V', 'K', 'F', 'N', 'W', 'Y', 'V', 'D', 'G', 'V', 'E', 'V', 'H', 'N', 'A', 'K', 'T', 'K', 'P', 'R', 'E', 'E', 'Q', 'Y', 'N', 'S', 'T', 'Y', 'R', 'V', 'V', 'H', 'Q', 'Y', 'R', 'V', 'S', 'H', 'Q', 'D', 'W', 'L', 'N', 'G', 'K', 'E', 'Y', 'K', 'C', 'K', 'V', 'S', 'N', 'K', 'A', 'L', 'P', 'A', 'P', 'I', 'E', 'K', 'T', 'I', 'S', 'K', 'A', 'K', 'G', 'Q', 'P', 'R', 'E', 'P', 'Q', 'V', 'Y', 'T', 'L', 'P', 'P', 'S', 'R', 'D', 'E', 'L', 'T', 'K', 'N', 'Q', 'V', 'S', 'L', 'T', 'C', 'L', 'V', 'K', 'G', 'F', 'Y', 'P', 'S', 'D', 'I', 'A', 'V', 'E', 'W', 'E', 'S', 'N', 'G', 'Q', 'P', 'E', 'N', 'N', 'Y', 'K', 'T', 'T', 'P', 'P', 'V', 'L', 'D', 'S', 'D', 'G', 'S', 'F', 'F', 'L', 'Y', 'S', 'K', 'L', 'T', 'V', 'D', 'K', 'S', 'R', 'W', 'Q', 'Q', 'G', 'N', 'V', 'F', 'S', 'C', 'S', 'V', 'M', 'H', 'E', 'A', 'L', 'H', 'N', 'H', 'Y', 'T', 'Q', 'K', 'S', 'L', 'S', 'L', 'S', 'P', 'G', 'K']], 'LRP': [['E', 'V', 'Q', 'L', 'L', 'E', 'S', 'G', 'G', 'G', 'L', 'V', 'Q', 'P', 'G', 'G', 'S', 'L', 'R', 'L', 'S', 'C', 'A', 'V', 'S', 'G', 'F', 'T', 'F', 'N', 'S', 'F', 'A', 'M', 'S', 'W', 'V', 'R', 'Q', 'A', 'P', 'G', 'K', 'G', 'L', 'E', 'W', 'V', 'S', 'A', 'I', 'S', 'G', 'S', 'G', 'G', 'G', 'T', 'Y', 'Y', 'A', 'D', 'S', 'V', 'K', 'G', 'R', 'F', 'T', 'I', 'S', 'R', 'D', 'N', 'S', 'K', 'N', 'T', 'L', 'Y', 'L', 'Q', 'M', 'N', 'S', 'L', 'R', 'A', 'E', 'D', 'T', 'A', 'V', 'Y', 'F', 'C', 'A', 'K', 'D', 'K', 'I', 'L', 'W', 'F', 'G', 'E', 'P', 'V', 'F', 'D', 'Y', 'W', 'G', 'Q', 'G', 'T', 'L', 'V', 'T', 'V', 'S', 'S', 'A', 'S', 'T', 'K', 'G', 'P', 'S', 'V', 'F', 'P', 'L', 'A', 'P', 'S', 'S', 'K', 'S', 'T', 'S', 'G', 'G', 'T', 'A', 'A', 'L', 'G', 'C', 'L', 'V', 'K', 'D', 'Y', 'F', 'P', 'E', 'P', 'V', 'T', 'V', 'S', 'W', 'N', 'S', 'G', 'A', 'L', 'T', 'S', 'G', 'V', 'H', 'T', 'F', 'P', 'A', 'V', 'L', 'Q', 'S', 'S', 'G', 'L', 'Y', 'S', 'L', 'S', 'S', 'V', 'V', 'T', 'V', 'P', 'S', 'S', 'S', 'L', 'G', 'T', 'Q', 'T', 'Y', 'I', 'C', 'N', 'V', 'N', 'H', 'K', 'P', 'S', 'N', 'T', 'K', 'V', 'D', 'K', 'R', 'V', 'E', 'P', 'K', 'S', 'C', 'D', 'K', 'T', 'H', 'T', 'C', 'P', 'P', 'C', 'P', 'A', 'P', 'E', 'L', 'L', 'G', 'G', 'P', 'S', 'V', 'F', 'L', 'F', 'P', 'P', 'K', 'P', 'K', 'D', 'T', 'L', 'M', 'I', 'S', 'R', 'T', 'P', 'E', 'V', 'T', 'C', 'V', 'V', 'V', 'D', 'V', 'S', 'H', 'E', 'D', 'P', 'E', 'V', 'K', 'F', 'N', 'W', 'Y', 'V', 'D', 'G', 'V', 'E', 'V', 'H', 'N', 'A', 'K', 'T', 'K', 'P', 'R', 'E', 'E', 'Q', 'Y', 'N', 'S', 'T', 'Y', 'R', 'V', 'V', 'L', 'V', 'L', 'T', 'R', 'P', 'H', 'Q', 'D', 'W', 'L', 'N', 'G', 'K', 'E', 'Y', 'K', 'C', 'K', 'V', 'S', 'N', 'K', 'A', 'L', 'P', 'A', 'P', 'I', 'E', 'K', 'T', 'I', 'S', 'K', 'A', 'K', 'G', 'Q', 'P', 'R', 'E', 'P', 'Q', 'V', 'Y', 'T', 'L', 'P', 'P', 'S', 'R', 'D', 'E', 'L', 'T', 'K', 'N', 'Q', 'V', 'S', 'L', 'T', 'C', 'L', 'V', 'K', 'G', 'F', 'Y', 'P', 'S', 'D', 'I', 'A', 'V', 'E', 'W', 'E', 'S', 'N', 'G', 'Q', 'P', 'E', 'N', 'N', 'Y', 'K', 'T', 'T', 'P', 'P', 'V', 'L', 'D', 'S', 'D', 'G', 'S', 'F', 'F', 'L', 'Y', 'S', 'K', 'L', 'T', 'V', 'D', 'K', 'S', 'R', 'W', 'Q', 'Q', 'G', 'N', 'V', 'F', 'S', 'C', 'S', 'V', 'M', 'H', 'E', 'A', 'L', 'H', 'N', 'H', 'Y', 'T', 'Q', 'K', 'S', 'L', 'S', 'L', 'S', 'P', 'G', 'K']], 'GIF': [['E', 'V', 'Q', 'L', 'L', 'E', 'S', 'G', 'G', 'G', 'L', 'V', 'Q', 'P', 'G', 'G', 'S', 'L', 'R', 'L', 'S', 'C', 'A', 'V', 'S', 'G', 'F', 'T', 'F', 'N', 'S', 'F', 'A', 'M', 'S', 'W', 'V', 'R', 'Q', 'A', 'P', 'G', 'K', 'G', 'L', 'E', 'W', 'V', 'S', 'A', 'I', 'S', 'G', 'S', 'G', 'G', 'G', 'T', 'Y', 'Y', 'A', 'D', 'S', 'V', 'K', 'G', 'R', 'F', 'T', 'I', 'S', 'R', 'D', 'N', 'S', 'K', 'N', 'T', 'L', 'Y', 'L', 'Q', 'M', 'N', 'S', 'L', 'R', 'A', 'E', 'D', 'T', 'A', 'V', 'Y', 'F', 'C', 'A', 'K', 'D', 'K', 'I', 'L', 'W', 'F', 'G', 'E', 'P', 'V', 'F', 'D', 'Y', 'W', 'G', 'Q', 'G', 'T', 'L', 'V', 'T', 'V', 'S', 'S', 'A', 'S', 'T', 'K', 'G', 'P', 'S', 'V', 'F', 'P', 'L', 'A', 'P', 'S', 'S', 'K', 'S', 'T', 'S', 'G', 'G', 'T', 'A', 'A', 'L', 'G', 'C', 'L', 'V', 'K', 'D', 'Y', 'F', 'P', 'E', 'P', 'V', 'T', 'V', 'S', 'W', 'N', 'S', 'G', 'A', 'L', 'T', 'S', 'G', 'V', 'H', 'T', 'F', 'P', 'A', 'V', 'L', 'Q', 'S', 'S', 'G', 'L', 'Y', 'S', 'L', 'S', 'S', 'V', 'V', 'T', 'V', 'P', 'S', 'S', 'S', 'L', 'G', 'T', 'Q', 'T', 'Y', 'I', 'C', 'N', 'V', 'N', 'H', 'K', 'P', 'S', 'N', 'T', 'K', 'V', 'D', 'K', 'R', 'V', 'E', 'P', 'K', 'S', 'C', 'D', 'K', 'T', 'H', 'T', 'C', 'P', 'P', 'C', 'P', 'A', 'P', 'E', 'L', 'L', 'G', 'G', 'P', 'S', 'V', 'F', 'L', 'F', 'P', 'P', 'K', 'P', 'K', 'D', 'T', 'L', 'M', 'I', 'S', 'R', 'T', 'P', 'E', 'V', 'T', 'C', 'V', 'V', 'V', 'D', 'V', 'S', 'H', 'E', 'D', 'P', 'E', 'V', 'K', 'F', 'N', 'W', 'Y', 'V', 'D', 'G', 'V', 'E', 'V', 'H', 'N', 'A', 'K', 'T', 'K', 'P', 'R', 'E', 'E', 'Q', 'Y', 'N', 'S', 'T', 'G', 'R', 'V', 'V', 'S', 'V', 'L', 'I', 'V', 'F', 'H', 'Q', 'D', 'W', 'L', 'N', 'G', 'K', 'E', 'Y', 'K', 'C', 'K', 'V', 'S', 'N', 'K', 'A', 'L', 'P', 'A', 'P', 'I', 'E', 'K', 'T', 'I', 'S', 'K', 'A', 'K', 'G', 'Q', 'P', 'R', 'E', 'P', 'Q', 'V', 'Y', 'T', 'L', 'P', 'P', 'S', 'R', 'D', 'E', 'L', 'T', 'K', 'N', 'Q', 'V', 'S', 'L', 'T', 'C', 'L', 'V', 'K', 'G', 'F', 'Y', 'P', 'S', 'D', 'I', 'A', 'V', 'E', 'W', 'E', 'S', 'N', 'G', 'Q', 'P', 'E', 'N', 'N', 'Y', 'K', 'T', 'T', 'P', 'P', 'V', 'L', 'D', 'S', 'D', 'G', 'S', 'F', 'F', 'L', 'Y', 'S', 'K', 'L', 'T', 'V', 'D', 'K', 'S', 'R', 'W', 'Q', 'Q', 'G', 'N', 'V', 'F', 'S', 'C', 'S', 'V', 'M', 'H', 'E', 'A', 'L', 'H', 'N', 'H', 'Y', 'T', 'Q', 'K', 'S', 'L', 'S', 'L', 'S', 'P', 'G', 'K']], 'KLF': [['E', 'V', 'Q', 'L', 'L', 'E', 'S', 'G', 'G', 'G', 'L', 'V', 'Q', 'P', 'G', 'G', 'S', 'L', 'R', 'L', 'S', 'C', 'A', 'V', 'S', 'G', 'F', 'T', 'F', 'N', 'S', 'F', 'A', 'M', 'S', 'W', 'V', 'R', 'Q', 'A', 'P', 'G', 'K', 'G', 'L', 'E', 'W', 'V', 'S', 'A', 'I', 'S', 'G', 'S', 'G', 'G', 'G', 'T', 'Y', 'Y', 'A', 'D', 'S', 'V', 'K', 'G', 'R', 'F', 'T', 'I', 'S', 'R', 'D', 'N', 'S', 'K', 'N', 'T', 'L', 'Y', 'L', 'Q', 'M', 'N', 'S', 'L', 'R', 'A', 'E', 'D', 'T', 'A', 'V', 'Y', 'F', 'C', 'A', 'K', 'D', 'K', 'I', 'L', 'W', 'F', 'G', 'E', 'P', 'V', 'F', 'D', 'Y', 'W', 'G', 'Q', 'G', 'T', 'L', 'V', 'T', 'V', 'S', 'S', 'A', 'S', 'T', 'K', 'G', 'P', 'S', 'V', 'F', 'P', 'L', 'A', 'P', 'S', 'S', 'K', 'S', 'T', 'S', 'G', 'G', 'T', 'A', 'A', 'L', 'G', 'C', 'L', 'V', 'K', 'D', 'Y', 'F', 'P', 'E', 'P', 'V', 'T', 'V', 'S', 'W', 'N', 'S', 'G', 'A', 'L', 'T', 'S', 'G', 'V', 'H', 'T', 'F', 'P', 'A', 'V', 'L', 'Q', 'S', 'S', 'G', 'L', 'Y', 'S', 'L', 'S', 'S', 'V', 'V', 'T', 'V', 'P', 'S', 'S', 'S', 'L', 'G', 'T', 'Q', 'T', 'Y', 'I', 'C', 'N', 'V', 'N', 'H', 'K', 'P', 'S', 'N', 'T', 'K', 'V', 'D', 'K', 'R', 'V', 'E', 'P', 'K', 'S', 'C', 'D', 'K', 'T', 'H', 'T', 'C', 'P', 'P', 'C', 'P', 'A', 'P', 'E', 'L', 'L', 'G', 'G', 'P', 'S', 'V', 'F', 'L', 'F', 'P', 'P', 'K', 'P', 'K', 'D', 'T', 'L', 'M', 'I', 'S', 'R', 'T', 'P', 'E', 'V', 'T', 'C', 'V', 'V', 'V', 'D', 'V', 'S', 'H', 'E', 'D', 'P', 'E', 'V', 'K', 'F', 'N', 'W', 'Y', 'V', 'D', 'G', 'V', 'E', 'V', 'H', 'N', 'A', 'K', 'T', 'K', 'P', 'R', 'E', 'E', 'Q', 'Y', 'N', 'S', 'T', 'K', 'L', 'V', 'V', 'S', 'F', 'L', 'T', 'V', 'L', 'H', 'Q', 'D', 'W', 'L', 'N', 'G', 'K', 'E', 'Y', 'K', 'C', 'K', 'V', 'S', 'N', 'K', 'A', 'L', 'P', 'A', 'P', 'I', 'E', 'K', 'T', 'I', 'S', 'K', 'A', 'K', 'G', 'Q', 'P', 'R', 'E', 'P', 'Q', 'V', 'Y', 'T', 'L', 'P', 'P', 'S', 'R', 'D', 'E', 'L', 'T', 'K', 'N', 'Q', 'V', 'S', 'L', 'T', 'C', 'L', 'V', 'K', 'G', 'F', 'Y', 'P', 'S', 'D', 'I', 'A', 'V', 'E', 'W', 'E', 'S', 'N', 'G', 'Q', 'P', 'E', 'N', 'N', 'Y', 'K', 'T', 'T', 'P', 'P', 'V', 'L', 'D', 'S', 'D', 'G', 'S', 'F', 'F', 'L', 'Y', 'S', 'K', 'L', 'T', 'V', 'D', 'K', 'S', 'R', 'W', 'Q', 'Q', 'G', 'N', 'V', 'F', 'S', 'C', 'S', 'V', 'M', 'H', 'E', 'A', 'L', 'H', 'N', 'H', 'Y', 'T', 'Q', 'K', 'S', 'L', 'S', 'L', 'S', 'P', 'G', 'K']], 'RNQ': [['E', 'V', 'Q', 'L', 'L', 'E', 'S', 'G', 'G', 'G', 'L', 'V', 'Q', 'P', 'G', 'G', 'S', 'L', 'R', 'L', 'S', 'C', 'A', 'V', 'S', 'G', 'F', 'T', 'F', 'N', 'S', 'F', 'A', 'M', 'S', 'W', 'V', 'R', 'Q', 'A', 'P', 'G', 'K', 'G', 'L', 'E', 'W', 'V', 'S', 'A', 'I', 'S', 'G', 'S', 'G', 'G', 'G', 'T', 'Y', 'Y', 'A', 'D', 'S', 'V', 'K', 'G', 'R', 'F', 'T', 'I', 'S', 'R', 'D', 'N', 'S', 'K', 'N', 'T', 'L', 'Y', 'L', 'Q', 'M', 'N', 'S', 'L', 'R', 'A', 'E', 'D', 'T', 'A', 'V', 'Y', 'F', 'C', 'A', 'K', 'D', 'K', 'I', 'L', 'W', 'F', 'G', 'E', 'P', 'V', 'F', 'D', 'Y', 'W', 'G', 'Q', 'G', 'T', 'L', 'V', 'T', 'V', 'S', 'S', 'A', 'S', 'T', 'K', 'G', 'P', 'S', 'V', 'F', 'P', 'L', 'A', 'P', 'S', 'S', 'K', 'S', 'T', 'S', 'G', 'G', 'T', 'A', 'A', 'L', 'G', 'C', 'L', 'V', 'K', 'D', 'Y', 'F', 'P', 'E', 'P', 'V', 'T', 'V', 'S', 'W', 'N', 'S', 'G', 'A', 'L', 'T', 'S', 'G', 'V', 'H', 'T', 'F', 'P', 'A', 'V', 'L', 'Q', 'S', 'S', 'G', 'L', 'Y', 'S', 'L', 'S', 'S', 'V', 'V', 'T', 'V', 'P', 'S', 'S', 'S', 'L', 'G', 'T', 'Q', 'T', 'Y', 'I', 'C', 'N', 'V', 'N', 'H', 'K', 'P', 'S', 'N', 'T', 'K', 'V', 'D', 'K', 'R', 'V', 'E', 'P', 'K', 'S', 'C', 'D', 'K', 'T', 'H', 'T', 'C', 'P', 'P', 'C', 'P', 'A', 'P', 'E', 'L', 'L', 'G', 'G', 'P', 'S', 'V', 'F', 'L', 'F', 'P', 'P', 'K', 'P', 'K', 'D', 'T', 'L', 'M', 'I', 'S', 'R', 'T', 'P', 'E', 'V', 'T', 'C', 'V', 'V', 'V', 'D', 'V', 'S', 'H', 'E', 'D', 'P', 'E', 'V', 'K', 'F', 'N', 'W', 'Y', 'V', 'D', 'G', 'V', 'E', 'V', 'H', 'N', 'A', 'K', 'T', 'K', 'P', 'R', 'E', 'E', 'Q', 'Y', 'N', 'S', 'T', 'R', 'R', 'V', 'V', 'S', 'N', 'L', 'T', 'Q', 'L', 'H', 'Q', 'D', 'W', 'L', 'N', 'G', 'K', 'E', 'Y', 'K', 'C', 'K', 'V', 'S', 'N', 'K', 'A', 'L', 'P', 'A', 'P', 'I', 'E', 'K', 'T', 'I', 'S', 'K', 'A', 'K', 'G', 'Q', 'P', 'R', 'E', 'P', 'Q', 'V', 'Y', 'T', 'L', 'P', 'P', 'S', 'R', 'D', 'E', 'L', 'T', 'K', 'N', 'Q', 'V', 'S', 'L', 'T', 'C', 'L', 'V', 'K', 'G', 'F', 'Y', 'P', 'S', 'D', 'I', 'A', 'V', 'E', 'W', 'E', 'S', 'N', 'G', 'Q', 'P', 'E', 'N', 'N', 'Y', 'K', 'T', 'T', 'P', 'P', 'V', 'L', 'D', 'S', 'D', 'G', 'S', 'F', 'F', 'L', 'Y', 'S', 'K', 'L', 'T', 'V', 'D', 'K', 'S', 'R', 'W', 'Q', 'Q', 'G', 'N', 'V', 'F', 'S', 'C', 'S', 'V', 'M', 'H', 'E', 'A', 'L', 'H', 'N', 'H', 'Y', 'T', 'Q', 'K', 'S', 'L', 'S', 'L', 'S', 'P', 'G', 'K']], 'RRT': [['E', 'V', 'Q', 'L', 'L', 'E', 'S', 'G', 'G', 'G', 'L', 'V', 'Q', 'P', 'G', 'G', 'S', 'L', 'R', 'L', 'S', 'C', 'A', 'V', 'S', 'G', 'F', 'T', 'F', 'N', 'S', 'F', 'A', 'M', 'S', 'W', 'V', 'R', 'Q', 'A', 'P', 'G', 'K', 'G', 'L', 'E', 'W', 'V', 'S', 'A', 'I', 'S', 'G', 'S', 'G', 'G', 'G', 'T', 'Y', 'Y', 'A', 'D', 'S', 'V', 'K', 'G', 'R', 'F', 'T', 'I', 'S', 'R', 'D', 'N', 'S', 'K', 'N', 'T', 'L', 'Y', 'L', 'Q', 'M', 'N', 'S', 'L', 'R', 'A', 'E', 'D', 'T', 'A', 'V', 'Y', 'F', 'C', 'A', 'K', 'D', 'K', 'I', 'L', 'W', 'F', 'G', 'E', 'P', 'V', 'F', 'D', 'Y', 'W', 'G', 'Q', 'G', 'T', 'L', 'V', 'T', 'V', 'S', 'S', 'A', 'S', 'T', 'K', 'G', 'P', 'S', 'V', 'F', 'P', 'L', 'A', 'P', 'S', 'S', 'K', 'S', 'T', 'S', 'G', 'G', 'T', 'A', 'A', 'L', 'G', 'C', 'L', 'V', 'K', 'D', 'Y', 'F', 'P', 'E', 'P', 'V', 'T', 'V', 'S', 'W', 'N', 'S', 'G', 'A', 'L', 'T', 'S', 'G', 'V', 'H', 'T', 'F', 'P', 'A', 'V', 'L', 'Q', 'S', 'S', 'G', 'L', 'Y', 'S', 'L', 'S', 'S', 'V', 'V', 'T', 'V', 'P', 'S', 'S', 'S', 'L', 'G', 'T', 'Q', 'T', 'Y', 'I', 'C', 'N', 'V', 'N', 'H', 'K', 'P', 'S', 'N', 'T', 'K', 'V', 'D', 'K', 'R', 'V', 'E', 'P', 'K', 'S', 'C', 'D', 'K', 'T', 'H', 'T', 'C', 'P', 'P', 'C', 'P', 'A', 'P', 'E', 'L', 'L', 'G', 'G', 'P', 'S', 'V', 'F', 'L', 'F', 'P', 'P', 'K', 'P', 'K', 'D', 'T', 'L', 'M', 'I', 'S', 'R', 'T', 'P', 'E', 'V', 'T', 'C', 'V', 'V', 'V', 'D', 'V', 'S', 'H', 'E', 'D', 'P', 'E', 'V', 'K', 'F', 'N', 'W', 'Y', 'V', 'D', 'G', 'V', 'E', 'V', 'H', 'N', 'A', 'K', 'T', 'K', 'P', 'R', 'E', 'E', 'Q', 'Y', 'N', 'S', 'T', 'Y', 'R', 'V', 'R', 'S', 'R', 'L', 'T', 'T', 'L', 'H', 'Q', 'D', 'W', 'L', 'N', 'G', 'K', 'E', 'Y', 'K', 'C', 'K', 'V', 'S', 'N', 'K', 'A', 'L', 'P', 'A', 'P', 'I', 'E', 'K', 'T', 'I', 'S', 'K', 'A', 'K', 'G', 'Q', 'P', 'R', 'E', 'P', 'Q', 'V', 'Y', 'T', 'L', 'P', 'P', 'S', 'R', 'D', 'E', 'L', 'T', 'K', 'N', 'Q', 'V', 'S', 'L', 'T', 'C', 'L', 'V', 'K', 'G', 'F', 'Y', 'P', 'S', 'D', 'I', 'A', 'V', 'E', 'W', 'E', 'S', 'N', 'G', 'Q', 'P', 'E', 'N', 'N', 'Y', 'K', 'T', 'T', 'P', 'P', 'V', 'L', 'D', 'S', 'D', 'G', 'S', 'F', 'F', 'L', 'Y', 'S', 'K', 'L', 'T', 'V', 'D', 'K', 'S', 'R', 'W', 'Q', 'Q', 'G', 'N', 'V', 'F', 'S', 'C', 'S', 'V', 'M', 'H', 'E', 'A', 'L', 'H', 'N', 'H', 'Y', 'T', 'Q', 'K', 'S', 'L', 'S', 'L', 'S', 'P', 'G', 'K']], 'AIL': [['E', 'V', 'Q', 'L', 'L', 'E', 'S', 'G', 'G', 'G', 'L', 'V', 'Q', 'P', 'G', 'G', 'S', 'L', 'R', 'L', 'S', 'C', 'A', 'V', 'S', 'G', 'F', 'T', 'F', 'N', 'S', 'F', 'A', 'M', 'S', 'W', 'V', 'R', 'Q', 'A', 'P', 'G', 'K', 'G', 'L', 'E', 'W', 'V', 'S', 'A', 'I', 'S', 'G', 'S', 'G', 'G', 'G', 'T', 'Y', 'Y', 'A', 'D', 'S', 'V', 'K', 'G', 'R', 'F', 'T', 'I', 'S', 'R', 'D', 'N', 'S', 'K', 'N', 'T', 'L', 'Y', 'L', 'Q', 'M', 'N', 'S', 'L', 'R', 'A', 'E', 'D', 'T', 'A', 'V', 'Y', 'F', 'C', 'A', 'K', 'D', 'K', 'I', 'L', 'W', 'F', 'G', 'E', 'P', 'V', 'F', 'D', 'Y', 'W', 'G', 'Q', 'G', 'T', 'L', 'V', 'T', 'V', 'S', 'S', 'A', 'S', 'T', 'K', 'G', 'P', 'S', 'V', 'F', 'P', 'L', 'A', 'P', 'S', 'S', 'K', 'S', 'T', 'S', 'G', 'G', 'T', 'A', 'A', 'L', 'G', 'C', 'L', 'V', 'K', 'D', 'Y', 'F', 'P', 'E', 'P', 'V', 'T', 'V', 'S', 'W', 'N', 'S', 'G', 'A', 'L', 'T', 'S', 'G', 'V', 'H', 'T', 'F', 'P', 'A', 'V', 'L', 'Q', 'S', 'S', 'G', 'L', 'Y', 'S', 'L', 'S', 'S', 'V', 'V', 'T', 'V', 'P', 'S', 'S', 'S', 'L', 'G', 'T', 'Q', 'T', 'Y', 'I', 'C', 'N', 'V', 'N', 'H', 'K', 'P', 'S', 'N', 'T', 'K', 'V', 'D', 'K', 'R', 'V', 'E', 'P', 'K', 'S', 'C', 'D', 'K', 'T', 'H', 'T', 'C', 'P', 'P', 'C', 'P', 'A', 'P', 'E', 'L', 'L', 'G', 'G', 'P', 'S', 'V', 'F', 'L', 'F', 'P', 'P', 'K', 'P', 'K', 'D', 'T', 'L', 'M', 'I', 'S', 'R', 'T', 'P', 'E', 'V', 'T', 'C', 'V', 'V', 'V', 'D', 'V', 'S', 'H', 'E', 'D', 'P', 'E', 'V', 'K', 'F', 'N', 'W', 'Y', 'V', 'D', 'G', 'V', 'E', 'V', 'H', 'N', 'A', 'K', 'T', 'K', 'P', 'R', 'E', 'E', 'Q', 'Y', 'N', 'S', 'A', 'I', 'R', 'V', 'V', 'S', 'L', 'L', 'T', 'V', 'L', 'H', 'Q', 'D', 'W', 'L', 'N', 'G', 'K', 'E', 'Y', 'K', 'C', 'K', 'V', 'S', 'N', 'K', 'A', 'L', 'P', 'A', 'P', 'I', 'E', 'K', 'T', 'I', 'S', 'K', 'A', 'K', 'G', 'Q', 'P', 'R', 'E', 'P', 'Q', 'V', 'Y', 'T', 'L', 'P', 'P', 'S', 'R', 'D', 'E', 'L', 'T', 'K', 'N', 'Q', 'V', 'S', 'L', 'T', 'C', 'L', 'V', 'K', 'G', 'F', 'Y', 'P', 'S', 'D', 'I', 'A', 'V', 'E', 'W', 'E', 'S', 'N', 'G', 'Q', 'P', 'E', 'N', 'N', 'Y', 'K', 'T', 'T', 'P', 'P', 'V', 'L', 'D', 'S', 'D', 'G', 'S', 'F', 'F', 'L', 'Y', 'S', 'K', 'L', 'T', 'V', 'D', 'K', 'S', 'R', 'W', 'Q', 'Q', 'G', 'N', 'V', 'F', 'S', 'C', 'S', 'V', 'M', 'H', 'E', 'A', 'L', 'H', 'N', 'H', 'Y', 'T', 'Q', 'K', 'S', 'L', 'S', 'L', 'S', 'P', 'G', 'K']], 'IN': [['E', 'V', 'Q', 'L', 'L', 'E', 'S', 'G', 'G', 'G', 'L', 'V', 'Q', 'P', 'G', 'G', 'S', 'L', 'R', 'L', 'S', 'C', 'A', 'V', 'S', 'G', 'F', 'T', 'F', 'N', 'S', 'F', 'A', 'M', 'S', 'W', 'V', 'R', 'Q', 'A', 'P', 'G', 'K', 'G', 'L', 'E', 'W', 'V', 'S', 'A', 'I', 'S', 'G', 'S', 'G', 'G', 'G', 'T', 'Y', 'Y', 'A', 'D', 'S', 'V', 'K', 'G', 'R', 'F', 'T', 'I', 'S', 'R', 'D', 'N', 'S', 'K', 'N', 'T', 'L', 'Y', 'L', 'Q', 'M', 'N', 'S', 'L', 'R', 'A', 'E', 'D', 'T', 'A', 'V', 'Y', 'F', 'C', 'A', 'K', 'D', 'K', 'I', 'L', 'W', 'F', 'G', 'E', 'P', 'V', 'F', 'D', 'Y', 'W', 'G', 'Q', 'G', 'T', 'L', 'V', 'T', 'V', 'S', 'S', 'A', 'S', 'T', 'K', 'G', 'P', 'S', 'V', 'F', 'P', 'L', 'A', 'P', 'S', 'S', 'K', 'S', 'T', 'S', 'G', 'G', 'T', 'A', 'A', 'L', 'G', 'C', 'L', 'V', 'K', 'D', 'Y', 'F', 'P', 'E', 'P', 'V', 'T', 'V', 'S', 'W', 'N', 'S', 'G', 'A', 'L', 'T', 'S', 'G', 'V', 'H', 'T', 'F', 'P', 'A', 'V', 'L', 'Q', 'S', 'S', 'G', 'L', 'Y', 'S', 'L', 'S', 'S', 'V', 'V', 'T', 'V', 'P', 'S', 'S', 'S', 'L', 'G', 'T', 'Q', 'T', 'Y', 'I', 'C', 'N', 'V', 'N', 'H', 'K', 'P', 'S', 'N', 'T', 'K', 'V', 'D', 'K', 'R', 'V', 'E', 'P', 'K', 'S', 'C', 'D', 'K', 'T', 'H', 'T', 'C', 'P', 'P', 'C', 'P', 'A', 'P', 'E', 'L', 'L', 'G', 'G', 'P', 'S', 'V', 'F', 'L', 'F', 'P', 'P', 'K', 'P', 'K', 'D', 'T', 'L', 'M', 'I', 'S', 'R', 'T', 'P', 'E', 'V', 'T', 'C', 'V', 'V', 'V', 'D', 'V', 'S', 'H', 'E', 'D', 'P', 'E', 'V', 'K', 'F', 'N', 'W', 'Y', 'V', 'D', 'G', 'V', 'E', 'V', 'H', 'N', 'A', 'K', 'T', 'K', 'P', 'R', 'E', 'E', 'Q', 'Y', 'N', 'S', 'T', 'Y', 'R', 'V', 'V', 'S', 'I', 'L', 'T', 'N', 'L', 'H', 'Q', 'D', 'W', 'L', 'N', 'G', 'K', 'E', 'Y', 'K', 'C', 'K', 'V', 'S', 'N', 'K', 'A', 'L', 'P', 'A', 'P', 'I', 'E', 'K', 'T', 'I', 'S', 'K', 'A', 'K', 'G', 'Q', 'P', 'R', 'E', 'P', 'Q', 'V', 'Y', 'T', 'L', 'P', 'P', 'S', 'R', 'D', 'E', 'L', 'T', 'K', 'N', 'Q', 'V', 'S', 'L', 'T', 'C', 'L', 'V', 'K', 'G', 'F', 'Y', 'P', 'S', 'D', 'I', 'A', 'V', 'E', 'W', 'E', 'S', 'N', 'G', 'Q', 'P', 'E', 'N', 'N', 'Y', 'K', 'T', 'T', 'P', 'P', 'V', 'L', 'D', 'S', 'D', 'G', 'S', 'F', 'F', 'L', 'Y', 'S', 'K', 'L', 'T', 'V', 'D', 'K', 'S', 'R', 'W', 'Q', 'Q', 'G', 'N', 'V', 'F', 'S', 'C', 'S', 'V', 'M', 'H', 'E', 'A', 'L', 'H', 'N', 'H', 'Y', 'T', 'Q', 'K', 'S', 'L', 'S', 'L', 'S', 'P', 'G', 'K']], 'AGR': [['E', 'V', 'Q', 'L', 'L', 'E', 'S', 'G', 'G', 'G', 'L', 'V', 'Q', 'P', 'G', 'G', 'S', 'L', 'R', 'L', 'S', 'C', 'A', 'V', 'S', 'G', 'F', 'T', 'F', 'N', 'S', 'F', 'A', 'M', 'S', 'W', 'V', 'R', 'Q', 'A', 'P', 'G', 'K', 'G', 'L', 'E', 'W', 'V', 'S', 'A', 'I', 'S', 'G', 'S', 'G', 'G', 'G', 'T', 'Y', 'Y', 'A', 'D', 'S', 'V', 'K', 'G', 'R', 'F', 'T', 'I', 'S', 'R', 'D', 'N', 'S', 'K', 'N', 'T', 'L', 'Y', 'L', 'Q', 'M', 'N', 'S', 'L', 'R', 'A', 'E', 'D', 'T', 'A', 'V', 'Y', 'F', 'C', 'A', 'K', 'D', 'K', 'I', 'L', 'W', 'F', 'G', 'E', 'P', 'V', 'F', 'D', 'Y', 'W', 'G', 'Q', 'G', 'T', 'L', 'V', 'T', 'V', 'S', 'S', 'A', 'S', 'T', 'K', 'G', 'P', 'S', 'V', 'F', 'P', 'L', 'A', 'P', 'S', 'S', 'K', 'S', 'T', 'S', 'G', 'G', 'T', 'A', 'A', 'L', 'G', 'C', 'L', 'V', 'K', 'D', 'Y', 'F', 'P', 'E', 'P', 'V', 'T', 'V', 'S', 'W', 'N', 'S', 'G', 'A', 'L', 'T', 'S', 'G', 'V', 'H', 'T', 'F', 'P', 'A', 'V', 'L', 'Q', 'S', 'S', 'G', 'L', 'Y', 'S', 'L', 'S', 'S', 'V', 'V', 'T', 'V', 'P', 'S', 'S', 'S', 'L', 'G', 'T', 'Q', 'T', 'Y', 'I', 'C', 'N', 'V', 'N', 'H', 'K', 'P', 'S', 'N', 'T', 'K', 'V', 'D', 'K', 'R', 'V', 'E', 'P', 'K', 'S', 'C', 'D', 'K', 'T', 'H', 'T', 'C', 'P', 'P', 'C', 'P', 'A', 'P', 'E', 'L', 'L', 'G', 'G', 'P', 'S', 'V', 'F', 'L', 'F', 'P', 'P', 'K', 'P', 'K', 'D', 'T', 'L', 'M', 'I', 'S', 'R', 'T', 'P', 'E', 'V', 'T', 'C', 'V', 'V', 'V', 'D', 'V', 'S', 'H', 'E', 'D', 'P', 'E', 'V', 'K', 'F', 'N', 'W', 'Y', 'V', 'D', 'G', 'V', 'E', 'V', 'H', 'N', 'A', 'K', 'T', 'K', 'P', 'R', 'E', 'E', 'Q', 'Y', 'N', 'S', 'A', 'Y', 'R', 'V', 'V', 'S', 'G', 'R', 'T', 'V', 'L', 'H', 'Q', 'D', 'W', 'L', 'N', 'G', 'K', 'E', 'Y', 'K', 'C', 'K', 'V', 'S', 'N', 'K', 'A', 'L', 'P', 'A', 'P', 'I', 'E', 'K', 'T', 'I', 'S', 'K', 'A', 'K', 'G', 'Q', 'P', 'R', 'E', 'P', 'Q', 'V', 'Y', 'T', 'L', 'P', 'P', 'S', 'R', 'D', 'E', 'L', 'T', 'K', 'N', 'Q', 'V', 'S', 'L', 'T', 'C', 'L', 'V', 'K', 'G', 'F', 'Y', 'P', 'S', 'D', 'I', 'A', 'V', 'E', 'W', 'E', 'S', 'N', 'G', 'Q', 'P', 'E', 'N', 'N', 'Y', 'K', 'T', 'T', 'P', 'P', 'V', 'L', 'D', 'S', 'D', 'G', 'S', 'F', 'F', 'L', 'Y', 'S', 'K', 'L', 'T', 'V', 'D', 'K', 'S', 'R', 'W', 'Q', 'Q', 'G', 'N', 'V', 'F', 'S', 'C', 'S', 'V', 'M', 'H', 'E', 'A', 'L', 'H', 'N', 'H', 'Y', 'T', 'Q', 'K', 'S', 'L', 'S', 'L', 'S', 'P', 'G', 'K']], 'AAP': [['E', 'V', 'Q', 'L', 'L', 'E', 'S', 'G', 'G', 'G', 'L', 'V', 'Q', 'P', 'G', 'G', 'S', 'L', 'R', 'L', 'S', 'C', 'A', 'V', 'S', 'G', 'F', 'T', 'F', 'N', 'S', 'F', 'A', 'M', 'S', 'W', 'V', 'R', 'Q', 'A', 'P', 'G', 'K', 'G', 'L', 'E', 'W', 'V', 'S', 'A', 'I', 'S', 'G', 'S', 'G', 'G', 'G', 'T', 'Y', 'Y', 'A', 'D', 'S', 'V', 'K', 'G', 'R', 'F', 'T', 'I', 'S', 'R', 'D', 'N', 'S', 'K', 'N', 'T', 'L', 'Y', 'L', 'Q', 'M', 'N', 'S', 'L', 'R', 'A', 'E', 'D', 'T', 'A', 'V', 'Y', 'F', 'C', 'A', 'K', 'D', 'K', 'I', 'L', 'W', 'F', 'G', 'E', 'P', 'V', 'F', 'D', 'Y', 'W', 'G', 'Q', 'G', 'T', 'L', 'V', 'T', 'V', 'S', 'S', 'A', 'S', 'T', 'K', 'G', 'P', 'S', 'V', 'F', 'P', 'L', 'A', 'P', 'S', 'S', 'K', 'S', 'T', 'S', 'G', 'G', 'T', 'A', 'A', 'L', 'G', 'C', 'L', 'V', 'K', 'D', 'Y', 'F', 'P', 'E', 'P', 'V', 'T', 'V', 'S', 'W', 'N', 'S', 'G', 'A', 'L', 'T', 'S', 'G', 'V', 'H', 'T', 'F', 'P', 'A', 'V', 'L', 'Q', 'S', 'S', 'G', 'L', 'Y', 'S', 'L', 'S', 'S', 'V', 'V', 'T', 'V', 'P', 'S', 'S', 'S', 'L', 'G', 'T', 'Q', 'T', 'Y', 'I', 'C', 'N', 'V', 'N', 'H', 'K', 'P', 'S', 'N', 'T', 'K', 'V', 'D', 'K', 'R', 'V', 'E', 'P', 'K', 'S', 'C', 'D', 'K', 'T', 'H', 'T', 'C', 'P', 'P', 'C', 'P', 'A', 'P', 'E', 'L', 'L', 'G', 'G', 'P', 'S', 'V', 'F', 'L', 'F', 'P', 'P', 'K', 'P', 'K', 'D', 'T', 'L', 'M', 'I', 'S', 'R', 'T', 'P', 'E', 'V', 'T', 'C', 'V', 'V', 'V', 'D', 'V', 'S', 'H', 'E', 'D', 'P', 'E', 'V', 'K', 'F', 'N', 'W', 'Y', 'V', 'D', 'G', 'V', 'E', 'V', 'H', 'N', 'A', 'K', 'T', 'K', 'P', 'R', 'E', 'E', 'Q', 'Y', 'N', 'S', 'T', 'Y', 'A', 'V', 'V', 'S', 'A', 'L', 'P', 'V', 'L', 'H', 'Q', 'D', 'W', 'L', 'N', 'G', 'K', 'E', 'Y', 'K', 'C', 'K', 'V', 'S', 'N', 'K', 'A', 'L', 'P', 'A', 'P', 'I', 'E', 'K', 'T', 'I', 'S', 'K', 'A', 'K', 'G', 'Q', 'P', 'R', 'E', 'P', 'Q', 'V', 'Y', 'T', 'L', 'P', 'P', 'S', 'R', 'D', 'E', 'L', 'T', 'K', 'N', 'Q', 'V', 'S', 'L', 'T', 'C', 'L', 'V', 'K', 'G', 'F', 'Y', 'P', 'S', 'D', 'I', 'A', 'V', 'E', 'W', 'E', 'S', 'N', 'G', 'Q', 'P', 'E', 'N', 'N', 'Y', 'K', 'T', 'T', 'P', 'P', 'V', 'L', 'D', 'S', 'D', 'G', 'S', 'F', 'F', 'L', 'Y', 'S', 'K', 'L', 'T', 'V', 'D', 'K', 'S', 'R', 'W', 'Q', 'Q', 'G', 'N', 'V', 'F', 'S', 'C', 'S', 'V', 'M', 'H', 'E', 'A', 'L', 'H', 'N', 'H', 'Y', 'T', 'Q', 'K', 'S', 'L', 'S', 'L', 'S', 'P', 'G', 'K']], 'IFL': [['E', 'V', 'Q', 'L', 'L', 'E', 'S', 'G', 'G', 'G', 'L', 'V', 'Q', 'P', 'G', 'G', 'S', 'L', 'R', 'L', 'S', 'C', 'A', 'V', 'S', 'G', 'F', 'T', 'F', 'N', 'S', 'F', 'A', 'M', 'S', 'W', 'V', 'R', 'Q', 'A', 'P', 'G', 'K', 'G', 'L', 'E', 'W', 'V', 'S', 'A', 'I', 'S', 'G', 'S', 'G', 'G', 'G', 'T', 'Y', 'Y', 'A', 'D', 'S', 'V', 'K', 'G', 'R', 'F', 'T', 'I', 'S', 'R', 'D', 'N', 'S', 'K', 'N', 'T', 'L', 'Y', 'L', 'Q', 'M', 'N', 'S', 'L', 'R', 'A', 'E', 'D', 'T', 'A', 'V', 'Y', 'F', 'C', 'A', 'K', 'D', 'K', 'I', 'L', 'W', 'F', 'G', 'E', 'P', 'V', 'F', 'D', 'Y', 'W', 'G', 'Q', 'G', 'T', 'L', 'V', 'T', 'V', 'S', 'S', 'A', 'S', 'T', 'K', 'G', 'P', 'S', 'V', 'F', 'P', 'L', 'A', 'P', 'S', 'S', 'K', 'S', 'T', 'S', 'G', 'G', 'T', 'A', 'A', 'L', 'G', 'C', 'L', 'V', 'K', 'D', 'Y', 'F', 'P', 'E', 'P', 'V', 'T', 'V', 'S', 'W', 'N', 'S', 'G', 'A', 'L', 'T', 'S', 'G', 'V', 'H', 'T', 'F', 'P', 'A', 'V', 'L', 'Q', 'S', 'S', 'G', 'L', 'Y', 'S', 'L', 'S', 'S', 'V', 'V', 'T', 'V', 'P', 'S', 'S', 'S', 'L', 'G', 'T', 'Q', 'T', 'Y', 'I', 'C', 'N', 'V', 'N', 'H', 'K', 'P', 'S', 'N', 'T', 'K', 'V', 'D', 'K', 'R', 'V', 'E', 'P', 'K', 'S', 'C', 'D', 'K', 'T', 'H', 'T', 'C', 'P', 'P', 'C', 'P', 'A', 'P', 'E', 'L', 'L', 'G', 'G', 'P', 'S', 'V', 'F', 'L', 'F', 'P', 'P', 'K', 'P', 'K', 'D', 'T', 'L', 'M', 'I', 'S', 'R', 'T', 'P', 'E', 'V', 'T', 'C', 'V', 'V', 'V', 'D', 'V', 'S', 'H', 'E', 'D', 'P', 'E', 'V', 'K', 'F', 'N', 'W', 'Y', 'V', 'D', 'G', 'V', 'E', 'V', 'H', 'N', 'A', 'K', 'T', 'K', 'P', 'R', 'E', 'E', 'Q', 'Y', 'N', 'S', 'I', 'Y', 'R', 'V', 'V', 'S', 'V', 'L', 'F', 'L', 'L', 'H', 'Q', 'D', 'W', 'L', 'N', 'G', 'K', 'E', 'Y', 'K', 'C', 'K', 'V', 'S', 'N', 'K', 'A', 'L', 'P', 'A', 'P', 'I', 'E', 'K', 'T', 'I', 'S', 'K', 'A', 'K', 'G', 'Q', 'P', 'R', 'E', 'P', 'Q', 'V', 'Y', 'T', 'L', 'P', 'P', 'S', 'R', 'D', 'E', 'L', 'T', 'K', 'N', 'Q', 'V', 'S', 'L', 'T', 'C', 'L', 'V', 'K', 'G', 'F', 'Y', 'P', 'S', 'D', 'I', 'A', 'V', 'E', 'W', 'E', 'S', 'N', 'G', 'Q', 'P', 'E', 'N', 'N', 'Y', 'K', 'T', 'T', 'P', 'P', 'V', 'L', 'D', 'S', 'D', 'G', 'S', 'F', 'F', 'L', 'Y', 'S', 'K', 'L', 'T', 'V', 'D', 'K', 'S', 'R', 'W', 'Q', 'Q', 'G', 'N', 'V', 'F', 'S', 'C', 'S', 'V', 'M', 'H', 'E', 'A', 'L', 'H', 'N', 'H', 'Y', 'T', 'Q', 'K', 'S', 'L', 'S', 'L', 'S', 'P', 'G', 'K']], 'IQY': [['E', 'V', 'Q', 'L', 'L', 'E', 'S', 'G', 'G', 'G', 'L', 'V', 'Q', 'P', 'G', 'G', 'S', 'L', 'R', 'L', 'S', 'C', 'A', 'V', 'S', 'G', 'F', 'T', 'F', 'N', 'S', 'F', 'A', 'M', 'S', 'W', 'V', 'R', 'Q', 'A', 'P', 'G', 'K', 'G', 'L', 'E', 'W', 'V', 'S', 'A', 'I', 'S', 'G', 'S', 'G', 'G', 'G', 'T', 'Y', 'Y', 'A', 'D', 'S', 'V', 'K', 'G', 'R', 'F', 'T', 'I', 'S', 'R', 'D', 'N', 'S', 'K', 'N', 'T', 'L', 'Y', 'L', 'Q', 'M', 'N', 'S', 'L', 'R', 'A', 'E', 'D', 'T', 'A', 'V', 'Y', 'F', 'C', 'A', 'K', 'D', 'K', 'I', 'L', 'W', 'F', 'G', 'E', 'P', 'V', 'F', 'D', 'Y', 'W', 'G', 'Q', 'G', 'T', 'L', 'V', 'T', 'V', 'S', 'S', 'A', 'S', 'T', 'K', 'G', 'P', 'S', 'V', 'F', 'P', 'L', 'A', 'P', 'S', 'S', 'K', 'S', 'T', 'S', 'G', 'G', 'T', 'A', 'A', 'L', 'G', 'C', 'L', 'V', 'K', 'D', 'Y', 'F', 'P', 'E', 'P', 'V', 'T', 'V', 'S', 'W', 'N', 'S', 'G', 'A', 'L', 'T', 'S', 'G', 'V', 'H', 'T', 'F', 'P', 'A', 'V', 'L', 'Q', 'S', 'S', 'G', 'L', 'Y', 'S', 'L', 'S', 'S', 'V', 'V', 'T', 'V', 'P', 'S', 'S', 'S', 'L', 'G', 'T', 'Q', 'T', 'Y', 'I', 'C', 'N', 'V', 'N', 'H', 'K', 'P', 'S', 'N', 'T', 'K', 'V', 'D', 'K', 'R', 'V', 'E', 'P', 'K', 'S', 'C', 'D', 'K', 'T', 'H', 'T', 'C', 'P', 'P', 'C', 'P', 'A', 'P', 'E', 'L', 'L', 'G', 'G', 'P', 'S', 'V', 'F', 'L', 'F', 'P', 'P', 'K', 'P', 'K', 'D', 'T', 'L', 'M', 'I', 'S', 'R', 'T', 'P', 'E', 'V', 'T', 'C', 'V', 'V', 'V', 'D', 'V', 'S', 'H', 'E', 'D', 'P', 'E', 'V', 'K', 'F', 'N', 'W', 'Y', 'V', 'D', 'G', 'V', 'E', 'V', 'H', 'N', 'A', 'K', 'T', 'K', 'P', 'R', 'E', 'E', 'Q', 'Y', 'N', 'S', 'T', 'Y', 'R', 'V', 'V', 'S', 'I', 'L', 'T', 'Q', 'Y', 'H', 'Q', 'D', 'W', 'L', 'N', 'G', 'K', 'E', 'Y', 'K', 'C', 'K', 'V', 'S', 'N', 'K', 'A', 'L', 'P', 'A', 'P', 'I', 'E', 'K', 'T', 'I', 'S', 'K', 'A', 'K', 'G', 'Q', 'P', 'R', 'E', 'P', 'Q', 'V', 'Y', 'T', 'L', 'P', 'P', 'S', 'R', 'D', 'E', 'L', 'T', 'K', 'N', 'Q', 'V', 'S', 'L', 'T', 'C', 'L', 'V', 'K', 'G', 'F', 'Y', 'P', 'S', 'D', 'I', 'A', 'V', 'E', 'W', 'E', 'S', 'N', 'G', 'Q', 'P', 'E', 'N', 'N', 'Y', 'K', 'T', 'T', 'P', 'P', 'V', 'L', 'D', 'S', 'D', 'G', 'S', 'F', 'F', 'L', 'Y', 'S', 'K', 'L', 'T', 'V', 'D', 'K', 'S', 'R', 'W', 'Q', 'Q', 'G', 'N', 'V', 'F', 'S', 'C', 'S', 'V', 'M', 'H', 'E', 'A', 'L', 'H', 'N', 'H', 'Y', 'T', 'Q', 'K', 'S', 'L', 'S', 'L', 'S', 'P', 'G', 'K']], 'TYA': [['E', 'V', 'Q', 'L', 'L', 'E', 'S', 'G', 'G', 'G', 'L', 'V', 'Q', 'P', 'G', 'G', 'S', 'L', 'R', 'L', 'S', 'C', 'A', 'V', 'S', 'G', 'F', 'T', 'F', 'N', 'S', 'F', 'A', 'M', 'S', 'W', 'V', 'R', 'Q', 'A', 'P', 'G', 'K', 'G', 'L', 'E', 'W', 'V', 'S', 'A', 'I', 'S', 'G', 'S', 'G', 'G', 'G', 'T', 'Y', 'Y', 'A', 'D', 'S', 'V', 'K', 'G', 'R', 'F', 'T', 'I', 'S', 'R', 'D', 'N', 'S', 'K', 'N', 'T', 'L', 'Y', 'L', 'Q', 'M', 'N', 'S', 'L', 'R', 'A', 'E', 'D', 'T', 'A', 'V', 'Y', 'F', 'C', 'A', 'K', 'D', 'K', 'I', 'L', 'W', 'F', 'G', 'E', 'P', 'V', 'F', 'D', 'Y', 'W', 'G', 'Q', 'G', 'T', 'L', 'V', 'T', 'V', 'S', 'S', 'A', 'S', 'T', 'K', 'G', 'P', 'S', 'V', 'F', 'P', 'L', 'A', 'P', 'S', 'S', 'K', 'S', 'T', 'S', 'G', 'G', 'T', 'A', 'A', 'L', 'G', 'C', 'L', 'V', 'K', 'D', 'Y', 'F', 'P', 'E', 'P', 'V', 'T', 'V', 'S', 'W', 'N', 'S', 'G', 'A', 'L', 'T', 'S', 'G', 'V', 'H', 'T', 'F', 'P', 'A', 'V', 'L', 'Q', 'S', 'S', 'G', 'L', 'Y', 'S', 'L', 'S', 'S', 'V', 'V', 'T', 'V', 'P', 'S', 'S', 'S', 'L', 'G', 'T', 'Q', 'T', 'Y', 'I', 'C', 'N', 'V', 'N', 'H', 'K', 'P', 'S', 'N', 'T', 'K', 'V', 'D', 'K', 'R', 'V', 'E', 'P', 'K', 'S', 'C', 'D', 'K', 'T', 'H', 'T', 'C', 'P', 'P', 'C', 'P', 'A', 'P', 'E', 'L', 'L', 'G', 'G', 'P', 'S', 'V', 'F', 'L', 'F', 'P', 'P', 'K', 'P', 'K', 'D', 'T', 'L', 'M', 'I', 'S', 'R', 'T', 'P', 'E', 'V', 'T', 'C', 'V', 'V', 'V', 'D', 'V', 'S', 'H', 'E', 'D', 'P', 'E', 'V', 'K', 'F', 'N', 'W', 'Y', 'V', 'D', 'G', 'V', 'E', 'V', 'H', 'N', 'A', 'K', 'T', 'K', 'P', 'R', 'E', 'E', 'Q', 'Y', 'N', 'S', 'T', 'Y', 'R', 'V', 'T', 'Y', 'V', 'A', 'T', 'V', 'L', 'H', 'Q', 'D', 'W', 'L', 'N', 'G', 'K', 'E', 'Y', 'K', 'C', 'K', 'V', 'S', 'N', 'K', 'A', 'L', 'P', 'A', 'P', 'I', 'E', 'K', 'T', 'I', 'S', 'K', 'A', 'K', 'G', 'Q', 'P', 'R', 'E', 'P', 'Q', 'V', 'Y', 'T', 'L', 'P', 'P', 'S', 'R', 'D', 'E', 'L', 'T', 'K', 'N', 'Q', 'V', 'S', 'L', 'T', 'C', 'L', 'V', 'K', 'G', 'F', 'Y', 'P', 'S', 'D', 'I', 'A', 'V', 'E', 'W', 'E', 'S', 'N', 'G', 'Q', 'P', 'E', 'N', 'N', 'Y', 'K', 'T', 'T', 'P', 'P', 'V', 'L', 'D', 'S', 'D', 'G', 'S', 'F', 'F', 'L', 'Y', 'S', 'K', 'L', 'T', 'V', 'D', 'K', 'S', 'R', 'W', 'Q', 'Q', 'G', 'N', 'V', 'F', 'S', 'C', 'S', 'V', 'M', 'H', 'E', 'A', 'L', 'H', 'N', 'H', 'Y', 'T', 'Q', 'K', 'S', 'L', 'S', 'L', 'S', 'P', 'G', 'K']], 'AGG': [['E', 'V', 'Q', 'L', 'L', 'E', 'S', 'G', 'G', 'G', 'L', 'V', 'Q', 'P', 'G', 'G', 'S', 'L', 'R', 'L', 'S', 'C', 'A', 'V', 'S', 'G', 'F', 'T', 'F', 'N', 'S', 'F', 'A', 'M', 'S', 'W', 'V', 'R', 'Q', 'A', 'P', 'G', 'K', 'G', 'L', 'E', 'W', 'V', 'S', 'A', 'I', 'S', 'G', 'S', 'G', 'G', 'G', 'T', 'Y', 'Y', 'A', 'D', 'S', 'V', 'K', 'G', 'R', 'F', 'T', 'I', 'S', 'R', 'D', 'N', 'S', 'K', 'N', 'T', 'L', 'Y', 'L', 'Q', 'M', 'N', 'S', 'L', 'R', 'A', 'E', 'D', 'T', 'A', 'V', 'Y', 'F', 'C', 'A', 'K', 'D', 'K', 'I', 'L', 'W', 'F', 'G', 'E', 'P', 'V', 'F', 'D', 'Y', 'W', 'G', 'Q', 'G', 'T', 'L', 'V', 'T', 'V', 'S', 'S', 'A', 'S', 'T', 'K', 'G', 'P', 'S', 'V', 'F', 'P', 'L', 'A', 'P', 'S', 'S', 'K', 'S', 'T', 'S', 'G', 'G', 'T', 'A', 'A', 'L', 'G', 'C', 'L', 'V', 'K', 'D', 'Y', 'F', 'P', 'E', 'P', 'V', 'T', 'V', 'S', 'W', 'N', 'S', 'G', 'A', 'L', 'T', 'S', 'G', 'V', 'H', 'T', 'F', 'P', 'A', 'V', 'L', 'Q', 'S', 'S', 'G', 'L', 'Y', 'S', 'L', 'S', 'S', 'V', 'V', 'T', 'V', 'P', 'S', 'S', 'S', 'L', 'G', 'T', 'Q', 'T', 'Y', 'I', 'C', 'N', 'V', 'N', 'H', 'K', 'P', 'S', 'N', 'T', 'K', 'V', 'D', 'K', 'R', 'V', 'E', 'P', 'K', 'S', 'C', 'D', 'K', 'T', 'H', 'T', 'C', 'P', 'P', 'C', 'P', 'A', 'P', 'E', 'L', 'L', 'G', 'G', 'P', 'S', 'V', 'F', 'L', 'F', 'P', 'P', 'K', 'P', 'K', 'D', 'T', 'L', 'M', 'I', 'S', 'R', 'T', 'P', 'E', 'V', 'T', 'C', 'V', 'V', 'V', 'D', 'V', 'S', 'H', 'E', 'D', 'P', 'E', 'V', 'K', 'F', 'N', 'W', 'Y', 'V', 'D', 'G', 'V', 'E', 'V', 'H', 'N', 'A', 'K', 'T', 'K', 'P', 'R', 'E', 'E', 'Q', 'Y', 'N', 'S', 'T', 'Y', 'A', 'G', 'V', 'S', 'V', 'L', 'G', 'V', 'L', 'H', 'Q', 'D', 'W', 'L', 'N', 'G', 'K', 'E', 'Y', 'K', 'C', 'K', 'V', 'S', 'N', 'K', 'A', 'L', 'P', 'A', 'P', 'I', 'E', 'K', 'T', 'I', 'S', 'K', 'A', 'K', 'G', 'Q', 'P', 'R', 'E', 'P', 'Q', 'V', 'Y', 'T', 'L', 'P', 'P', 'S', 'R', 'D', 'E', 'L', 'T', 'K', 'N', 'Q', 'V', 'S', 'L', 'T', 'C', 'L', 'V', 'K', 'G', 'F', 'Y', 'P', 'S', 'D', 'I', 'A', 'V', 'E', 'W', 'E', 'S', 'N', 'G', 'Q', 'P', 'E', 'N', 'N', 'Y', 'K', 'T', 'T', 'P', 'P', 'V', 'L', 'D', 'S', 'D', 'G', 'S', 'F', 'F', 'L', 'Y', 'S', 'K', 'L', 'T', 'V', 'D', 'K', 'S', 'R', 'W', 'Q', 'Q', 'G', 'N', 'V', 'F', 'S', 'C', 'S', 'V', 'M', 'H', 'E', 'A', 'L', 'H', 'N', 'H', 'Y', 'T', 'Q', 'K', 'S', 'L', 'S', 'L', 'S', 'P', 'G', 'K']], 'KLI': [['E', 'V', 'Q', 'L', 'L', 'E', 'S', 'G', 'G', 'G', 'L', 'V', 'Q', 'P', 'G', 'G', 'S', 'L', 'R', 'L', 'S', 'C', 'A', 'V', 'S', 'G', 'F', 'T', 'F', 'N', 'S', 'F', 'A', 'M', 'S', 'W', 'V', 'R', 'Q', 'A', 'P', 'G', 'K', 'G', 'L', 'E', 'W', 'V', 'S', 'A', 'I', 'S', 'G', 'S', 'G', 'G', 'G', 'T', 'Y', 'Y', 'A', 'D', 'S', 'V', 'K', 'G', 'R', 'F', 'T', 'I', 'S', 'R', 'D', 'N', 'S', 'K', 'N', 'T', 'L', 'Y', 'L', 'Q', 'M', 'N', 'S', 'L', 'R', 'A', 'E', 'D', 'T', 'A', 'V', 'Y', 'F', 'C', 'A', 'K', 'D', 'K', 'I', 'L', 'W', 'F', 'G', 'E', 'P', 'V', 'F', 'D', 'Y', 'W', 'G', 'Q', 'G', 'T', 'L', 'V', 'T', 'V', 'S', 'S', 'A', 'S', 'T', 'K', 'G', 'P', 'S', 'V', 'F', 'P', 'L', 'A', 'P', 'S', 'S', 'K', 'S', 'T', 'S', 'G', 'G', 'T', 'A', 'A', 'L', 'G', 'C', 'L', 'V', 'K', 'D', 'Y', 'F', 'P', 'E', 'P', 'V', 'T', 'V', 'S', 'W', 'N', 'S', 'G', 'A', 'L', 'T', 'S', 'G', 'V', 'H', 'T', 'F', 'P', 'A', 'V', 'L', 'Q', 'S', 'S', 'G', 'L', 'Y', 'S', 'L', 'S', 'S', 'V', 'V', 'T', 'V', 'P', 'S', 'S', 'S', 'L', 'G', 'T', 'Q', 'T', 'Y', 'I', 'C', 'N', 'V', 'N', 'H', 'K', 'P', 'S', 'N', 'T', 'K', 'V', 'D', 'K', 'R', 'V', 'E', 'P', 'K', 'S', 'C', 'D', 'K', 'T', 'H', 'T', 'C', 'P', 'P', 'C', 'P', 'A', 'P', 'E', 'L', 'L', 'G', 'G', 'P', 'S', 'V', 'F', 'L', 'F', 'P', 'P', 'K', 'P', 'K', 'D', 'T', 'L', 'M', 'I', 'S', 'R', 'T', 'P', 'E', 'V', 'T', 'C', 'V', 'V', 'V', 'D', 'V', 'S', 'H', 'E', 'D', 'P', 'E', 'V', 'K', 'F', 'N', 'W', 'Y', 'V', 'D', 'G', 'V', 'E', 'V', 'H', 'N', 'A', 'K', 'T', 'K', 'P', 'R', 'E', 'E', 'Q', 'Y', 'N', 'S', 'K', 'Y', 'R', 'L', 'V', 'S', 'V', 'I', 'T', 'V', 'L', 'H', 'Q', 'D', 'W', 'L', 'N', 'G', 'K', 'E', 'Y', 'K', 'C', 'K', 'V', 'S', 'N', 'K', 'A', 'L', 'P', 'A', 'P', 'I', 'E', 'K', 'T', 'I', 'S', 'K', 'A', 'K', 'G', 'Q', 'P', 'R', 'E', 'P', 'Q', 'V', 'Y', 'T', 'L', 'P', 'P', 'S', 'R', 'D', 'E', 'L', 'T', 'K', 'N', 'Q', 'V', 'S', 'L', 'T', 'C', 'L', 'V', 'K', 'G', 'F', 'Y', 'P', 'S', 'D', 'I', 'A', 'V', 'E', 'W', 'E', 'S', 'N', 'G', 'Q', 'P', 'E', 'N', 'N', 'Y', 'K', 'T', 'T', 'P', 'P', 'V', 'L', 'D', 'S', 'D', 'G', 'S', 'F', 'F', 'L', 'Y', 'S', 'K', 'L', 'T', 'V', 'D', 'K', 'S', 'R', 'W', 'Q', 'Q', 'G', 'N', 'V', 'F', 'S', 'C', 'S', 'V', 'M', 'H', 'E', 'A', 'L', 'H', 'N', 'H', 'Y', 'T', 'Q', 'K', 'S', 'L', 'S', 'L', 'S', 'P', 'G', 'K']], 'experimental-hand': [['E', 'V', 'Q', 'L', 'L', 'E', 'S', 'G', 'G', 'G', 'L', 'V', 'Q', 'P', 'G', 'G', 'S', 'L', 'R', 'L', 'S', 'C', 'A', 'V', 'S', 'G', 'F', 'T', 'F', 'N', 'S', 'F', 'A', 'M', 'S', 'W', 'V', 'R', 'Q', 'A', 'P', 'G', 'K', 'G', 'L', 'E', 'W', 'V', 'S', 'A', 'I', 'S', 'G', 'S', 'G', 'G', 'G', 'T', 'Y', 'Y', 'A', 'D', 'S', 'V', 'K', 'G', 'R', 'F', 'T', 'I', 'S', 'R', 'D', 'N', 'S', 'K', 'N', 'T', 'L', 'Y', 'L', 'Q', 'M', 'N', 'S', 'L', 'R', 'A', 'E', 'D', 'T', 'A', 'V', 'Y', 'F', 'C', 'A', 'K', 'D', 'K', 'I', 'L', 'W', 'F', 'G', 'E', 'P', 'V', 'F', 'D', 'Y', 'W', 'G', 'Q', 'G', 'T', 'L', 'V', 'T', 'V', 'S', 'S', 'A', 'S', 'T', 'K', 'G', 'P', 'S', 'V', 'F', 'P', 'L', 'A', 'P', 'S', 'S', 'K', 'S', 'T', 'S', 'G', 'G', 'T', 'A', 'A', 'L', 'G', 'C', 'L', 'V', 'K', 'D', 'Y', 'F', 'P', 'E', 'P', 'V', 'T', 'V', 'S', 'W', 'N', 'S', 'G', 'A', 'L', 'T', 'S', 'G', 'V', 'H', 'T', 'F', 'P', 'A', 'V', 'L', 'Q', 'S', 'S', 'G', 'L', 'Y', 'S', 'L', 'S', 'S', 'V', 'V', 'T', 'V', 'P', 'S', 'S', 'S', 'L', 'G', 'T', 'Q', 'T', 'Y', 'I', 'C', 'N', 'V', 'N', 'H', 'K', 'P', 'S', 'N', 'T', 'K', 'V', 'D', 'K', 'R', 'V', 'E', 'P', 'K', 'S', 'C', 'D', 'K', 'T', 'H', 'T', 'C', 'P', 'P', 'C', 'P', 'A', 'P', 'E', 'L', 'L', 'G', 'G', 'P', 'S', 'V', 'F', 'L', 'F', 'P', 'P', 'K', 'P', 'K', 'D', 'T', 'L', 'M', 'I', 'S', 'R', 'T', 'P', 'E', 'V', 'T', 'C', 'V', 'V', 'V', 'L', 'V', 'S', 'H', 'E', 'D', 'P', 'E', 'V', 'K', 'F', 'N', 'W', 'Y', 'V', 'D', 'G', 'V', 'E', 'V', 'H', 'N', 'A', 'K', 'T', 'K', 'P', 'R', 'E', 'E', 'Q', 'Y', 'N', 'S', 'T', 'Y', 'R', 'V', 'T', 'S', 'V', 'L', 'T', 'V', 'L', 'H', 'Q', 'D', 'W', 'L', 'N', 'G', 'K', 'E', 'Y', 'K', 'C', 'K', 'V', 'S', 'N', 'K', 'A', 'L', 'P', 'A', 'P', 'I', 'E', 'K', 'T', 'I', 'S', 'K', 'A', 'K', 'G', 'Q', 'P', 'R', 'E', 'P', 'Q', 'V', 'Y', 'T', 'L', 'P', 'P', 'S', 'R', 'D', 'E', 'L', 'T', 'K', 'N', 'Q', 'V', 'S', 'L', 'T', 'C', 'L', 'V', 'K', 'G', 'F', 'Y', 'P', 'S', 'D', 'I', 'A', 'V', 'E', 'W', 'E', 'S', 'N', 'G', 'Q', 'P', 'E', 'N', 'N', 'Y', 'K', 'T', 'T', 'P', 'P', 'V', 'L', 'D', 'S', 'D', 'G', 'S', 'F', 'F', 'L', 'Y', 'S', 'K', 'L', 'T', 'V', 'D', 'K', 'S', 'R', 'W', 'Q', 'Q', 'G', 'N', 'V', 'F', 'S', 'C', 'S', 'V', 'M', 'H', 'E', 'A', 'S', 'H', 'N', 'H', 'Y', 'T', 'Q', 'K', 'S', 'L', 'S', 'L', 'S', 'P', 'G', 'K']], 'supreme-security': [['E', 'V', 'Q', 'L', 'L', 'E', 'S', 'G', 'G', 'G', 'L', 'V', 'Q', 'P', 'G', 'G', 'S', 'L', 'R', 'L', 'S', 'C', 'A', 'V', 'S', 'G', 'F', 'T', 'F', 'N', 'S', 'F', 'A', 'M', 'S', 'W', 'V', 'R', 'Q', 'A', 'P', 'G', 'K', 'G', 'L', 'E', 'W', 'V', 'S', 'A', 'I', 'S', 'G', 'S', 'G', 'G', 'G', 'T', 'Y', 'Y', 'A', 'D', 'S', 'V', 'K', 'G', 'R', 'F', 'T', 'I', 'S', 'R', 'D', 'N', 'S', 'K', 'N', 'T', 'L', 'Y', 'L', 'Q', 'M', 'N', 'S', 'L', 'R', 'A', 'E', 'D', 'T', 'A', 'V', 'Y', 'F', 'C', 'A', 'K', 'D', 'K', 'I', 'L', 'W', 'F', 'G', 'E', 'P', 'V', 'F', 'D', 'Y', 'W', 'G', 'Q', 'G', 'T', 'L', 'V', 'T', 'V', 'S', 'S', 'A', 'S', 'T', 'K', 'G', 'P', 'S', 'V', 'F', 'P', 'L', 'A', 'P', 'S', 'S', 'K', 'S', 'T', 'S', 'G', 'G', 'T', 'A', 'A', 'L', 'G', 'C', 'L', 'V', 'K', 'D', 'Y', 'F', 'P', 'E', 'P', 'V', 'T', 'V', 'S', 'W', 'N', 'S', 'G', 'A', 'L', 'T', 'S', 'G', 'V', 'H', 'T', 'F', 'P', 'A', 'V', 'L', 'Q', 'S', 'S', 'G', 'L', 'Y', 'S', 'L', 'S', 'S', 'V', 'V', 'T', 'V', 'P', 'S', 'S', 'S', 'L', 'G', 'T', 'Q', 'T', 'Y', 'I', 'C', 'N', 'V', 'N', 'H', 'K', 'P', 'S', 'N', 'T', 'K', 'V', 'D', 'K', 'R', 'V', 'E', 'P', 'K', 'S', 'C', 'D', 'K', 'T', 'H', 'T', 'C', 'P', 'P', 'C', 'P', 'A', 'P', 'E', 'L', 'L', 'G', 'G', 'P', 'S', 'V', 'F', 'L', 'F', 'P', 'P', 'K', 'P', 'K', 'D', 'Q', 'L', 'M', 'I', 'S', 'R', 'T', 'P', 'E', 'V', 'T', 'C', 'V', 'V', 'V', 'D', 'V', 'S', 'H', 'E', 'D', 'P', 'E', 'V', 'K', 'F', 'N', 'W', 'Y', 'V', 'D', 'G', 'V', 'E', 'V', 'H', 'N', 'A', 'K', 'T', 'K', 'P', 'R', 'E', 'E', 'Q', 'Y', 'N', 'S', 'T', 'Y', 'R', 'V', 'V', 'S', 'A', 'L', 'T', 'V', 'L', 'H', 'Q', 'D', 'W', 'L', 'N', 'G', 'K', 'E', 'Y', 'K', 'C', 'K', 'V', 'S', 'N', 'K', 'A', 'L', 'P', 'A', 'P', 'I', 'E', 'K', 'T', 'I', 'S', 'K', 'A', 'K', 'G', 'Q', 'P', 'R', 'E', 'P', 'Q', 'V', 'Y', 'T', 'L', 'P', 'P', 'S', 'R', 'D', 'E', 'L', 'T', 'K', 'N', 'Q', 'V', 'S', 'L', 'T', 'C', 'L', 'V', 'K', 'G', 'F', 'Y', 'P', 'S', 'P', 'S', 'A', 'V', 'E', 'W', 'E', 'S', 'N', 'G', 'Q', 'P', 'E', 'N', 'N', 'Y', 'K', 'T', 'T', 'P', 'P', 'V', 'L', 'D', 'S', 'D', 'G', 'S', 'F', 'F', 'L', 'Y', 'S', 'K', 'L', 'T', 'V', 'D', 'K', 'S', 'R', 'W', 'Q', 'Q', 'G', 'N', 'V', 'F', 'S', 'C', 'S', 'V', 'M', 'H', 'E', 'A', 'L', 'H', 'N', 'H', 'Y', 'T', 'Q', 'K', 'S', 'L', 'S', 'L', 'S', 'P', 'G', 'K']], 'overall-army': [['E', 'V', 'Q', 'L', 'L', 'E', 'S', 'G', 'G', 'G', 'L', 'V', 'Q', 'P', 'G', 'G', 'S', 'L', 'R', 'L', 'S', 'C', 'A', 'V', 'S', 'G', 'F', 'T', 'F', 'N', 'S', 'F', 'A', 'M', 'S', 'W', 'V', 'R', 'Q', 'A', 'P', 'G', 'K', 'G', 'L', 'E', 'W', 'V', 'S', 'A', 'I', 'S', 'G', 'S', 'G', 'G', 'G', 'T', 'Y', 'Y', 'A', 'D', 'S', 'V', 'K', 'G', 'R', 'F', 'T', 'I', 'S', 'R', 'D', 'N', 'S', 'K', 'N', 'T', 'L', 'Y', 'L', 'Q', 'M', 'N', 'S', 'L', 'R', 'A', 'E', 'D', 'T', 'A', 'V', 'Y', 'F', 'C', 'A', 'K', 'D', 'K', 'I', 'L', 'W', 'F', 'G', 'E', 'P', 'V', 'F', 'D', 'Y', 'W', 'G', 'Q', 'G', 'T', 'L', 'V', 'T', 'V', 'S', 'S', 'A', 'S', 'T', 'K', 'G', 'P', 'S', 'V', 'F', 'P', 'L', 'A', 'P', 'S', 'S', 'K', 'S', 'T', 'S', 'G', 'G', 'T', 'A', 'A', 'L', 'G', 'C', 'L', 'V', 'K', 'D', 'Y', 'F', 'P', 'E', 'P', 'V', 'T', 'V', 'S', 'W', 'N', 'S', 'G', 'A', 'L', 'T', 'S', 'G', 'V', 'H', 'T', 'F', 'P', 'A', 'V', 'L', 'Q', 'S', 'S', 'G', 'L', 'Y', 'S', 'L', 'S', 'S', 'V', 'V', 'T', 'V', 'P', 'S', 'S', 'S', 'L', 'G', 'T', 'Q', 'T', 'Y', 'I', 'C', 'N', 'V', 'N', 'H', 'K', 'P', 'S', 'N', 'T', 'K', 'V', 'D', 'K', 'R', 'V', 'E', 'P', 'K', 'S', 'C', 'D', 'K', 'T', 'H', 'T', 'C', 'P', 'P', 'C', 'P', 'A', 'P', 'E', 'L', 'L', 'G', 'A', 'P', 'S', 'V', 'F', 'L', 'F', 'P', 'P', 'K', 'P', 'K', 'D', 'T', 'L', 'M', 'I', 'S', 'R', 'T', 'P', 'E', 'V', 'T', 'C', 'V', 'V', 'V', 'A', 'V', 'S', 'H', 'E', 'D', 'P', 'E', 'V', 'K', 'F', 'N', 'W', 'Y', 'V', 'D', 'G', 'V', 'E', 'V', 'H', 'N', 'A', 'K', 'T', 'K', 'P', 'R', 'E', 'E', 'Q', 'Y', 'N', 'S', 'T', 'Y', 'R', 'V', 'V', 'S', 'V', 'L', 'T', 'V', 'L', 'H', 'Q', 'D', 'W', 'L', 'N', 'G', 'K', 'E', 'Y', 'K', 'C', 'K', 'V', 'S', 'N', 'K', 'A', 'L', 'P', 'A', 'P', 'I', 'E', 'K', 'T', 'I', 'S', 'K', 'A', 'K', 'G', 'Q', 'P', 'R', 'E', 'P', 'Q', 'V', 'Y', 'T', 'L', 'P', 'P', 'S', 'R', 'D', 'E', 'L', 'T', 'K', 'N', 'Q', 'V', 'S', 'L', 'T', 'C', 'L', 'V', 'K', 'G', 'F', 'Y', 'P', 'S', 'D', 'I', 'A', 'V', 'E', 'W', 'E', 'S', 'N', 'G', 'Q', 'P', 'E', 'N', 'N', 'Y', 'K', 'T', 'T', 'P', 'P', 'V', 'L', 'D', 'S', 'D', 'G', 'S', 'F', 'F', 'L', 'Y', 'S', 'K', 'L', 'T', 'V', 'D', 'K', 'S', 'R', 'W', 'Q', 'Q', 'G', 'N', 'V', 'F', 'S', 'C', 'S', 'V', 'M', 'H', 'E', 'A', 'L', 'H', 'N', 'H', 'Y', 'T', 'Q', 'K', 'S', 'L', 'S', 'L', 'S', 'P', 'G', 'K']], 'IRF': [['E', 'V', 'Q', 'L', 'L', 'E', 'S', 'G', 'G', 'G', 'L', 'V', 'Q', 'P', 'G', 'G', 'S', 'L', 'R', 'L', 'S', 'C', 'A', 'V', 'S', 'G', 'F', 'T', 'F', 'N', 'S', 'F', 'A', 'M', 'S', 'W', 'V', 'R', 'Q', 'A', 'P', 'G', 'K', 'G', 'L', 'E', 'W', 'V', 'S', 'A', 'I', 'S', 'G', 'S', 'G', 'G', 'G', 'T', 'Y', 'Y', 'A', 'D', 'S', 'V', 'K', 'G', 'R', 'F', 'T', 'I', 'S', 'R', 'D', 'N', 'S', 'K', 'N', 'T', 'L', 'Y', 'L', 'Q', 'M', 'N', 'S', 'L', 'R', 'A', 'E', 'D', 'T', 'A', 'V', 'Y', 'F', 'C', 'A', 'K', 'D', 'K', 'I', 'L', 'W', 'F', 'G', 'E', 'P', 'V', 'F', 'D', 'Y', 'W', 'G', 'Q', 'G', 'T', 'L', 'V', 'T', 'V', 'S', 'S', 'A', 'S', 'T', 'K', 'G', 'P', 'S', 'V', 'F', 'P', 'L', 'A', 'P', 'S', 'S', 'K', 'S', 'T', 'S', 'G', 'G', 'T', 'A', 'A', 'L', 'G', 'C', 'L', 'V', 'K', 'D', 'Y', 'F', 'P', 'E', 'P', 'V', 'T', 'V', 'S', 'W', 'N', 'S', 'G', 'A', 'L', 'T', 'S', 'G', 'V', 'H', 'T', 'F', 'P', 'A', 'V', 'L', 'Q', 'S', 'S', 'G', 'L', 'Y', 'S', 'L', 'S', 'S', 'V', 'V', 'T', 'V', 'P', 'S', 'S', 'S', 'L', 'G', 'T', 'Q', 'T', 'Y', 'I', 'C', 'N', 'V', 'N', 'H', 'K', 'P', 'S', 'N', 'T', 'K', 'V', 'D', 'K', 'R', 'V', 'E', 'P', 'K', 'S', 'C', 'D', 'K', 'T', 'H', 'T', 'C', 'P', 'P', 'C', 'P', 'A', 'P', 'E', 'L', 'L', 'G', 'G', 'P', 'S', 'V', 'F', 'L', 'F', 'P', 'P', 'K', 'P', 'K', 'D', 'T', 'L', 'M', 'I', 'S', 'R', 'T', 'P', 'E', 'V', 'T', 'C', 'V', 'V', 'V', 'D', 'V', 'S', 'H', 'E', 'D', 'P', 'E', 'V', 'K', 'F', 'N', 'W', 'Y', 'V', 'D', 'G', 'V', 'E', 'V', 'H', 'N', 'A', 'K', 'T', 'K', 'P', 'R', 'E', 'E', 'Q', 'Y', 'N', 'S', 'I', 'R', 'R', 'V', 'V', 'F', 'V', 'L', 'T', 'V', 'L', 'H', 'Q', 'D', 'W', 'L', 'N', 'G', 'K', 'E', 'Y', 'K', 'C', 'K', 'V', 'S', 'N', 'K', 'A', 'L', 'P', 'A', 'P', 'I', 'E', 'K', 'T', 'I', 'S', 'K', 'A', 'K', 'G', 'Q', 'P', 'R', 'E', 'P', 'Q', 'V', 'Y', 'T', 'L', 'P', 'P', 'S', 'R', 'D', 'E', 'L', 'T', 'K', 'N', 'Q', 'V', 'S', 'L', 'T', 'C', 'L', 'V', 'K', 'G', 'F', 'Y', 'P', 'S', 'D', 'I', 'A', 'V', 'E', 'W', 'E', 'S', 'N', 'G', 'Q', 'P', 'E', 'N', 'N', 'Y', 'K', 'T', 'T', 'P', 'P', 'V', 'L', 'D', 'S', 'D', 'G', 'S', 'F', 'F', 'L', 'Y', 'S', 'K', 'L', 'T', 'V', 'D', 'K', 'S', 'R', 'W', 'Q', 'Q', 'G', 'N', 'V', 'F', 'S', 'C', 'S', 'V', 'M', 'H', 'E', 'A', 'L', 'H', 'N', 'H', 'Y', 'T', 'Q', 'K', 'S', 'L', 'S', 'L', 'S', 'P', 'G', 'K']], 'ILK': [['E', 'V', 'Q', 'L', 'L', 'E', 'S', 'G', 'G', 'G', 'L', 'V', 'Q', 'P', 'G', 'G', 'S', 'L', 'R', 'L', 'S', 'C', 'A', 'V', 'S', 'G', 'F', 'T', 'F', 'N', 'S', 'F', 'A', 'M', 'S', 'W', 'V', 'R', 'Q', 'A', 'P', 'G', 'K', 'G', 'L', 'E', 'W', 'V', 'S', 'A', 'I', 'S', 'G', 'S', 'G', 'G', 'G', 'T', 'Y', 'Y', 'A', 'D', 'S', 'V', 'K', 'G', 'R', 'F', 'T', 'I', 'S', 'R', 'D', 'N', 'S', 'K', 'N', 'T', 'L', 'Y', 'L', 'Q', 'M', 'N', 'S', 'L', 'R', 'A', 'E', 'D', 'T', 'A', 'V', 'Y', 'F', 'C', 'A', 'K', 'D', 'K', 'I', 'L', 'W', 'F', 'G', 'E', 'P', 'V', 'F', 'D', 'Y', 'W', 'G', 'Q', 'G', 'T', 'L', 'V', 'T', 'V', 'S', 'S', 'A', 'S', 'T', 'K', 'G', 'P', 'S', 'V', 'F', 'P', 'L', 'A', 'P', 'S', 'S', 'K', 'S', 'T', 'S', 'G', 'G', 'T', 'A', 'A', 'L', 'G', 'C', 'L', 'V', 'K', 'D', 'Y', 'F', 'P', 'E', 'P', 'V', 'T', 'V', 'S', 'W', 'N', 'S', 'G', 'A', 'L', 'T', 'S', 'G', 'V', 'H', 'T', 'F', 'P', 'A', 'V', 'L', 'Q', 'S', 'S', 'G', 'L', 'Y', 'S', 'L', 'S', 'S', 'V', 'V', 'T', 'V', 'P', 'S', 'S', 'S', 'L', 'G', 'T', 'Q', 'T', 'Y', 'I', 'C', 'N', 'V', 'N', 'H', 'K', 'P', 'S', 'N', 'T', 'K', 'V', 'D', 'K', 'R', 'V', 'E', 'P', 'K', 'S', 'C', 'D', 'K', 'T', 'H', 'T', 'C', 'P', 'P', 'C', 'P', 'A', 'P', 'E', 'L', 'L', 'G', 'G', 'P', 'S', 'V', 'F', 'L', 'F', 'P', 'P', 'K', 'P', 'K', 'D', 'T', 'L', 'M', 'I', 'S', 'R', 'T', 'P', 'E', 'V', 'T', 'C', 'V', 'V', 'V', 'D', 'V', 'S', 'H', 'E', 'D', 'P', 'E', 'V', 'K', 'F', 'N', 'W', 'Y', 'V', 'D', 'G', 'V', 'E', 'V', 'H', 'N', 'A', 'K', 'T', 'K', 'P', 'R', 'E', 'E', 'Q', 'Y', 'N', 'S', 'T', 'Y', 'R', 'V', 'V', 'S', 'V', 'I', 'L', 'V', 'K', 'H', 'Q', 'D', 'W', 'L', 'N', 'G', 'K', 'E', 'Y', 'K', 'C', 'K', 'V', 'S', 'N', 'K', 'A', 'L', 'P', 'A', 'P', 'I', 'E', 'K', 'T', 'I', 'S', 'K', 'A', 'K', 'G', 'Q', 'P', 'R', 'E', 'P', 'Q', 'V', 'Y', 'T', 'L', 'P', 'P', 'S', 'R', 'D', 'E', 'L', 'T', 'K', 'N', 'Q', 'V', 'S', 'L', 'T', 'C', 'L', 'V', 'K', 'G', 'F', 'Y', 'P', 'S', 'D', 'I', 'A', 'V', 'E', 'W', 'E', 'S', 'N', 'G', 'Q', 'P', 'E', 'N', 'N', 'Y', 'K', 'T', 'T', 'P', 'P', 'V', 'L', 'D', 'S', 'D', 'G', 'S', 'F', 'F', 'L', 'Y', 'S', 'K', 'L', 'T', 'V', 'D', 'K', 'S', 'R', 'W', 'Q', 'Q', 'G', 'N', 'V', 'F', 'S', 'C', 'S', 'V', 'M', 'H', 'E', 'A', 'L', 'H', 'N', 'H', 'Y', 'T', 'Q', 'K', 'S', 'L', 'S', 'L', 'S', 'P', 'G', 'K']], 'RIP': [['E', 'V', 'Q', 'L', 'L', 'E', 'S', 'G', 'G', 'G', 'L', 'V', 'Q', 'P', 'G', 'G', 'S', 'L', 'R', 'L', 'S', 'C', 'A', 'V', 'S', 'G', 'F', 'T', 'F', 'N', 'S', 'F', 'A', 'M', 'S', 'W', 'V', 'R', 'Q', 'A', 'P', 'G', 'K', 'G', 'L', 'E', 'W', 'V', 'S', 'A', 'I', 'S', 'G', 'S', 'G', 'G', 'G', 'T', 'Y', 'Y', 'A', 'D', 'S', 'V', 'K', 'G', 'R', 'F', 'T', 'I', 'S', 'R', 'D', 'N', 'S', 'K', 'N', 'T', 'L', 'Y', 'L', 'Q', 'M', 'N', 'S', 'L', 'R', 'A', 'E', 'D', 'T', 'A', 'V', 'Y', 'F', 'C', 'A', 'K', 'D', 'K', 'I', 'L', 'W', 'F', 'G', 'E', 'P', 'V', 'F', 'D', 'Y', 'W', 'G', 'Q', 'G', 'T', 'L', 'V', 'T', 'V', 'S', 'S', 'A', 'S', 'T', 'K', 'G', 'P', 'S', 'V', 'F', 'P', 'L', 'A', 'P', 'S', 'S', 'K', 'S', 'T', 'S', 'G', 'G', 'T', 'A', 'A', 'L', 'G', 'C', 'L', 'V', 'K', 'D', 'Y', 'F', 'P', 'E', 'P', 'V', 'T', 'V', 'S', 'W', 'N', 'S', 'G', 'A', 'L', 'T', 'S', 'G', 'V', 'H', 'T', 'F', 'P', 'A', 'V', 'L', 'Q', 'S', 'S', 'G', 'L', 'Y', 'S', 'L', 'S', 'S', 'V', 'V', 'T', 'V', 'P', 'S', 'S', 'S', 'L', 'G', 'T', 'Q', 'T', 'Y', 'I', 'C', 'N', 'V', 'N', 'H', 'K', 'P', 'S', 'N', 'T', 'K', 'V', 'D', 'K', 'R', 'V', 'E', 'P', 'K', 'S', 'C', 'D', 'K', 'T', 'H', 'T', 'C', 'P', 'P', 'C', 'P', 'A', 'P', 'E', 'L', 'L', 'G', 'G', 'P', 'S', 'V', 'F', 'L', 'F', 'P', 'P', 'K', 'P', 'K', 'D', 'T', 'L', 'M', 'I', 'S', 'R', 'T', 'P', 'E', 'V', 'T', 'C', 'V', 'V', 'V', 'D', 'V', 'S', 'H', 'E', 'D', 'P', 'E', 'V', 'K', 'F', 'N', 'W', 'Y', 'V', 'D', 'G', 'V', 'E', 'V', 'H', 'N', 'A', 'K', 'T', 'K', 'P', 'R', 'E', 'E', 'Q', 'Y', 'N', 'S', 'T', 'Y', 'R', 'V', 'V', 'R', 'V', 'L', 'T', 'I', 'P', 'H', 'Q', 'D', 'W', 'L', 'N', 'G', 'K', 'E', 'Y', 'K', 'C', 'K', 'V', 'S', 'N', 'K', 'A', 'L', 'P', 'A', 'P', 'I', 'E', 'K', 'T', 'I', 'S', 'K', 'A', 'K', 'G', 'Q', 'P', 'R', 'E', 'P', 'Q', 'V', 'Y', 'T', 'L', 'P', 'P', 'S', 'R', 'D', 'E', 'L', 'T', 'K', 'N', 'Q', 'V', 'S', 'L', 'T', 'C', 'L', 'V', 'K', 'G', 'F', 'Y', 'P', 'S', 'D', 'I', 'A', 'V', 'E', 'W', 'E', 'S', 'N', 'G', 'Q', 'P', 'E', 'N', 'N', 'Y', 'K', 'T', 'T', 'P', 'P', 'V', 'L', 'D', 'S', 'D', 'G', 'S', 'F', 'F', 'L', 'Y', 'S', 'K', 'L', 'T', 'V', 'D', 'K', 'S', 'R', 'W', 'Q', 'Q', 'G', 'N', 'V', 'F', 'S', 'C', 'S', 'V', 'M', 'H', 'E', 'A', 'L', 'H', 'N', 'H', 'Y', 'T', 'Q', 'K', 'S', 'L', 'S', 'L', 'S', 'P', 'G', 'K']], 'FVG': [['E', 'V', 'Q', 'L', 'L', 'E', 'S', 'G', 'G', 'G', 'L', 'V', 'Q', 'P', 'G', 'G', 'S', 'L', 'R', 'L', 'S', 'C', 'A', 'V', 'S', 'G', 'F', 'T', 'F', 'N', 'S', 'F', 'A', 'M', 'S', 'W', 'V', 'R', 'Q', 'A', 'P', 'G', 'K', 'G', 'L', 'E', 'W', 'V', 'S', 'A', 'I', 'S', 'G', 'S', 'G', 'G', 'G', 'T', 'Y', 'Y', 'A', 'D', 'S', 'V', 'K', 'G', 'R', 'F', 'T', 'I', 'S', 'R', 'D', 'N', 'S', 'K', 'N', 'T', 'L', 'Y', 'L', 'Q', 'M', 'N', 'S', 'L', 'R', 'A', 'E', 'D', 'T', 'A', 'V', 'Y', 'F', 'C', 'A', 'K', 'D', 'K', 'I', 'L', 'W', 'F', 'G', 'E', 'P', 'V', 'F', 'D', 'Y', 'W', 'G', 'Q', 'G', 'T', 'L', 'V', 'T', 'V', 'S', 'S', 'A', 'S', 'T', 'K', 'G', 'P', 'S', 'V', 'F', 'P', 'L', 'A', 'P', 'S', 'S', 'K', 'S', 'T', 'S', 'G', 'G', 'T', 'A', 'A', 'L', 'G', 'C', 'L', 'V', 'K', 'D', 'Y', 'F', 'P', 'E', 'P', 'V', 'T', 'V', 'S', 'W', 'N', 'S', 'G', 'A', 'L', 'T', 'S', 'G', 'V', 'H', 'T', 'F', 'P', 'A', 'V', 'L', 'Q', 'S', 'S', 'G', 'L', 'Y', 'S', 'L', 'S', 'S', 'V', 'V', 'T', 'V', 'P', 'S', 'S', 'S', 'L', 'G', 'T', 'Q', 'T', 'Y', 'I', 'C', 'N', 'V', 'N', 'H', 'K', 'P', 'S', 'N', 'T', 'K', 'V', 'D', 'K', 'R', 'V', 'E', 'P', 'K', 'S', 'C', 'D', 'K', 'T', 'H', 'T', 'C', 'P', 'P', 'C', 'P', 'A', 'P', 'E', 'L', 'L', 'G', 'G', 'P', 'S', 'V', 'F', 'L', 'F', 'P', 'P', 'K', 'P', 'K', 'D', 'T', 'L', 'M', 'I', 'S', 'R', 'T', 'P', 'E', 'V', 'T', 'C', 'V', 'V', 'V', 'D', 'V', 'S', 'H', 'E', 'D', 'P', 'E', 'V', 'K', 'F', 'N', 'W', 'Y', 'V', 'D', 'G', 'V', 'E', 'V', 'H', 'N', 'A', 'K', 'T', 'K', 'P', 'R', 'E', 'E', 'Q', 'Y', 'N', 'S', 'F', 'V', 'R', 'V', 'V', 'G', 'V', 'L', 'T', 'V', 'L', 'H', 'Q', 'D', 'W', 'L', 'N', 'G', 'K', 'E', 'Y', 'K', 'C', 'K', 'V', 'S', 'N', 'K', 'A', 'L', 'P', 'A', 'P', 'I', 'E', 'K', 'T', 'I', 'S', 'K', 'A', 'K', 'G', 'Q', 'P', 'R', 'E', 'P', 'Q', 'V', 'Y', 'T', 'L', 'P', 'P', 'S', 'R', 'D', 'E', 'L', 'T', 'K', 'N', 'Q', 'V', 'S', 'L', 'T', 'C', 'L', 'V', 'K', 'G', 'F', 'Y', 'P', 'S', 'D', 'I', 'A', 'V', 'E', 'W', 'E', 'S', 'N', 'G', 'Q', 'P', 'E', 'N', 'N', 'Y', 'K', 'T', 'T', 'P', 'P', 'V', 'L', 'D', 'S', 'D', 'G', 'S', 'F', 'F', 'L', 'Y', 'S', 'K', 'L', 'T', 'V', 'D', 'K', 'S', 'R', 'W', 'Q', 'Q', 'G', 'N', 'V', 'F', 'S', 'C', 'S', 'V', 'M', 'H', 'E', 'A', 'L', 'H', 'N', 'H', 'Y', 'T', 'Q', 'K', 'S', 'L', 'S', 'L', 'S', 'P', 'G', 'K']], 'GVP': [['E', 'V', 'Q', 'L', 'L', 'E', 'S', 'G', 'G', 'G', 'L', 'V', 'Q', 'P', 'G', 'G', 'S', 'L', 'R', 'L', 'S', 'C', 'A', 'V', 'S', 'G', 'F', 'T', 'F', 'N', 'S', 'F', 'A', 'M', 'S', 'W', 'V', 'R', 'Q', 'A', 'P', 'G', 'K', 'G', 'L', 'E', 'W', 'V', 'S', 'A', 'I', 'S', 'G', 'S', 'G', 'G', 'G', 'T', 'Y', 'Y', 'A', 'D', 'S', 'V', 'K', 'G', 'R', 'F', 'T', 'I', 'S', 'R', 'D', 'N', 'S', 'K', 'N', 'T', 'L', 'Y', 'L', 'Q', 'M', 'N', 'S', 'L', 'R', 'A', 'E', 'D', 'T', 'A', 'V', 'Y', 'F', 'C', 'A', 'K', 'D', 'K', 'I', 'L', 'W', 'F', 'G', 'E', 'P', 'V', 'F', 'D', 'Y', 'W', 'G', 'Q', 'G', 'T', 'L', 'V', 'T', 'V', 'S', 'S', 'A', 'S', 'T', 'K', 'G', 'P', 'S', 'V', 'F', 'P', 'L', 'A', 'P', 'S', 'S', 'K', 'S', 'T', 'S', 'G', 'G', 'T', 'A', 'A', 'L', 'G', 'C', 'L', 'V', 'K', 'D', 'Y', 'F', 'P', 'E', 'P', 'V', 'T', 'V', 'S', 'W', 'N', 'S', 'G', 'A', 'L', 'T', 'S', 'G', 'V', 'H', 'T', 'F', 'P', 'A', 'V', 'L', 'Q', 'S', 'S', 'G', 'L', 'Y', 'S', 'L', 'S', 'S', 'V', 'V', 'T', 'V', 'P', 'S', 'S', 'S', 'L', 'G', 'T', 'Q', 'T', 'Y', 'I', 'C', 'N', 'V', 'N', 'H', 'K', 'P', 'S', 'N', 'T', 'K', 'V', 'D', 'K', 'R', 'V', 'E', 'P', 'K', 'S', 'C', 'D', 'K', 'T', 'H', 'T', 'C', 'P', 'P', 'C', 'P', 'A', 'P', 'E', 'L', 'L', 'G', 'G', 'P', 'S', 'V', 'F', 'L', 'F', 'P', 'P', 'K', 'P', 'K', 'D', 'T', 'L', 'M', 'I', 'S', 'R', 'T', 'P', 'E', 'V', 'T', 'C', 'V', 'V', 'V', 'D', 'V', 'S', 'H', 'E', 'D', 'P', 'E', 'V', 'K', 'F', 'N', 'W', 'Y', 'V', 'D', 'G', 'V', 'E', 'V', 'H', 'N', 'A', 'K', 'T', 'K', 'P', 'R', 'E', 'E', 'Q', 'Y', 'N', 'S', 'T', 'G', 'V', 'V', 'V', 'S', 'V', 'L', 'T', 'V', 'P', 'H', 'Q', 'D', 'W', 'L', 'N', 'G', 'K', 'E', 'Y', 'K', 'C', 'K', 'V', 'S', 'N', 'K', 'A', 'L', 'P', 'A', 'P', 'I', 'E', 'K', 'T', 'I', 'S', 'K', 'A', 'K', 'G', 'Q', 'P', 'R', 'E', 'P', 'Q', 'V', 'Y', 'T', 'L', 'P', 'P', 'S', 'R', 'D', 'E', 'L', 'T', 'K', 'N', 'Q', 'V', 'S', 'L', 'T', 'C', 'L', 'V', 'K', 'G', 'F', 'Y', 'P', 'S', 'D', 'I', 'A', 'V', 'E', 'W', 'E', 'S', 'N', 'G', 'Q', 'P', 'E', 'N', 'N', 'Y', 'K', 'T', 'T', 'P', 'P', 'V', 'L', 'D', 'S', 'D', 'G', 'S', 'F', 'F', 'L', 'Y', 'S', 'K', 'L', 'T', 'V', 'D', 'K', 'S', 'R', 'W', 'Q', 'Q', 'G', 'N', 'V', 'F', 'S', 'C', 'S', 'V', 'M', 'H', 'E', 'A', 'L', 'H', 'N', 'H', 'Y', 'T', 'Q', 'K', 'S', 'L', 'S', 'L', 'S', 'P', 'G', 'K']], 'VQN': [['E', 'V', 'Q', 'L', 'L', 'E', 'S', 'G', 'G', 'G', 'L', 'V', 'Q', 'P', 'G', 'G', 'S', 'L', 'R', 'L', 'S', 'C', 'A', 'V', 'S', 'G', 'F', 'T', 'F', 'N', 'S', 'F', 'A', 'M', 'S', 'W', 'V', 'R', 'Q', 'A', 'P', 'G', 'K', 'G', 'L', 'E', 'W', 'V', 'S', 'A', 'I', 'S', 'G', 'S', 'G', 'G', 'G', 'T', 'Y', 'Y', 'A', 'D', 'S', 'V', 'K', 'G', 'R', 'F', 'T', 'I', 'S', 'R', 'D', 'N', 'S', 'K', 'N', 'T', 'L', 'Y', 'L', 'Q', 'M', 'N', 'S', 'L', 'R', 'A', 'E', 'D', 'T', 'A', 'V', 'Y', 'F', 'C', 'A', 'K', 'D', 'K', 'I', 'L', 'W', 'F', 'G', 'E', 'P', 'V', 'F', 'D', 'Y', 'W', 'G', 'Q', 'G', 'T', 'L', 'V', 'T', 'V', 'S', 'S', 'A', 'S', 'T', 'K', 'G', 'P', 'S', 'V', 'F', 'P', 'L', 'A', 'P', 'S', 'S', 'K', 'S', 'T', 'S', 'G', 'G', 'T', 'A', 'A', 'L', 'G', 'C', 'L', 'V', 'K', 'D', 'Y', 'F', 'P', 'E', 'P', 'V', 'T', 'V', 'S', 'W', 'N', 'S', 'G', 'A', 'L', 'T', 'S', 'G', 'V', 'H', 'T', 'F', 'P', 'A', 'V', 'L', 'Q', 'S', 'S', 'G', 'L', 'Y', 'S', 'L', 'S', 'S', 'V', 'V', 'T', 'V', 'P', 'S', 'S', 'S', 'L', 'G', 'T', 'Q', 'T', 'Y', 'I', 'C', 'N', 'V', 'N', 'H', 'K', 'P', 'S', 'N', 'T', 'K', 'V', 'D', 'K', 'R', 'V', 'E', 'P', 'K', 'S', 'C', 'D', 'K', 'T', 'H', 'T', 'C', 'P', 'P', 'C', 'P', 'A', 'P', 'E', 'L', 'L', 'G', 'G', 'P', 'S', 'V', 'F', 'L', 'F', 'P', 'P', 'K', 'P', 'K', 'D', 'T', 'L', 'M', 'I', 'S', 'R', 'T', 'P', 'E', 'V', 'T', 'C', 'V', 'V', 'V', 'D', 'V', 'S', 'H', 'E', 'D', 'P', 'E', 'V', 'K', 'F', 'N', 'W', 'Y', 'V', 'D', 'G', 'V', 'E', 'V', 'H', 'N', 'A', 'K', 'T', 'K', 'P', 'R', 'E', 'E', 'Q', 'Y', 'N', 'S', 'T', 'Y', 'R', 'V', 'V', 'V', 'Q', 'L', 'T', 'V', 'N', 'H', 'Q', 'D', 'W', 'L', 'N', 'G', 'K', 'E', 'Y', 'K', 'C', 'K', 'V', 'S', 'N', 'K', 'A', 'L', 'P', 'A', 'P', 'I', 'E', 'K', 'T', 'I', 'S', 'K', 'A', 'K', 'G', 'Q', 'P', 'R', 'E', 'P', 'Q', 'V', 'Y', 'T', 'L', 'P', 'P', 'S', 'R', 'D', 'E', 'L', 'T', 'K', 'N', 'Q', 'V', 'S', 'L', 'T', 'C', 'L', 'V', 'K', 'G', 'F', 'Y', 'P', 'S', 'D', 'I', 'A', 'V', 'E', 'W', 'E', 'S', 'N', 'G', 'Q', 'P', 'E', 'N', 'N', 'Y', 'K', 'T', 'T', 'P', 'P', 'V', 'L', 'D', 'S', 'D', 'G', 'S', 'F', 'F', 'L', 'Y', 'S', 'K', 'L', 'T', 'V', 'D', 'K', 'S', 'R', 'W', 'Q', 'Q', 'G', 'N', 'V', 'F', 'S', 'C', 'S', 'V', 'M', 'H', 'E', 'A', 'L', 'H', 'N', 'H', 'Y', 'T', 'Q', 'K', 'S', 'L', 'S', 'L', 'S', 'P', 'G', 'K']], 'KTG': [['E', 'V', 'Q', 'L', 'L', 'E', 'S', 'G', 'G', 'G', 'L', 'V', 'Q', 'P', 'G', 'G', 'S', 'L', 'R', 'L', 'S', 'C', 'A', 'V', 'S', 'G', 'F', 'T', 'F', 'N', 'S', 'F', 'A', 'M', 'S', 'W', 'V', 'R', 'Q', 'A', 'P', 'G', 'K', 'G', 'L', 'E', 'W', 'V', 'S', 'A', 'I', 'S', 'G', 'S', 'G', 'G', 'G', 'T', 'Y', 'Y', 'A', 'D', 'S', 'V', 'K', 'G', 'R', 'F', 'T', 'I', 'S', 'R', 'D', 'N', 'S', 'K', 'N', 'T', 'L', 'Y', 'L', 'Q', 'M', 'N', 'S', 'L', 'R', 'A', 'E', 'D', 'T', 'A', 'V', 'Y', 'F', 'C', 'A', 'K', 'D', 'K', 'I', 'L', 'W', 'F', 'G', 'E', 'P', 'V', 'F', 'D', 'Y', 'W', 'G', 'Q', 'G', 'T', 'L', 'V', 'T', 'V', 'S', 'S', 'A', 'S', 'T', 'K', 'G', 'P', 'S', 'V', 'F', 'P', 'L', 'A', 'P', 'S', 'S', 'K', 'S', 'T', 'S', 'G', 'G', 'T', 'A', 'A', 'L', 'G', 'C', 'L', 'V', 'K', 'D', 'Y', 'F', 'P', 'E', 'P', 'V', 'T', 'V', 'S', 'W', 'N', 'S', 'G', 'A', 'L', 'T', 'S', 'G', 'V', 'H', 'T', 'F', 'P', 'A', 'V', 'L', 'Q', 'S', 'S', 'G', 'L', 'Y', 'S', 'L', 'S', 'S', 'V', 'V', 'T', 'V', 'P', 'S', 'S', 'S', 'L', 'G', 'T', 'Q', 'T', 'Y', 'I', 'C', 'N', 'V', 'N', 'H', 'K', 'P', 'S', 'N', 'T', 'K', 'V', 'D', 'K', 'R', 'V', 'E', 'P', 'K', 'S', 'C', 'D', 'K', 'T', 'H', 'T', 'C', 'P', 'P', 'C', 'P', 'A', 'P', 'E', 'L', 'L', 'G', 'G', 'P', 'S', 'V', 'F', 'L', 'F', 'P', 'P', 'K', 'P', 'K', 'D', 'T', 'L', 'M', 'I', 'S', 'R', 'T', 'P', 'E', 'V', 'T', 'C', 'V', 'V', 'V', 'D', 'V', 'S', 'H', 'E', 'D', 'P', 'E', 'V', 'K', 'F', 'N', 'W', 'Y', 'V', 'D', 'G', 'V', 'E', 'V', 'H', 'N', 'A', 'K', 'T', 'K', 'P', 'R', 'E', 'E', 'Q', 'Y', 'N', 'S', 'K', 'Y', 'R', 'V', 'V', 'T', 'V', 'L', 'T', 'G', 'L', 'H', 'Q', 'D', 'W', 'L', 'N', 'G', 'K', 'E', 'Y', 'K', 'C', 'K', 'V', 'S', 'N', 'K', 'A', 'L', 'P', 'A', 'P', 'I', 'E', 'K', 'T', 'I', 'S', 'K', 'A', 'K', 'G', 'Q', 'P', 'R', 'E', 'P', 'Q', 'V', 'Y', 'T', 'L', 'P', 'P', 'S', 'R', 'D', 'E', 'L', 'T', 'K', 'N', 'Q', 'V', 'S', 'L', 'T', 'C', 'L', 'V', 'K', 'G', 'F', 'Y', 'P', 'S', 'D', 'I', 'A', 'V', 'E', 'W', 'E', 'S', 'N', 'G', 'Q', 'P', 'E', 'N', 'N', 'Y', 'K', 'T', 'T', 'P', 'P', 'V', 'L', 'D', 'S', 'D', 'G', 'S', 'F', 'F', 'L', 'Y', 'S', 'K', 'L', 'T', 'V', 'D', 'K', 'S', 'R', 'W', 'Q', 'Q', 'G', 'N', 'V', 'F', 'S', 'C', 'S', 'V', 'M', 'H', 'E', 'A', 'L', 'H', 'N', 'H', 'Y', 'T', 'Q', 'K', 'S', 'L', 'S', 'L', 'S', 'P', 'G', 'K']], 'VRV': [['E', 'V', 'Q', 'L', 'L', 'E', 'S', 'G', 'G', 'G', 'L', 'V', 'Q', 'P', 'G', 'G', 'S', 'L', 'R', 'L', 'S', 'C', 'A', 'V', 'S', 'G', 'F', 'T', 'F', 'N', 'S', 'F', 'A', 'M', 'S', 'W', 'V', 'R', 'Q', 'A', 'P', 'G', 'K', 'G', 'L', 'E', 'W', 'V', 'S', 'A', 'I', 'S', 'G', 'S', 'G', 'G', 'G', 'T', 'Y', 'Y', 'A', 'D', 'S', 'V', 'K', 'G', 'R', 'F', 'T', 'I', 'S', 'R', 'D', 'N', 'S', 'K', 'N', 'T', 'L', 'Y', 'L', 'Q', 'M', 'N', 'S', 'L', 'R', 'A', 'E', 'D', 'T', 'A', 'V', 'Y', 'F', 'C', 'A', 'K', 'D', 'K', 'I', 'L', 'W', 'F', 'G', 'E', 'P', 'V', 'F', 'D', 'Y', 'W', 'G', 'Q', 'G', 'T', 'L', 'V', 'T', 'V', 'S', 'S', 'A', 'S', 'T', 'K', 'G', 'P', 'S', 'V', 'F', 'P', 'L', 'A', 'P', 'S', 'S', 'K', 'S', 'T', 'S', 'G', 'G', 'T', 'A', 'A', 'L', 'G', 'C', 'L', 'V', 'K', 'D', 'Y', 'F', 'P', 'E', 'P', 'V', 'T', 'V', 'S', 'W', 'N', 'S', 'G', 'A', 'L', 'T', 'S', 'G', 'V', 'H', 'T', 'F', 'P', 'A', 'V', 'L', 'Q', 'S', 'S', 'G', 'L', 'Y', 'S', 'L', 'S', 'S', 'V', 'V', 'T', 'V', 'P', 'S', 'S', 'S', 'L', 'G', 'T', 'Q', 'T', 'Y', 'I', 'C', 'N', 'V', 'N', 'H', 'K', 'P', 'S', 'N', 'T', 'K', 'V', 'D', 'K', 'R', 'V', 'E', 'P', 'K', 'S', 'C', 'D', 'K', 'T', 'H', 'T', 'C', 'P', 'P', 'C', 'P', 'A', 'P', 'E', 'L', 'L', 'G', 'G', 'P', 'S', 'V', 'F', 'L', 'F', 'P', 'P', 'K', 'P', 'K', 'D', 'T', 'L', 'M', 'I', 'S', 'R', 'T', 'P', 'E', 'V', 'T', 'C', 'V', 'V', 'V', 'D', 'V', 'S', 'H', 'E', 'D', 'P', 'E', 'V', 'K', 'F', 'N', 'W', 'Y', 'V', 'D', 'G', 'V', 'E', 'V', 'H', 'N', 'A', 'K', 'T', 'K', 'P', 'R', 'E', 'E', 'Q', 'Y', 'N', 'S', 'T', 'Y', 'V', 'V', 'V', 'S', 'V', 'L', 'R', 'V', 'V', 'H', 'Q', 'D', 'W', 'L', 'N', 'G', 'K', 'E', 'Y', 'K', 'C', 'K', 'V', 'S', 'N', 'K', 'A', 'L', 'P', 'A', 'P', 'I', 'E', 'K', 'T', 'I', 'S', 'K', 'A', 'K', 'G', 'Q', 'P', 'R', 'E', 'P', 'Q', 'V', 'Y', 'T', 'L', 'P', 'P', 'S', 'R', 'D', 'E', 'L', 'T', 'K', 'N', 'Q', 'V', 'S', 'L', 'T', 'C', 'L', 'V', 'K', 'G', 'F', 'Y', 'P', 'S', 'D', 'I', 'A', 'V', 'E', 'W', 'E', 'S', 'N', 'G', 'Q', 'P', 'E', 'N', 'N', 'Y', 'K', 'T', 'T', 'P', 'P', 'V', 'L', 'D', 'S', 'D', 'G', 'S', 'F', 'F', 'L', 'Y', 'S', 'K', 'L', 'T', 'V', 'D', 'K', 'S', 'R', 'W', 'Q', 'Q', 'G', 'N', 'V', 'F', 'S', 'C', 'S', 'V', 'M', 'H', 'E', 'A', 'L', 'H', 'N', 'H', 'Y', 'T', 'Q', 'K', 'S', 'L', 'S', 'L', 'S', 'P', 'G', 'K']], 'AIF': [['E', 'V', 'Q', 'L', 'L', 'E', 'S', 'G', 'G', 'G', 'L', 'V', 'Q', 'P', 'G', 'G', 'S', 'L', 'R', 'L', 'S', 'C', 'A', 'V', 'S', 'G', 'F', 'T', 'F', 'N', 'S', 'F', 'A', 'M', 'S', 'W', 'V', 'R', 'Q', 'A', 'P', 'G', 'K', 'G', 'L', 'E', 'W', 'V', 'S', 'A', 'I', 'S', 'G', 'S', 'G', 'G', 'G', 'T', 'Y', 'Y', 'A', 'D', 'S', 'V', 'K', 'G', 'R', 'F', 'T', 'I', 'S', 'R', 'D', 'N', 'S', 'K', 'N', 'T', 'L', 'Y', 'L', 'Q', 'M', 'N', 'S', 'L', 'R', 'A', 'E', 'D', 'T', 'A', 'V', 'Y', 'F', 'C', 'A', 'K', 'D', 'K', 'I', 'L', 'W', 'F', 'G', 'E', 'P', 'V', 'F', 'D', 'Y', 'W', 'G', 'Q', 'G', 'T', 'L', 'V', 'T', 'V', 'S', 'S', 'A', 'S', 'T', 'K', 'G', 'P', 'S', 'V', 'F', 'P', 'L', 'A', 'P', 'S', 'S', 'K', 'S', 'T', 'S', 'G', 'G', 'T', 'A', 'A', 'L', 'G', 'C', 'L', 'V', 'K', 'D', 'Y', 'F', 'P', 'E', 'P', 'V', 'T', 'V', 'S', 'W', 'N', 'S', 'G', 'A', 'L', 'T', 'S', 'G', 'V', 'H', 'T', 'F', 'P', 'A', 'V', 'L', 'Q', 'S', 'S', 'G', 'L', 'Y', 'S', 'L', 'S', 'S', 'V', 'V', 'T', 'V', 'P', 'S', 'S', 'S', 'L', 'G', 'T', 'Q', 'T', 'Y', 'I', 'C', 'N', 'V', 'N', 'H', 'K', 'P', 'S', 'N', 'T', 'K', 'V', 'D', 'K', 'R', 'V', 'E', 'P', 'K', 'S', 'C', 'D', 'K', 'T', 'H', 'T', 'C', 'P', 'P', 'C', 'P', 'A', 'P', 'E', 'L', 'L', 'G', 'G', 'P', 'S', 'V', 'F', 'L', 'F', 'P', 'P', 'K', 'P', 'K', 'D', 'T', 'L', 'M', 'I', 'S', 'R', 'T', 'P', 'E', 'V', 'T', 'C', 'V', 'V', 'V', 'D', 'V', 'S', 'H', 'E', 'D', 'P', 'E', 'V', 'K', 'F', 'N', 'W', 'Y', 'V', 'D', 'G', 'V', 'E', 'V', 'H', 'N', 'A', 'K', 'T', 'K', 'P', 'R', 'E', 'E', 'Q', 'Y', 'N', 'S', 'T', 'Y', 'R', 'V', 'A', 'S', 'V', 'I', 'F', 'V', 'L', 'H', 'Q', 'D', 'W', 'L', 'N', 'G', 'K', 'E', 'Y', 'K', 'C', 'K', 'V', 'S', 'N', 'K', 'A', 'L', 'P', 'A', 'P', 'I', 'E', 'K', 'T', 'I', 'S', 'K', 'A', 'K', 'G', 'Q', 'P', 'R', 'E', 'P', 'Q', 'V', 'Y', 'T', 'L', 'P', 'P', 'S', 'R', 'D', 'E', 'L', 'T', 'K', 'N', 'Q', 'V', 'S', 'L', 'T', 'C', 'L', 'V', 'K', 'G', 'F', 'Y', 'P', 'S', 'D', 'I', 'A', 'V', 'E', 'W', 'E', 'S', 'N', 'G', 'Q', 'P', 'E', 'N', 'N', 'Y', 'K', 'T', 'T', 'P', 'P', 'V', 'L', 'D', 'S', 'D', 'G', 'S', 'F', 'F', 'L', 'Y', 'S', 'K', 'L', 'T', 'V', 'D', 'K', 'S', 'R', 'W', 'Q', 'Q', 'G', 'N', 'V', 'F', 'S', 'C', 'S', 'V', 'M', 'H', 'E', 'A', 'L', 'H', 'N', 'H', 'Y', 'T', 'Q', 'K', 'S', 'L', 'S', 'L', 'S', 'P', 'G', 'K']], 'TFT': [['E', 'V', 'Q', 'L', 'L', 'E', 'S', 'G', 'G', 'G', 'L', 'V', 'Q', 'P', 'G', 'G', 'S', 'L', 'R', 'L', 'S', 'C', 'A', 'V', 'S', 'G', 'F', 'T', 'F', 'N', 'S', 'F', 'A', 'M', 'S', 'W', 'V', 'R', 'Q', 'A', 'P', 'G', 'K', 'G', 'L', 'E', 'W', 'V', 'S', 'A', 'I', 'S', 'G', 'S', 'G', 'G', 'G', 'T', 'Y', 'Y', 'A', 'D', 'S', 'V', 'K', 'G', 'R', 'F', 'T', 'I', 'S', 'R', 'D', 'N', 'S', 'K', 'N', 'T', 'L', 'Y', 'L', 'Q', 'M', 'N', 'S', 'L', 'R', 'A', 'E', 'D', 'T', 'A', 'V', 'Y', 'F', 'C', 'A', 'K', 'D', 'K', 'I', 'L', 'W', 'F', 'G', 'E', 'P', 'V', 'F', 'D', 'Y', 'W', 'G', 'Q', 'G', 'T', 'L', 'V', 'T', 'V', 'S', 'S', 'A', 'S', 'T', 'K', 'G', 'P', 'S', 'V', 'F', 'P', 'L', 'A', 'P', 'S', 'S', 'K', 'S', 'T', 'S', 'G', 'G', 'T', 'A', 'A', 'L', 'G', 'C', 'L', 'V', 'K', 'D', 'Y', 'F', 'P', 'E', 'P', 'V', 'T', 'V', 'S', 'W', 'N', 'S', 'G', 'A', 'L', 'T', 'S', 'G', 'V', 'H', 'T', 'F', 'P', 'A', 'V', 'L', 'Q', 'S', 'S', 'G', 'L', 'Y', 'S', 'L', 'S', 'S', 'V', 'V', 'T', 'V', 'P', 'S', 'S', 'S', 'L', 'G', 'T', 'Q', 'T', 'Y', 'I', 'C', 'N', 'V', 'N', 'H', 'K', 'P', 'S', 'N', 'T', 'K', 'V', 'D', 'K', 'R', 'V', 'E', 'P', 'K', 'S', 'C', 'D', 'K', 'T', 'H', 'T', 'C', 'P', 'P', 'C', 'P', 'A', 'P', 'E', 'L', 'L', 'G', 'G', 'P', 'S', 'V', 'F', 'L', 'F', 'P', 'P', 'K', 'P', 'K', 'D', 'T', 'L', 'M', 'I', 'S', 'R', 'T', 'P', 'E', 'V', 'T', 'C', 'V', 'V', 'V', 'D', 'V', 'S', 'H', 'E', 'D', 'P', 'E', 'V', 'K', 'F', 'N', 'W', 'Y', 'V', 'D', 'G', 'V', 'E', 'V', 'H', 'N', 'A', 'K', 'T', 'K', 'P', 'R', 'E', 'E', 'Q', 'Y', 'N', 'S', 'T', 'Y', 'R', 'T', 'V', 'F', 'V', 'T', 'T', 'V', 'L', 'H', 'Q', 'D', 'W', 'L', 'N', 'G', 'K', 'E', 'Y', 'K', 'C', 'K', 'V', 'S', 'N', 'K', 'A', 'L', 'P', 'A', 'P', 'I', 'E', 'K', 'T', 'I', 'S', 'K', 'A', 'K', 'G', 'Q', 'P', 'R', 'E', 'P', 'Q', 'V', 'Y', 'T', 'L', 'P', 'P', 'S', 'R', 'D', 'E', 'L', 'T', 'K', 'N', 'Q', 'V', 'S', 'L', 'T', 'C', 'L', 'V', 'K', 'G', 'F', 'Y', 'P', 'S', 'D', 'I', 'A', 'V', 'E', 'W', 'E', 'S', 'N', 'G', 'Q', 'P', 'E', 'N', 'N', 'Y', 'K', 'T', 'T', 'P', 'P', 'V', 'L', 'D', 'S', 'D', 'G', 'S', 'F', 'F', 'L', 'Y', 'S', 'K', 'L', 'T', 'V', 'D', 'K', 'S', 'R', 'W', 'Q', 'Q', 'G', 'N', 'V', 'F', 'S', 'C', 'S', 'V', 'M', 'H', 'E', 'A', 'L', 'H', 'N', 'H', 'Y', 'T', 'Q', 'K', 'S', 'L', 'S', 'L', 'S', 'P', 'G', 'K']], 'TLG': [['E', 'V', 'Q', 'L', 'L', 'E', 'S', 'G', 'G', 'G', 'L', 'V', 'Q', 'P', 'G', 'G', 'S', 'L', 'R', 'L', 'S', 'C', 'A', 'V', 'S', 'G', 'F', 'T', 'F', 'N', 'S', 'F', 'A', 'M', 'S', 'W', 'V', 'R', 'Q', 'A', 'P', 'G', 'K', 'G', 'L', 'E', 'W', 'V', 'S', 'A', 'I', 'S', 'G', 'S', 'G', 'G', 'G', 'T', 'Y', 'Y', 'A', 'D', 'S', 'V', 'K', 'G', 'R', 'F', 'T', 'I', 'S', 'R', 'D', 'N', 'S', 'K', 'N', 'T', 'L', 'Y', 'L', 'Q', 'M', 'N', 'S', 'L', 'R', 'A', 'E', 'D', 'T', 'A', 'V', 'Y', 'F', 'C', 'A', 'K', 'D', 'K', 'I', 'L', 'W', 'F', 'G', 'E', 'P', 'V', 'F', 'D', 'Y', 'W', 'G', 'Q', 'G', 'T', 'L', 'V', 'T', 'V', 'S', 'S', 'A', 'S', 'T', 'K', 'G', 'P', 'S', 'V', 'F', 'P', 'L', 'A', 'P', 'S', 'S', 'K', 'S', 'T', 'S', 'G', 'G', 'T', 'A', 'A', 'L', 'G', 'C', 'L', 'V', 'K', 'D', 'Y', 'F', 'P', 'E', 'P', 'V', 'T', 'V', 'S', 'W', 'N', 'S', 'G', 'A', 'L', 'T', 'S', 'G', 'V', 'H', 'T', 'F', 'P', 'A', 'V', 'L', 'Q', 'S', 'S', 'G', 'L', 'Y', 'S', 'L', 'S', 'S', 'V', 'V', 'T', 'V', 'P', 'S', 'S', 'S', 'L', 'G', 'T', 'Q', 'T', 'Y', 'I', 'C', 'N', 'V', 'N', 'H', 'K', 'P', 'S', 'N', 'T', 'K', 'V', 'D', 'K', 'R', 'V', 'E', 'P', 'K', 'S', 'C', 'D', 'K', 'T', 'H', 'T', 'C', 'P', 'P', 'C', 'P', 'A', 'P', 'E', 'L', 'L', 'G', 'G', 'P', 'S', 'V', 'F', 'L', 'F', 'P', 'P', 'K', 'P', 'K', 'D', 'T', 'L', 'M', 'I', 'S', 'R', 'T', 'P', 'E', 'V', 'T', 'C', 'V', 'V', 'V', 'D', 'V', 'S', 'H', 'E', 'D', 'P', 'E', 'V', 'K', 'F', 'N', 'W', 'Y', 'V', 'D', 'G', 'V', 'E', 'V', 'H', 'N', 'A', 'K', 'T', 'K', 'P', 'R', 'E', 'E', 'Q', 'Y', 'N', 'S', 'T', 'Y', 'T', 'V', 'V', 'S', 'V', 'L', 'L', 'V', 'G', 'H', 'Q', 'D', 'W', 'L', 'N', 'G', 'K', 'E', 'Y', 'K', 'C', 'K', 'V', 'S', 'N', 'K', 'A', 'L', 'P', 'A', 'P', 'I', 'E', 'K', 'T', 'I', 'S', 'K', 'A', 'K', 'G', 'Q', 'P', 'R', 'E', 'P', 'Q', 'V', 'Y', 'T', 'L', 'P', 'P', 'S', 'R', 'D', 'E', 'L', 'T', 'K', 'N', 'Q', 'V', 'S', 'L', 'T', 'C', 'L', 'V', 'K', 'G', 'F', 'Y', 'P', 'S', 'D', 'I', 'A', 'V', 'E', 'W', 'E', 'S', 'N', 'G', 'Q', 'P', 'E', 'N', 'N', 'Y', 'K', 'T', 'T', 'P', 'P', 'V', 'L', 'D', 'S', 'D', 'G', 'S', 'F', 'F', 'L', 'Y', 'S', 'K', 'L', 'T', 'V', 'D', 'K', 'S', 'R', 'W', 'Q', 'Q', 'G', 'N', 'V', 'F', 'S', 'C', 'S', 'V', 'M', 'H', 'E', 'A', 'L', 'H', 'N', 'H', 'Y', 'T', 'Q', 'K', 'S', 'L', 'S', 'L', 'S', 'P', 'G', 'K']], 'FGF': [['E', 'V', 'Q', 'L', 'L', 'E', 'S', 'G', 'G', 'G', 'L', 'V', 'Q', 'P', 'G', 'G', 'S', 'L', 'R', 'L', 'S', 'C', 'A', 'V', 'S', 'G', 'F', 'T', 'F', 'N', 'S', 'F', 'A', 'M', 'S', 'W', 'V', 'R', 'Q', 'A', 'P', 'G', 'K', 'G', 'L', 'E', 'W', 'V', 'S', 'A', 'I', 'S', 'G', 'S', 'G', 'G', 'G', 'T', 'Y', 'Y', 'A', 'D', 'S', 'V', 'K', 'G', 'R', 'F', 'T', 'I', 'S', 'R', 'D', 'N', 'S', 'K', 'N', 'T', 'L', 'Y', 'L', 'Q', 'M', 'N', 'S', 'L', 'R', 'A', 'E', 'D', 'T', 'A', 'V', 'Y', 'F', 'C', 'A', 'K', 'D', 'K', 'I', 'L', 'W', 'F', 'G', 'E', 'P', 'V', 'F', 'D', 'Y', 'W', 'G', 'Q', 'G', 'T', 'L', 'V', 'T', 'V', 'S', 'S', 'A', 'S', 'T', 'K', 'G', 'P', 'S', 'V', 'F', 'P', 'L', 'A', 'P', 'S', 'S', 'K', 'S', 'T', 'S', 'G', 'G', 'T', 'A', 'A', 'L', 'G', 'C', 'L', 'V', 'K', 'D', 'Y', 'F', 'P', 'E', 'P', 'V', 'T', 'V', 'S', 'W', 'N', 'S', 'G', 'A', 'L', 'T', 'S', 'G', 'V', 'H', 'T', 'F', 'P', 'A', 'V', 'L', 'Q', 'S', 'S', 'G', 'L', 'Y', 'S', 'L', 'S', 'S', 'V', 'V', 'T', 'V', 'P', 'S', 'S', 'S', 'L', 'G', 'T', 'Q', 'T', 'Y', 'I', 'C', 'N', 'V', 'N', 'H', 'K', 'P', 'S', 'N', 'T', 'K', 'V', 'D', 'K', 'R', 'V', 'E', 'P', 'K', 'S', 'C', 'D', 'K', 'T', 'H', 'T', 'C', 'P', 'P', 'C', 'P', 'A', 'P', 'E', 'L', 'L', 'G', 'G', 'P', 'S', 'V', 'F', 'L', 'F', 'P', 'P', 'K', 'P', 'K', 'D', 'T', 'L', 'M', 'I', 'S', 'R', 'T', 'P', 'E', 'V', 'T', 'C', 'V', 'V', 'V', 'D', 'V', 'S', 'H', 'E', 'D', 'P', 'E', 'V', 'K', 'F', 'N', 'W', 'Y', 'V', 'D', 'G', 'V', 'E', 'V', 'H', 'N', 'A', 'K', 'T', 'K', 'P', 'R', 'E', 'E', 'Q', 'Y', 'N', 'S', 'T', 'Y', 'F', 'V', 'G', 'F', 'V', 'L', 'T', 'V', 'L', 'H', 'Q', 'D', 'W', 'L', 'N', 'G', 'K', 'E', 'Y', 'K', 'C', 'K', 'V', 'S', 'N', 'K', 'A', 'L', 'P', 'A', 'P', 'I', 'E', 'K', 'T', 'I', 'S', 'K', 'A', 'K', 'G', 'Q', 'P', 'R', 'E', 'P', 'Q', 'V', 'Y', 'T', 'L', 'P', 'P', 'S', 'R', 'D', 'E', 'L', 'T', 'K', 'N', 'Q', 'V', 'S', 'L', 'T', 'C', 'L', 'V', 'K', 'G', 'F', 'Y', 'P', 'S', 'D', 'I', 'A', 'V', 'E', 'W', 'E', 'S', 'N', 'G', 'Q', 'P', 'E', 'N', 'N', 'Y', 'K', 'T', 'T', 'P', 'P', 'V', 'L', 'D', 'S', 'D', 'G', 'S', 'F', 'F', 'L', 'Y', 'S', 'K', 'L', 'T', 'V', 'D', 'K', 'S', 'R', 'W', 'Q', 'Q', 'G', 'N', 'V', 'F', 'S', 'C', 'S', 'V', 'M', 'H', 'E', 'A', 'L', 'H', 'N', 'H', 'Y', 'T', 'Q', 'K', 'S', 'L', 'S', 'L', 'S', 'P', 'G', 'K']], 'TTG': [['E', 'V', 'Q', 'L', 'L', 'E', 'S', 'G', 'G', 'G', 'L', 'V', 'Q', 'P', 'G', 'G', 'S', 'L', 'R', 'L', 'S', 'C', 'A', 'V', 'S', 'G', 'F', 'T', 'F', 'N', 'S', 'F', 'A', 'M', 'S', 'W', 'V', 'R', 'Q', 'A', 'P', 'G', 'K', 'G', 'L', 'E', 'W', 'V', 'S', 'A', 'I', 'S', 'G', 'S', 'G', 'G', 'G', 'T', 'Y', 'Y', 'A', 'D', 'S', 'V', 'K', 'G', 'R', 'F', 'T', 'I', 'S', 'R', 'D', 'N', 'S', 'K', 'N', 'T', 'L', 'Y', 'L', 'Q', 'M', 'N', 'S', 'L', 'R', 'A', 'E', 'D', 'T', 'A', 'V', 'Y', 'F', 'C', 'A', 'K', 'D', 'K', 'I', 'L', 'W', 'F', 'G', 'E', 'P', 'V', 'F', 'D', 'Y', 'W', 'G', 'Q', 'G', 'T', 'L', 'V', 'T', 'V', 'S', 'S', 'A', 'S', 'T', 'K', 'G', 'P', 'S', 'V', 'F', 'P', 'L', 'A', 'P', 'S', 'S', 'K', 'S', 'T', 'S', 'G', 'G', 'T', 'A', 'A', 'L', 'G', 'C', 'L', 'V', 'K', 'D', 'Y', 'F', 'P', 'E', 'P', 'V', 'T', 'V', 'S', 'W', 'N', 'S', 'G', 'A', 'L', 'T', 'S', 'G', 'V', 'H', 'T', 'F', 'P', 'A', 'V', 'L', 'Q', 'S', 'S', 'G', 'L', 'Y', 'S', 'L', 'S', 'S', 'V', 'V', 'T', 'V', 'P', 'S', 'S', 'S', 'L', 'G', 'T', 'Q', 'T', 'Y', 'I', 'C', 'N', 'V', 'N', 'H', 'K', 'P', 'S', 'N', 'T', 'K', 'V', 'D', 'K', 'R', 'V', 'E', 'P', 'K', 'S', 'C', 'D', 'K', 'T', 'H', 'T', 'C', 'P', 'P', 'C', 'P', 'A', 'P', 'E', 'L', 'L', 'G', 'G', 'P', 'S', 'V', 'F', 'L', 'F', 'P', 'P', 'K', 'P', 'K', 'D', 'T', 'L', 'M', 'I', 'S', 'R', 'T', 'P', 'E', 'V', 'T', 'C', 'V', 'V', 'V', 'D', 'V', 'S', 'H', 'E', 'D', 'P', 'E', 'V', 'K', 'F', 'N', 'W', 'Y', 'V', 'D', 'G', 'V', 'E', 'V', 'H', 'N', 'A', 'K', 'T', 'K', 'P', 'R', 'E', 'E', 'Q', 'Y', 'N', 'S', 'T', 'Y', 'T', 'V', 'V', 'T', 'V', 'L', 'G', 'V', 'L', 'H', 'Q', 'D', 'W', 'L', 'N', 'G', 'K', 'E', 'Y', 'K', 'C', 'K', 'V', 'S', 'N', 'K', 'A', 'L', 'P', 'A', 'P', 'I', 'E', 'K', 'T', 'I', 'S', 'K', 'A', 'K', 'G', 'Q', 'P', 'R', 'E', 'P', 'Q', 'V', 'Y', 'T', 'L', 'P', 'P', 'S', 'R', 'D', 'E', 'L', 'T', 'K', 'N', 'Q', 'V', 'S', 'L', 'T', 'C', 'L', 'V', 'K', 'G', 'F', 'Y', 'P', 'S', 'D', 'I', 'A', 'V', 'E', 'W', 'E', 'S', 'N', 'G', 'Q', 'P', 'E', 'N', 'N', 'Y', 'K', 'T', 'T', 'P', 'P', 'V', 'L', 'D', 'S', 'D', 'G', 'S', 'F', 'F', 'L', 'Y', 'S', 'K', 'L', 'T', 'V', 'D', 'K', 'S', 'R', 'W', 'Q', 'Q', 'G', 'N', 'V', 'F', 'S', 'C', 'S', 'V', 'M', 'H', 'E', 'A', 'L', 'H', 'N', 'H', 'Y', 'T', 'Q', 'K', 'S', 'L', 'S', 'L', 'S', 'P', 'G', 'K']], 'LGI': [['E', 'V', 'Q', 'L', 'L', 'E', 'S', 'G', 'G', 'G', 'L', 'V', 'Q', 'P', 'G', 'G', 'S', 'L', 'R', 'L', 'S', 'C', 'A', 'V', 'S', 'G', 'F', 'T', 'F', 'N', 'S', 'F', 'A', 'M', 'S', 'W', 'V', 'R', 'Q', 'A', 'P', 'G', 'K', 'G', 'L', 'E', 'W', 'V', 'S', 'A', 'I', 'S', 'G', 'S', 'G', 'G', 'G', 'T', 'Y', 'Y', 'A', 'D', 'S', 'V', 'K', 'G', 'R', 'F', 'T', 'I', 'S', 'R', 'D', 'N', 'S', 'K', 'N', 'T', 'L', 'Y', 'L', 'Q', 'M', 'N', 'S', 'L', 'R', 'A', 'E', 'D', 'T', 'A', 'V', 'Y', 'F', 'C', 'A', 'K', 'D', 'K', 'I', 'L', 'W', 'F', 'G', 'E', 'P', 'V', 'F', 'D', 'Y', 'W', 'G', 'Q', 'G', 'T', 'L', 'V', 'T', 'V', 'S', 'S', 'A', 'S', 'T', 'K', 'G', 'P', 'S', 'V', 'F', 'P', 'L', 'A', 'P', 'S', 'S', 'K', 'S', 'T', 'S', 'G', 'G', 'T', 'A', 'A', 'L', 'G', 'C', 'L', 'V', 'K', 'D', 'Y', 'F', 'P', 'E', 'P', 'V', 'T', 'V', 'S', 'W', 'N', 'S', 'G', 'A', 'L', 'T', 'S', 'G', 'V', 'H', 'T', 'F', 'P', 'A', 'V', 'L', 'Q', 'S', 'S', 'G', 'L', 'Y', 'S', 'L', 'S', 'S', 'V', 'V', 'T', 'V', 'P', 'S', 'S', 'S', 'L', 'G', 'T', 'Q', 'T', 'Y', 'I', 'C', 'N', 'V', 'N', 'H', 'K', 'P', 'S', 'N', 'T', 'K', 'V', 'D', 'K', 'R', 'V', 'E', 'P', 'K', 'S', 'C', 'D', 'K', 'T', 'H', 'T', 'C', 'P', 'P', 'C', 'P', 'A', 'P', 'E', 'L', 'L', 'G', 'G', 'P', 'S', 'V', 'F', 'L', 'F', 'P', 'P', 'K', 'P', 'K', 'D', 'T', 'L', 'M', 'I', 'S', 'R', 'T', 'P', 'E', 'V', 'T', 'C', 'V', 'V', 'V', 'D', 'V', 'S', 'H', 'E', 'D', 'P', 'E', 'V', 'K', 'F', 'N', 'W', 'Y', 'V', 'D', 'G', 'V', 'E', 'V', 'H', 'N', 'A', 'K', 'T', 'K', 'P', 'R', 'E', 'E', 'Q', 'Y', 'N', 'S', 'T', 'L', 'G', 'V', 'V', 'S', 'V', 'L', 'T', 'V', 'I', 'H', 'Q', 'D', 'W', 'L', 'N', 'G', 'K', 'E', 'Y', 'K', 'C', 'K', 'V', 'S', 'N', 'K', 'A', 'L', 'P', 'A', 'P', 'I', 'E', 'K', 'T', 'I', 'S', 'K', 'A', 'K', 'G', 'Q', 'P', 'R', 'E', 'P', 'Q', 'V', 'Y', 'T', 'L', 'P', 'P', 'S', 'R', 'D', 'E', 'L', 'T', 'K', 'N', 'Q', 'V', 'S', 'L', 'T', 'C', 'L', 'V', 'K', 'G', 'F', 'Y', 'P', 'S', 'D', 'I', 'A', 'V', 'E', 'W', 'E', 'S', 'N', 'G', 'Q', 'P', 'E', 'N', 'N', 'Y', 'K', 'T', 'T', 'P', 'P', 'V', 'L', 'D', 'S', 'D', 'G', 'S', 'F', 'F', 'L', 'Y', 'S', 'K', 'L', 'T', 'V', 'D', 'K', 'S', 'R', 'W', 'Q', 'Q', 'G', 'N', 'V', 'F', 'S', 'C', 'S', 'V', 'M', 'H', 'E', 'A', 'L', 'H', 'N', 'H', 'Y', 'T', 'Q', 'K', 'S', 'L', 'S', 'L', 'S', 'P', 'G', 'K']], 'IKV': [['E', 'V', 'Q', 'L', 'L', 'E', 'S', 'G', 'G', 'G', 'L', 'V', 'Q', 'P', 'G', 'G', 'S', 'L', 'R', 'L', 'S', 'C', 'A', 'V', 'S', 'G', 'F', 'T', 'F', 'N', 'S', 'F', 'A', 'M', 'S', 'W', 'V', 'R', 'Q', 'A', 'P', 'G', 'K', 'G', 'L', 'E', 'W', 'V', 'S', 'A', 'I', 'S', 'G', 'S', 'G', 'G', 'G', 'T', 'Y', 'Y', 'A', 'D', 'S', 'V', 'K', 'G', 'R', 'F', 'T', 'I', 'S', 'R', 'D', 'N', 'S', 'K', 'N', 'T', 'L', 'Y', 'L', 'Q', 'M', 'N', 'S', 'L', 'R', 'A', 'E', 'D', 'T', 'A', 'V', 'Y', 'F', 'C', 'A', 'K', 'D', 'K', 'I', 'L', 'W', 'F', 'G', 'E', 'P', 'V', 'F', 'D', 'Y', 'W', 'G', 'Q', 'G', 'T', 'L', 'V', 'T', 'V', 'S', 'S', 'A', 'S', 'T', 'K', 'G', 'P', 'S', 'V', 'F', 'P', 'L', 'A', 'P', 'S', 'S', 'K', 'S', 'T', 'S', 'G', 'G', 'T', 'A', 'A', 'L', 'G', 'C', 'L', 'V', 'K', 'D', 'Y', 'F', 'P', 'E', 'P', 'V', 'T', 'V', 'S', 'W', 'N', 'S', 'G', 'A', 'L', 'T', 'S', 'G', 'V', 'H', 'T', 'F', 'P', 'A', 'V', 'L', 'Q', 'S', 'S', 'G', 'L', 'Y', 'S', 'L', 'S', 'S', 'V', 'V', 'T', 'V', 'P', 'S', 'S', 'S', 'L', 'G', 'T', 'Q', 'T', 'Y', 'I', 'C', 'N', 'V', 'N', 'H', 'K', 'P', 'S', 'N', 'T', 'K', 'V', 'D', 'K', 'R', 'V', 'E', 'P', 'K', 'S', 'C', 'D', 'K', 'T', 'H', 'T', 'C', 'P', 'P', 'C', 'P', 'A', 'P', 'E', 'L', 'L', 'G', 'G', 'P', 'S', 'V', 'F', 'L', 'F', 'P', 'P', 'K', 'P', 'K', 'D', 'T', 'L', 'M', 'I', 'S', 'R', 'T', 'P', 'E', 'V', 'T', 'C', 'V', 'V', 'V', 'D', 'V', 'S', 'H', 'E', 'D', 'P', 'E', 'V', 'K', 'F', 'N', 'W', 'Y', 'V', 'D', 'G', 'V', 'E', 'V', 'H', 'N', 'A', 'K', 'T', 'K', 'P', 'R', 'E', 'E', 'Q', 'Y', 'N', 'S', 'T', 'Y', 'I', 'V', 'K', 'V', 'V', 'L', 'T', 'V', 'L', 'H', 'Q', 'D', 'W', 'L', 'N', 'G', 'K', 'E', 'Y', 'K', 'C', 'K', 'V', 'S', 'N', 'K', 'A', 'L', 'P', 'A', 'P', 'I', 'E', 'K', 'T', 'I', 'S', 'K', 'A', 'K', 'G', 'Q', 'P', 'R', 'E', 'P', 'Q', 'V', 'Y', 'T', 'L', 'P', 'P', 'S', 'R', 'D', 'E', 'L', 'T', 'K', 'N', 'Q', 'V', 'S', 'L', 'T', 'C', 'L', 'V', 'K', 'G', 'F', 'Y', 'P', 'S', 'D', 'I', 'A', 'V', 'E', 'W', 'E', 'S', 'N', 'G', 'Q', 'P', 'E', 'N', 'N', 'Y', 'K', 'T', 'T', 'P', 'P', 'V', 'L', 'D', 'S', 'D', 'G', 'S', 'F', 'F', 'L', 'Y', 'S', 'K', 'L', 'T', 'V', 'D', 'K', 'S', 'R', 'W', 'Q', 'Q', 'G', 'N', 'V', 'F', 'S', 'C', 'S', 'V', 'M', 'H', 'E', 'A', 'L', 'H', 'N', 'H', 'Y', 'T', 'Q', 'K', 'S', 'L', 'S', 'L', 'S', 'P', 'G', 'K']], 'TFF': [['E', 'V', 'Q', 'L', 'L', 'E', 'S', 'G', 'G', 'G', 'L', 'V', 'Q', 'P', 'G', 'G', 'S', 'L', 'R', 'L', 'S', 'C', 'A', 'V', 'S', 'G', 'F', 'T', 'F', 'N', 'S', 'F', 'A', 'M', 'S', 'W', 'V', 'R', 'Q', 'A', 'P', 'G', 'K', 'G', 'L', 'E', 'W', 'V', 'S', 'A', 'I', 'S', 'G', 'S', 'G', 'G', 'G', 'T', 'Y', 'Y', 'A', 'D', 'S', 'V', 'K', 'G', 'R', 'F', 'T', 'I', 'S', 'R', 'D', 'N', 'S', 'K', 'N', 'T', 'L', 'Y', 'L', 'Q', 'M', 'N', 'S', 'L', 'R', 'A', 'E', 'D', 'T', 'A', 'V', 'Y', 'F', 'C', 'A', 'K', 'D', 'K', 'I', 'L', 'W', 'F', 'G', 'E', 'P', 'V', 'F', 'D', 'Y', 'W', 'G', 'Q', 'G', 'T', 'L', 'V', 'T', 'V', 'S', 'S', 'A', 'S', 'T', 'K', 'G', 'P', 'S', 'V', 'F', 'P', 'L', 'A', 'P', 'S', 'S', 'K', 'S', 'T', 'S', 'G', 'G', 'T', 'A', 'A', 'L', 'G', 'C', 'L', 'V', 'K', 'D', 'Y', 'F', 'P', 'E', 'P', 'V', 'T', 'V', 'S', 'W', 'N', 'S', 'G', 'A', 'L', 'T', 'S', 'G', 'V', 'H', 'T', 'F', 'P', 'A', 'V', 'L', 'Q', 'S', 'S', 'G', 'L', 'Y', 'S', 'L', 'S', 'S', 'V', 'V', 'T', 'V', 'P', 'S', 'S', 'S', 'L', 'G', 'T', 'Q', 'T', 'Y', 'I', 'C', 'N', 'V', 'N', 'H', 'K', 'P', 'S', 'N', 'T', 'K', 'V', 'D', 'K', 'R', 'V', 'E', 'P', 'K', 'S', 'C', 'D', 'K', 'T', 'H', 'T', 'C', 'P', 'P', 'C', 'P', 'A', 'P', 'E', 'L', 'L', 'G', 'G', 'P', 'S', 'V', 'F', 'L', 'F', 'P', 'P', 'K', 'P', 'K', 'D', 'T', 'L', 'M', 'I', 'S', 'R', 'T', 'P', 'E', 'V', 'T', 'C', 'V', 'V', 'V', 'D', 'V', 'S', 'H', 'E', 'D', 'P', 'E', 'V', 'K', 'F', 'N', 'W', 'Y', 'V', 'D', 'G', 'V', 'E', 'V', 'H', 'N', 'A', 'K', 'T', 'K', 'P', 'R', 'E', 'E', 'Q', 'Y', 'N', 'S', 'T', 'T', 'R', 'V', 'V', 'S', 'F', 'L', 'F', 'V', 'L', 'H', 'Q', 'D', 'W', 'L', 'N', 'G', 'K', 'E', 'Y', 'K', 'C', 'K', 'V', 'S', 'N', 'K', 'A', 'L', 'P', 'A', 'P', 'I', 'E', 'K', 'T', 'I', 'S', 'K', 'A', 'K', 'G', 'Q', 'P', 'R', 'E', 'P', 'Q', 'V', 'Y', 'T', 'L', 'P', 'P', 'S', 'R', 'D', 'E', 'L', 'T', 'K', 'N', 'Q', 'V', 'S', 'L', 'T', 'C', 'L', 'V', 'K', 'G', 'F', 'Y', 'P', 'S', 'D', 'I', 'A', 'V', 'E', 'W', 'E', 'S', 'N', 'G', 'Q', 'P', 'E', 'N', 'N', 'Y', 'K', 'T', 'T', 'P', 'P', 'V', 'L', 'D', 'S', 'D', 'G', 'S', 'F', 'F', 'L', 'Y', 'S', 'K', 'L', 'T', 'V', 'D', 'K', 'S', 'R', 'W', 'Q', 'Q', 'G', 'N', 'V', 'F', 'S', 'C', 'S', 'V', 'M', 'H', 'E', 'A', 'L', 'H', 'N', 'H', 'Y', 'T', 'Q', 'K', 'S', 'L', 'S', 'L', 'S', 'P', 'G', 'K']], 'SPI': [['E', 'V', 'Q', 'L', 'L', 'E', 'S', 'G', 'G', 'G', 'L', 'V', 'Q', 'P', 'G', 'G', 'S', 'L', 'R', 'L', 'S', 'C', 'A', 'V', 'S', 'G', 'F', 'T', 'F', 'N', 'S', 'F', 'A', 'M', 'S', 'W', 'V', 'R', 'Q', 'A', 'P', 'G', 'K', 'G', 'L', 'E', 'W', 'V', 'S', 'A', 'I', 'S', 'G', 'S', 'G', 'G', 'G', 'T', 'Y', 'Y', 'A', 'D', 'S', 'V', 'K', 'G', 'R', 'F', 'T', 'I', 'S', 'R', 'D', 'N', 'S', 'K', 'N', 'T', 'L', 'Y', 'L', 'Q', 'M', 'N', 'S', 'L', 'R', 'A', 'E', 'D', 'T', 'A', 'V', 'Y', 'F', 'C', 'A', 'K', 'D', 'K', 'I', 'L', 'W', 'F', 'G', 'E', 'P', 'V', 'F', 'D', 'Y', 'W', 'G', 'Q', 'G', 'T', 'L', 'V', 'T', 'V', 'S', 'S', 'A', 'S', 'T', 'K', 'G', 'P', 'S', 'V', 'F', 'P', 'L', 'A', 'P', 'S', 'S', 'K', 'S', 'T', 'S', 'G', 'G', 'T', 'A', 'A', 'L', 'G', 'C', 'L', 'V', 'K', 'D', 'Y', 'F', 'P', 'E', 'P', 'V', 'T', 'V', 'S', 'W', 'N', 'S', 'G', 'A', 'L', 'T', 'S', 'G', 'V', 'H', 'T', 'F', 'P', 'A', 'V', 'L', 'Q', 'S', 'S', 'G', 'L', 'Y', 'S', 'L', 'S', 'S', 'V', 'V', 'T', 'V', 'P', 'S', 'S', 'S', 'L', 'G', 'T', 'Q', 'T', 'Y', 'I', 'C', 'N', 'V', 'N', 'H', 'K', 'P', 'S', 'N', 'T', 'K', 'V', 'D', 'K', 'R', 'V', 'E', 'P', 'K', 'S', 'C', 'D', 'K', 'T', 'H', 'T', 'C', 'P', 'P', 'C', 'P', 'A', 'P', 'E', 'L', 'L', 'G', 'G', 'P', 'S', 'V', 'F', 'L', 'F', 'P', 'P', 'K', 'P', 'K', 'D', 'T', 'L', 'M', 'I', 'S', 'R', 'T', 'P', 'E', 'V', 'T', 'C', 'V', 'V', 'V', 'D', 'V', 'S', 'H', 'E', 'D', 'P', 'E', 'V', 'K', 'F', 'N', 'W', 'Y', 'V', 'D', 'G', 'V', 'E', 'V', 'H', 'N', 'A', 'K', 'T', 'K', 'P', 'R', 'E', 'E', 'Q', 'Y', 'N', 'S', 'T', 'Y', 'R', 'V', 'V', 'S', 'S', 'L', 'P', 'I', 'L', 'H', 'Q', 'D', 'W', 'L', 'N', 'G', 'K', 'E', 'Y', 'K', 'C', 'K', 'V', 'S', 'N', 'K', 'A', 'L', 'P', 'A', 'P', 'I', 'E', 'K', 'T', 'I', 'S', 'K', 'A', 'K', 'G', 'Q', 'P', 'R', 'E', 'P', 'Q', 'V', 'Y', 'T', 'L', 'P', 'P', 'S', 'R', 'D', 'E', 'L', 'T', 'K', 'N', 'Q', 'V', 'S', 'L', 'T', 'C', 'L', 'V', 'K', 'G', 'F', 'Y', 'P', 'S', 'D', 'I', 'A', 'V', 'E', 'W', 'E', 'S', 'N', 'G', 'Q', 'P', 'E', 'N', 'N', 'Y', 'K', 'T', 'T', 'P', 'P', 'V', 'L', 'D', 'S', 'D', 'G', 'S', 'F', 'F', 'L', 'Y', 'S', 'K', 'L', 'T', 'V', 'D', 'K', 'S', 'R', 'W', 'Q', 'Q', 'G', 'N', 'V', 'F', 'S', 'C', 'S', 'V', 'M', 'H', 'E', 'A', 'L', 'H', 'N', 'H', 'Y', 'T', 'Q', 'K', 'S', 'L', 'S', 'L', 'S', 'P', 'G', 'K']], 'SPI variant -1 (s)': [['E', 'V', 'Q', 'L', 'L', 'E', 'S', 'G', 'G', 'G', 'L', 'V', 'Q', 'P', 'G', 'G', 'S', 'L', 'R', 'L', 'S', 'C', 'A', 'V', 'S', 'G', 'F', 'T', 'F', 'N', 'S', 'F', 'A', 'M', 'S', 'W', 'V', 'R', 'Q', 'A', 'P', 'G', 'K', 'G', 'L', 'E', 'W', 'V', 'S', 'A', 'I', 'S', 'G', 'S', 'G', 'G', 'G', 'T', 'Y', 'Y', 'A', 'D', 'S', 'V', 'K', 'G', 'R', 'F', 'T', 'I', 'S', 'R', 'D', 'N', 'S', 'K', 'N', 'T', 'L', 'Y', 'L', 'Q', 'M', 'N', 'S', 'L', 'R', 'A', 'E', 'D', 'T', 'A', 'V', 'Y', 'F', 'C', 'A', 'K', 'D', 'K', 'I', 'L', 'W', 'F', 'G', 'E', 'P', 'V', 'F', 'D', 'Y', 'W', 'G', 'Q', 'G', 'T', 'L', 'V', 'T', 'V', 'S', 'S', 'A', 'S', 'T', 'K', 'G', 'P', 'S', 'V', 'F', 'P', 'L', 'A', 'P', 'S', 'S', 'K', 'S', 'T', 'S', 'G', 'G', 'T', 'A', 'A', 'L', 'G', 'C', 'L', 'V', 'K', 'D', 'Y', 'F', 'P', 'E', 'P', 'V', 'T', 'V', 'S', 'W', 'N', 'S', 'G', 'A', 'L', 'T', 'S', 'G', 'V', 'H', 'T', 'F', 'P', 'A', 'V', 'L', 'Q', 'S', 'S', 'G', 'L', 'Y', 'S', 'L', 'S', 'S', 'V', 'V', 'T', 'V', 'P', 'S', 'S', 'S', 'L', 'G', 'T', 'Q', 'T', 'Y', 'I', 'C', 'N', 'V', 'N', 'H', 'K', 'P', 'S', 'N', 'T', 'K', 'V', 'D', 'K', 'R', 'V', 'E', 'P', 'K', 'S', 'C', 'D', 'K', 'T', 'H', 'T', 'C', 'P', 'P', 'C', 'P', 'A', 'P', 'E', 'L', 'L', 'G', 'G', 'P', 'S', 'V', 'F', 'L', 'F', 'P', 'P', 'K', 'P', 'K', 'D', 'T', 'L', 'M', 'I', 'S', 'R', 'T', 'P', 'E', 'V', 'T', 'C', 'V', 'V', 'V', 'D', 'V', 'S', 'H', 'E', 'D', 'P', 'E', 'V', 'K', 'F', 'N', 'W', 'Y', 'V', 'D', 'G', 'V', 'E', 'V', 'H', 'N', 'A', 'K', 'T', 'K', 'P', 'R', 'E', 'E', 'Q', 'Y', 'N', 'S', 'T', 'Y', 'R', 'V', 'V', 'S', 'S', 'L', 'T', 'V', 'L', 'H', 'Q', 'D', 'W', 'L', 'N', 'G', 'K', 'E', 'Y', 'K', 'C', 'K', 'V', 'S', 'N', 'K', 'A', 'L', 'P', 'A', 'P', 'I', 'E', 'K', 'T', 'I', 'S', 'K', 'A', 'K', 'G', 'Q', 'P', 'R', 'E', 'P', 'Q', 'V', 'Y', 'T', 'L', 'P', 'P', 'S', 'R', 'D', 'E', 'L', 'T', 'K', 'N', 'Q', 'V', 'S', 'L', 'T', 'C', 'L', 'V', 'K', 'G', 'F', 'Y', 'P', 'S', 'D', 'I', 'A', 'V', 'E', 'W', 'E', 'S', 'N', 'G', 'Q', 'P', 'E', 'N', 'N', 'Y', 'K', 'T', 'T', 'P', 'P', 'V', 'L', 'D', 'S', 'D', 'G', 'S', 'F', 'F', 'L', 'Y', 'S', 'K', 'L', 'T', 'V', 'D', 'K', 'S', 'R', 'W', 'Q', 'Q', 'G', 'N', 'V', 'F', 'S', 'C', 'S', 'V', 'M', 'H', 'E', 'A', 'L', 'H', 'N', 'H', 'Y', 'T', 'Q', 'K', 'S', 'L', 'S', 'L', 'S', 'P', 'G', 'K']], 'SPI variant -2 (p)': [['E', 'V', 'Q', 'L', 'L', 'E', 'S', 'G', 'G', 'G', 'L', 'V', 'Q', 'P', 'G', 'G', 'S', 'L', 'R', 'L', 'S', 'C', 'A', 'V', 'S', 'G', 'F', 'T', 'F', 'N', 'S', 'F', 'A', 'M', 'S', 'W', 'V', 'R', 'Q', 'A', 'P', 'G', 'K', 'G', 'L', 'E', 'W', 'V', 'S', 'A', 'I', 'S', 'G', 'S', 'G', 'G', 'G', 'T', 'Y', 'Y', 'A', 'D', 'S', 'V', 'K', 'G', 'R', 'F', 'T', 'I', 'S', 'R', 'D', 'N', 'S', 'K', 'N', 'T', 'L', 'Y', 'L', 'Q', 'M', 'N', 'S', 'L', 'R', 'A', 'E', 'D', 'T', 'A', 'V', 'Y', 'F', 'C', 'A', 'K', 'D', 'K', 'I', 'L', 'W', 'F', 'G', 'E', 'P', 'V', 'F', 'D', 'Y', 'W', 'G', 'Q', 'G', 'T', 'L', 'V', 'T', 'V', 'S', 'S', 'A', 'S', 'T', 'K', 'G', 'P', 'S', 'V', 'F', 'P', 'L', 'A', 'P', 'S', 'S', 'K', 'S', 'T', 'S', 'G', 'G', 'T', 'A', 'A', 'L', 'G', 'C', 'L', 'V', 'K', 'D', 'Y', 'F', 'P', 'E', 'P', 'V', 'T', 'V', 'S', 'W', 'N', 'S', 'G', 'A', 'L', 'T', 'S', 'G', 'V', 'H', 'T', 'F', 'P', 'A', 'V', 'L', 'Q', 'S', 'S', 'G', 'L', 'Y', 'S', 'L', 'S', 'S', 'V', 'V', 'T', 'V', 'P', 'S', 'S', 'S', 'L', 'G', 'T', 'Q', 'T', 'Y', 'I', 'C', 'N', 'V', 'N', 'H', 'K', 'P', 'S', 'N', 'T', 'K', 'V', 'D', 'K', 'R', 'V', 'E', 'P', 'K', 'S', 'C', 'D', 'K', 'T', 'H', 'T', 'C', 'P', 'P', 'C', 'P', 'A', 'P', 'E', 'L', 'L', 'G', 'G', 'P', 'S', 'V', 'F', 'L', 'F', 'P', 'P', 'K', 'P', 'K', 'D', 'T', 'L', 'M', 'I', 'S', 'R', 'T', 'P', 'E', 'V', 'T', 'C', 'V', 'V', 'V', 'D', 'V', 'S', 'H', 'E', 'D', 'P', 'E', 'V', 'K', 'F', 'N', 'W', 'Y', 'V', 'D', 'G', 'V', 'E', 'V', 'H', 'N', 'A', 'K', 'T', 'K', 'P', 'R', 'E', 'E', 'Q', 'Y', 'N', 'S', 'T', 'Y', 'R', 'V', 'V', 'S', 'V', 'L', 'P', 'V', 'L', 'H', 'Q', 'D', 'W', 'L', 'N', 'G', 'K', 'E', 'Y', 'K', 'C', 'K', 'V', 'S', 'N', 'K', 'A', 'L', 'P', 'A', 'P', 'I', 'E', 'K', 'T', 'I', 'S', 'K', 'A', 'K', 'G', 'Q', 'P', 'R', 'E', 'P', 'Q', 'V', 'Y', 'T', 'L', 'P', 'P', 'S', 'R', 'D', 'E', 'L', 'T', 'K', 'N', 'Q', 'V', 'S', 'L', 'T', 'C', 'L', 'V', 'K', 'G', 'F', 'Y', 'P', 'S', 'D', 'I', 'A', 'V', 'E', 'W', 'E', 'S', 'N', 'G', 'Q', 'P', 'E', 'N', 'N', 'Y', 'K', 'T', 'T', 'P', 'P', 'V', 'L', 'D', 'S', 'D', 'G', 'S', 'F', 'F', 'L', 'Y', 'S', 'K', 'L', 'T', 'V', 'D', 'K', 'S', 'R', 'W', 'Q', 'Q', 'G', 'N', 'V', 'F', 'S', 'C', 'S', 'V', 'M', 'H', 'E', 'A', 'L', 'H', 'N', 'H', 'Y', 'T', 'Q', 'K', 'S', 'L', 'S', 'L', 'S', 'P', 'G', 'K']], 'SPI variant -3 (I)': [['E', 'V', 'Q', 'L', 'L', 'E', 'S', 'G', 'G', 'G', 'L', 'V', 'Q', 'P', 'G', 'G', 'S', 'L', 'R', 'L', 'S', 'C', 'A', 'V', 'S', 'G', 'F', 'T', 'F', 'N', 'S', 'F', 'A', 'M', 'S', 'W', 'V', 'R', 'Q', 'A', 'P', 'G', 'K', 'G', 'L', 'E', 'W', 'V', 'S', 'A', 'I', 'S', 'G', 'S', 'G', 'G', 'G', 'T', 'Y', 'Y', 'A', 'D', 'S', 'V', 'K', 'G', 'R', 'F', 'T', 'I', 'S', 'R', 'D', 'N', 'S', 'K', 'N', 'T', 'L', 'Y', 'L', 'Q', 'M', 'N', 'S', 'L', 'R', 'A', 'E', 'D', 'T', 'A', 'V', 'Y', 'F', 'C', 'A', 'K', 'D', 'K', 'I', 'L', 'W', 'F', 'G', 'E', 'P', 'V', 'F', 'D', 'Y', 'W', 'G', 'Q', 'G', 'T', 'L', 'V', 'T', 'V', 'S', 'S', 'A', 'S', 'T', 'K', 'G', 'P', 'S', 'V', 'F', 'P', 'L', 'A', 'P', 'S', 'S', 'K', 'S', 'T', 'S', 'G', 'G', 'T', 'A', 'A', 'L', 'G', 'C', 'L', 'V', 'K', 'D', 'Y', 'F', 'P', 'E', 'P', 'V', 'T', 'V', 'S', 'W', 'N', 'S', 'G', 'A', 'L', 'T', 'S', 'G', 'V', 'H', 'T', 'F', 'P', 'A', 'V', 'L', 'Q', 'S', 'S', 'G', 'L', 'Y', 'S', 'L', 'S', 'S', 'V', 'V', 'T', 'V', 'P', 'S', 'S', 'S', 'L', 'G', 'T', 'Q', 'T', 'Y', 'I', 'C', 'N', 'V', 'N', 'H', 'K', 'P', 'S', 'N', 'T', 'K', 'V', 'D', 'K', 'R', 'V', 'E', 'P', 'K', 'S', 'C', 'D', 'K', 'T', 'H', 'T', 'C', 'P', 'P', 'C', 'P', 'A', 'P', 'E', 'L', 'L', 'G', 'G', 'P', 'S', 'V', 'F', 'L', 'F', 'P', 'P', 'K', 'P', 'K', 'D', 'T', 'L', 'M', 'I', 'S', 'R', 'T', 'P', 'E', 'V', 'T', 'C', 'V', 'V', 'V', 'D', 'V', 'S', 'H', 'E', 'D', 'P', 'E', 'V', 'K', 'F', 'N', 'W', 'Y', 'V', 'D', 'G', 'V', 'E', 'V', 'H', 'N', 'A', 'K', 'T', 'K', 'P', 'R', 'E', 'E', 'Q', 'Y', 'N', 'S', 'T', 'Y', 'R', 'V', 'V', 'S', 'V', 'L', 'T', 'I', 'L', 'H', 'Q', 'D', 'W', 'L', 'N', 'G', 'K', 'E', 'Y', 'K', 'C', 'K', 'V', 'S', 'N', 'K', 'A', 'L', 'P', 'A', 'P', 'I', 'E', 'K', 'T', 'I', 'S', 'K', 'A', 'K', 'G', 'Q', 'P', 'R', 'E', 'P', 'Q', 'V', 'Y', 'T', 'L', 'P', 'P', 'S', 'R', 'D', 'E', 'L', 'T', 'K', 'N', 'Q', 'V', 'S', 'L', 'T', 'C', 'L', 'V', 'K', 'G', 'F', 'Y', 'P', 'S', 'D', 'I', 'A', 'V', 'E', 'W', 'E', 'S', 'N', 'G', 'Q', 'P', 'E', 'N', 'N', 'Y', 'K', 'T', 'T', 'P', 'P', 'V', 'L', 'D', 'S', 'D', 'G', 'S', 'F', 'F', 'L', 'Y', 'S', 'K', 'L', 'T', 'V', 'D', 'K', 'S', 'R', 'W', 'Q', 'Q', 'G', 'N', 'V', 'F', 'S', 'C', 'S', 'V', 'M', 'H', 'E', 'A', 'L', 'H', 'N', 'H', 'Y', 'T', 'Q', 'K', 'S', 'L', 'S', 'L', 'S', 'P', 'G', 'K']], 'SPI variant - 4 (SP)': [['E', 'V', 'Q', 'L', 'L', 'E', 'S', 'G', 'G', 'G', 'L', 'V', 'Q', 'P', 'G', 'G', 'S', 'L', 'R', 'L', 'S', 'C', 'A', 'V', 'S', 'G', 'F', 'T', 'F', 'N', 'S', 'F', 'A', 'M', 'S', 'W', 'V', 'R', 'Q', 'A', 'P', 'G', 'K', 'G', 'L', 'E', 'W', 'V', 'S', 'A', 'I', 'S', 'G', 'S', 'G', 'G', 'G', 'T', 'Y', 'Y', 'A', 'D', 'S', 'V', 'K', 'G', 'R', 'F', 'T', 'I', 'S', 'R', 'D', 'N', 'S', 'K', 'N', 'T', 'L', 'Y', 'L', 'Q', 'M', 'N', 'S', 'L', 'R', 'A', 'E', 'D', 'T', 'A', 'V', 'Y', 'F', 'C', 'A', 'K', 'D', 'K', 'I', 'L', 'W', 'F', 'G', 'E', 'P', 'V', 'F', 'D', 'Y', 'W', 'G', 'Q', 'G', 'T', 'L', 'V', 'T', 'V', 'S', 'S', 'A', 'S', 'T', 'K', 'G', 'P', 'S', 'V', 'F', 'P', 'L', 'A', 'P', 'S', 'S', 'K', 'S', 'T', 'S', 'G', 'G', 'T', 'A', 'A', 'L', 'G', 'C', 'L', 'V', 'K', 'D', 'Y', 'F', 'P', 'E', 'P', 'V', 'T', 'V', 'S', 'W', 'N', 'S', 'G', 'A', 'L', 'T', 'S', 'G', 'V', 'H', 'T', 'F', 'P', 'A', 'V', 'L', 'Q', 'S', 'S', 'G', 'L', 'Y', 'S', 'L', 'S', 'S', 'V', 'V', 'T', 'V', 'P', 'S', 'S', 'S', 'L', 'G', 'T', 'Q', 'T', 'Y', 'I', 'C', 'N', 'V', 'N', 'H', 'K', 'P', 'S', 'N', 'T', 'K', 'V', 'D', 'K', 'R', 'V', 'E', 'P', 'K', 'S', 'C', 'D', 'K', 'T', 'H', 'T', 'C', 'P', 'P', 'C', 'P', 'A', 'P', 'E', 'L', 'L', 'G', 'G', 'P', 'S', 'V', 'F', 'L', 'F', 'P', 'P', 'K', 'P', 'K', 'D', 'T', 'L', 'M', 'I', 'S', 'R', 'T', 'P', 'E', 'V', 'T', 'C', 'V', 'V', 'V', 'D', 'V', 'S', 'H', 'E', 'D', 'P', 'E', 'V', 'K', 'F', 'N', 'W', 'Y', 'V', 'D', 'G', 'V', 'E', 'V', 'H', 'N', 'A', 'K', 'T', 'K', 'P', 'R', 'E', 'E', 'Q', 'Y', 'N', 'S', 'T', 'Y', 'R', 'V', 'V', 'S', 'S', 'L', 'P', 'V', 'L', 'H', 'Q', 'D', 'W', 'L', 'N', 'G', 'K', 'E', 'Y', 'K', 'C', 'K', 'V', 'S', 'N', 'K', 'A', 'L', 'P', 'A', 'P', 'I', 'E', 'K', 'T', 'I', 'S', 'K', 'A', 'K', 'G', 'Q', 'P', 'R', 'E', 'P', 'Q', 'V', 'Y', 'T', 'L', 'P', 'P', 'S', 'R', 'D', 'E', 'L', 'T', 'K', 'N', 'Q', 'V', 'S', 'L', 'T', 'C', 'L', 'V', 'K', 'G', 'F', 'Y', 'P', 'S', 'D', 'I', 'A', 'V', 'E', 'W', 'E', 'S', 'N', 'G', 'Q', 'P', 'E', 'N', 'N', 'Y', 'K', 'T', 'T', 'P', 'P', 'V', 'L', 'D', 'S', 'D', 'G', 'S', 'F', 'F', 'L', 'Y', 'S', 'K', 'L', 'T', 'V', 'D', 'K', 'S', 'R', 'W', 'Q', 'Q', 'G', 'N', 'V', 'F', 'S', 'C', 'S', 'V', 'M', 'H', 'E', 'A', 'L', 'H', 'N', 'H', 'Y', 'T', 'Q', 'K', 'S', 'L', 'S', 'L', 'S', 'P', 'G', 'K']], 'SPI variant - 5 (SI)': [['E', 'V', 'Q', 'L', 'L', 'E', 'S', 'G', 'G', 'G', 'L', 'V', 'Q', 'P', 'G', 'G', 'S', 'L', 'R', 'L', 'S', 'C', 'A', 'V', 'S', 'G', 'F', 'T', 'F', 'N', 'S', 'F', 'A', 'M', 'S', 'W', 'V', 'R', 'Q', 'A', 'P', 'G', 'K', 'G', 'L', 'E', 'W', 'V', 'S', 'A', 'I', 'S', 'G', 'S', 'G', 'G', 'G', 'T', 'Y', 'Y', 'A', 'D', 'S', 'V', 'K', 'G', 'R', 'F', 'T', 'I', 'S', 'R', 'D', 'N', 'S', 'K', 'N', 'T', 'L', 'Y', 'L', 'Q', 'M', 'N', 'S', 'L', 'R', 'A', 'E', 'D', 'T', 'A', 'V', 'Y', 'F', 'C', 'A', 'K', 'D', 'K', 'I', 'L', 'W', 'F', 'G', 'E', 'P', 'V', 'F', 'D', 'Y', 'W', 'G', 'Q', 'G', 'T', 'L', 'V', 'T', 'V', 'S', 'S', 'A', 'S', 'T', 'K', 'G', 'P', 'S', 'V', 'F', 'P', 'L', 'A', 'P', 'S', 'S', 'K', 'S', 'T', 'S', 'G', 'G', 'T', 'A', 'A', 'L', 'G', 'C', 'L', 'V', 'K', 'D', 'Y', 'F', 'P', 'E', 'P', 'V', 'T', 'V', 'S', 'W', 'N', 'S', 'G', 'A', 'L', 'T', 'S', 'G', 'V', 'H', 'T', 'F', 'P', 'A', 'V', 'L', 'Q', 'S', 'S', 'G', 'L', 'Y', 'S', 'L', 'S', 'S', 'V', 'V', 'T', 'V', 'P', 'S', 'S', 'S', 'L', 'G', 'T', 'Q', 'T', 'Y', 'I', 'C', 'N', 'V', 'N', 'H', 'K', 'P', 'S', 'N', 'T', 'K', 'V', 'D', 'K', 'R', 'V', 'E', 'P', 'K', 'S', 'C', 'D', 'K', 'T', 'H', 'T', 'C', 'P', 'P', 'C', 'P', 'A', 'P', 'E', 'L', 'L', 'G', 'G', 'P', 'S', 'V', 'F', 'L', 'F', 'P', 'P', 'K', 'P', 'K', 'D', 'T', 'L', 'M', 'I', 'S', 'R', 'T', 'P', 'E', 'V', 'T', 'C', 'V', 'V', 'V', 'D', 'V', 'S', 'H', 'E', 'D', 'P', 'E', 'V', 'K', 'F', 'N', 'W', 'Y', 'V', 'D', 'G', 'V', 'E', 'V', 'H', 'N', 'A', 'K', 'T', 'K', 'P', 'R', 'E', 'E', 'Q', 'Y', 'N', 'S', 'T', 'Y', 'R', 'V', 'V', 'S', 'S', 'L', 'T', 'I', 'L', 'H', 'Q', 'D', 'W', 'L', 'N', 'G', 'K', 'E', 'Y', 'K', 'C', 'K', 'V', 'S', 'N', 'K', 'A', 'L', 'P', 'A', 'P', 'I', 'E', 'K', 'T', 'I', 'S', 'K', 'A', 'K', 'G', 'Q', 'P', 'R', 'E', 'P', 'Q', 'V', 'Y', 'T', 'L', 'P', 'P', 'S', 'R', 'D', 'E', 'L', 'T', 'K', 'N', 'Q', 'V', 'S', 'L', 'T', 'C', 'L', 'V', 'K', 'G', 'F', 'Y', 'P', 'S', 'D', 'I', 'A', 'V', 'E', 'W', 'E', 'S', 'N', 'G', 'Q', 'P', 'E', 'N', 'N', 'Y', 'K', 'T', 'T', 'P', 'P', 'V', 'L', 'D', 'S', 'D', 'G', 'S', 'F', 'F', 'L', 'Y', 'S', 'K', 'L', 'T', 'V', 'D', 'K', 'S', 'R', 'W', 'Q', 'Q', 'G', 'N', 'V', 'F', 'S', 'C', 'S', 'V', 'M', 'H', 'E', 'A', 'L', 'H', 'N', 'H', 'Y', 'T', 'Q', 'K', 'S', 'L', 'S', 'L', 'S', 'P', 'G', 'K']], 'SPI variant - 6 (PI)': [['E', 'V', 'Q', 'L', 'L', 'E', 'S', 'G', 'G', 'G', 'L', 'V', 'Q', 'P', 'G', 'G', 'S', 'L', 'R', 'L', 'S', 'C', 'A', 'V', 'S', 'G', 'F', 'T', 'F', 'N', 'S', 'F', 'A', 'M', 'S', 'W', 'V', 'R', 'Q', 'A', 'P', 'G', 'K', 'G', 'L', 'E', 'W', 'V', 'S', 'A', 'I', 'S', 'G', 'S', 'G', 'G', 'G', 'T', 'Y', 'Y', 'A', 'D', 'S', 'V', 'K', 'G', 'R', 'F', 'T', 'I', 'S', 'R', 'D', 'N', 'S', 'K', 'N', 'T', 'L', 'Y', 'L', 'Q', 'M', 'N', 'S', 'L', 'R', 'A', 'E', 'D', 'T', 'A', 'V', 'Y', 'F', 'C', 'A', 'K', 'D', 'K', 'I', 'L', 'W', 'F', 'G', 'E', 'P', 'V', 'F', 'D', 'Y', 'W', 'G', 'Q', 'G', 'T', 'L', 'V', 'T', 'V', 'S', 'S', 'A', 'S', 'T', 'K', 'G', 'P', 'S', 'V', 'F', 'P', 'L', 'A', 'P', 'S', 'S', 'K', 'S', 'T', 'S', 'G', 'G', 'T', 'A', 'A', 'L', 'G', 'C', 'L', 'V', 'K', 'D', 'Y', 'F', 'P', 'E', 'P', 'V', 'T', 'V', 'S', 'W', 'N', 'S', 'G', 'A', 'L', 'T', 'S', 'G', 'V', 'H', 'T', 'F', 'P', 'A', 'V', 'L', 'Q', 'S', 'S', 'G', 'L', 'Y', 'S', 'L', 'S', 'S', 'V', 'V', 'T', 'V', 'P', 'S', 'S', 'S', 'L', 'G', 'T', 'Q', 'T', 'Y', 'I', 'C', 'N', 'V', 'N', 'H', 'K', 'P', 'S', 'N', 'T', 'K', 'V', 'D', 'K', 'R', 'V', 'E', 'P', 'K', 'S', 'C', 'D', 'K', 'T', 'H', 'T', 'C', 'P', 'P', 'C', 'P', 'A', 'P', 'E', 'L', 'L', 'G', 'G', 'P', 'S', 'V', 'F', 'L', 'F', 'P', 'P', 'K', 'P', 'K', 'D', 'T', 'L', 'M', 'I', 'S', 'R', 'T', 'P', 'E', 'V', 'T', 'C', 'V', 'V', 'V', 'D', 'V', 'S', 'H', 'E', 'D', 'P', 'E', 'V', 'K', 'F', 'N', 'W', 'Y', 'V', 'D', 'G', 'V', 'E', 'V', 'H', 'N', 'A', 'K', 'T', 'K', 'P', 'R', 'E', 'E', 'Q', 'Y', 'N', 'S', 'T', 'Y', 'R', 'V', 'V', 'S', 'V', 'L', 'P', 'I', 'L', 'H', 'Q', 'D', 'W', 'L', 'N', 'G', 'K', 'E', 'Y', 'K', 'C', 'K', 'V', 'S', 'N', 'K', 'A', 'L', 'P', 'A', 'P', 'I', 'E', 'K', 'T', 'I', 'S', 'K', 'A', 'K', 'G', 'Q', 'P', 'R', 'E', 'P', 'Q', 'V', 'Y', 'T', 'L', 'P', 'P', 'S', 'R', 'D', 'E', 'L', 'T', 'K', 'N', 'Q', 'V', 'S', 'L', 'T', 'C', 'L', 'V', 'K', 'G', 'F', 'Y', 'P', 'S', 'D', 'I', 'A', 'V', 'E', 'W', 'E', 'S', 'N', 'G', 'Q', 'P', 'E', 'N', 'N', 'Y', 'K', 'T', 'T', 'P', 'P', 'V', 'L', 'D', 'S', 'D', 'G', 'S', 'F', 'F', 'L', 'Y', 'S', 'K', 'L', 'T', 'V', 'D', 'K', 'S', 'R', 'W', 'Q', 'Q', 'G', 'N', 'V', 'F', 'S', 'C', 'S', 'V', 'M', 'H', 'E', 'A', 'L', 'H', 'N', 'H', 'Y', 'T', 'Q', 'K', 'S', 'L', 'S', 'L', 'S', 'P', 'G', 'K']], 'Passionate Output ': [['E', 'V', 'Q', 'L', 'L', 'E', 'S', 'G', 'G', 'G', 'L', 'V', 'Q', 'P', 'G', 'G', 'S', 'L', 'R', 'L', 'S', 'C', 'A', 'V', 'S', 'G', 'F', 'T', 'F', 'N', 'S', 'F', 'A', 'M', 'S', 'W', 'V', 'R', 'Q', 'A', 'P', 'G', 'K', 'G', 'L', 'E', 'W', 'V', 'S', 'A', 'I', 'S', 'G', 'S', 'G', 'G', 'G', 'T', 'Y', 'Y', 'A', 'D', 'S', 'V', 'K', 'G', 'R', 'F', 'T', 'I', 'S', 'R', 'D', 'N', 'S', 'K', 'N', 'T', 'L', 'Y', 'L', 'Q', 'M', 'N', 'S', 'L', 'R', 'A', 'E', 'D', 'T', 'A', 'V', 'Y', 'F', 'C', 'A', 'K', 'D', 'K', 'I', 'L', 'W', 'F', 'G', 'E', 'P', 'V', 'F', 'D', 'Y', 'W', 'G', 'Q', 'G', 'T', 'L', 'V', 'T', 'V', 'S', 'S', 'A', 'S', 'T', 'K', 'G', 'P', 'S', 'V', 'F', 'P', 'L', 'A', 'P', 'S', 'S', 'K', 'S', 'T', 'S', 'G', 'G', 'T', 'A', 'A', 'L', 'G', 'C', 'L', 'V', 'K', 'D', 'Y', 'F', 'P', 'E', 'P', 'V', 'T', 'V', 'S', 'W', 'N', 'S', 'G', 'A', 'L', 'T', 'S', 'G', 'V', 'H', 'T', 'F', 'P', 'A', 'V', 'L', 'Q', 'S', 'S', 'G', 'L', 'Y', 'S', 'L', 'S', 'S', 'V', 'V', 'T', 'V', 'P', 'S', 'S', 'S', 'L', 'G', 'T', 'Q', 'T', 'Y', 'I', 'C', 'N', 'V', 'N', 'H', 'K', 'P', 'S', 'N', 'T', 'K', 'V', 'D', 'K', 'R', 'V', 'E', 'P', 'K', 'S', 'C', 'D', 'K', 'T', 'H', 'T', 'C', 'P', 'P', 'C', 'P', 'A', 'P', 'E', 'L', 'L', 'G', 'G', 'P', 'S', 'V', 'F', 'L', 'F', 'P', 'P', 'K', 'P', 'K', 'D', 'T', 'L', 'M', 'I', 'S', 'R', 'T', 'P', 'E', 'V', 'T', 'C', 'V', 'V', 'V', 'D', 'V', 'S', 'H', 'E', 'D', 'P', 'E', 'V', 'K', 'F', 'N', 'W', 'Y', 'V', 'D', 'G', 'V', 'E', 'V', 'H', 'N', 'A', 'K', 'T', 'K', 'P', 'R', 'E', 'E', 'Q', 'Y', 'N', 'S', 'T', 'Y', 'R', 'L', 'P', 'S', 'R', 'L', 'T', 'V', 'L', 'H', 'Q', 'D', 'W', 'L', 'N', 'G', 'K', 'E', 'Y', 'K', 'C', 'K', 'V', 'S', 'N', 'K', 'A', 'L', 'P', 'A', 'P', 'I', 'E', 'K', 'T', 'I', 'S', 'K', 'A', 'K', 'G', 'Q', 'P', 'R', 'E', 'P', 'Q', 'V', 'Y', 'T', 'L', 'P', 'P', 'S', 'R', 'D', 'E', 'L', 'T', 'K', 'N', 'Q', 'V', 'S', 'L', 'T', 'C', 'L', 'V', 'K', 'G', 'F', 'Y', 'P', 'S', 'D', 'I', 'A', 'V', 'E', 'W', 'E', 'S', 'N', 'G', 'Q', 'P', 'E', 'N', 'N', 'Y', 'K', 'T', 'T', 'P', 'P', 'V', 'L', 'D', 'S', 'D', 'G', 'S', 'F', 'F', 'L', 'Y', 'S', 'K', 'L', 'T', 'V', 'D', 'K', 'S', 'R', 'W', 'Q', 'Q', 'G', 'N', 'V', 'F', 'S', 'C', 'S', 'V', 'M', 'H', 'E', 'A', 'L', 'H', 'N', 'H', 'Y', 'T', 'Q', 'K', 'S', 'L', 'S', 'L', 'S', 'P', 'G', 'K']]}\n"
          ]
        }
      ]
    },
    {
      "cell_type": "code",
      "source": [
        "import csv\n",
        "\n",
        "# Specify the CSV file name\n",
        "csv_file = 'file.csv'\n",
        "\n",
        "# Writing to CSV file\n",
        "with open(csv_file, 'w', newline='') as file:\n",
        "    writer = csv.writer(file)\n",
        "    writer.writerow(['Key', 'Value'])\n",
        "\n",
        "    # Write data\n",
        "    for key, value in list2.items():\n",
        "        writer.writerow([key, value])\n",
        "\n",
        "print(f\"Dictionary saved to {csv_file}\")"
      ],
      "metadata": {
        "colab": {
          "base_uri": "https://localhost:8080/"
        },
        "id": "E_udJnNbxiOH",
        "outputId": "d6483bbe-82b8-4c46-e3df-0475a5b672ef"
      },
      "execution_count": 182,
      "outputs": [
        {
          "output_type": "stream",
          "name": "stdout",
          "text": [
            "Dictionary saved to file.csv\n"
          ]
        }
      ]
    },
    {
      "cell_type": "markdown",
      "source": [
        "**In Excel**\n",
        "\n",
        "Go to Data > Text to columns > Delimitted > Delimiters >\n",
        "check the following\n",
        "\n",
        "*   Comma\n",
        "*   Space\n",
        "*   Other '\n",
        "*   Treat consecutive delimiters as one (text qualifier ')"
      ],
      "metadata": {
        "id": "4EVCgOHp0M9I"
      }
    },
    {
      "cell_type": "markdown",
      "source": [
        "**For light Chain**"
      ],
      "metadata": {
        "id": "aY-15zyweEP9"
      }
    },
    {
      "cell_type": "code",
      "source": [
        "Light_Chain = Data['light chain sequence (same across all)']\n",
        "Keys_2 = Data['Light Chain ID ']\n",
        "Light_Chain[1][1]\n",
        "Keys_2"
      ],
      "metadata": {
        "colab": {
          "base_uri": "https://localhost:8080/",
          "height": 1000
        },
        "id": "xYiC6xZjvu7-",
        "outputId": "1073834c-c966-4b78-8701-628795a4aa24"
      },
      "execution_count": 7,
      "outputs": [
        {
          "output_type": "execute_result",
          "data": {
            "text/plain": [
              "0                 Dara \n",
              "1                 Dara \n",
              "2     Proteinea-Light-4\n",
              "3                 Dara \n",
              "4                 Dara \n",
              "5                 Dara \n",
              "6                 Dara \n",
              "7                 Dara \n",
              "8                 Dara \n",
              "9                 Dara \n",
              "10                Dara \n",
              "11                Dara \n",
              "12                Dara \n",
              "13                Dara \n",
              "14                Dara \n",
              "15                Dara \n",
              "16                Dara \n",
              "17                Dara \n",
              "18                Dara \n",
              "19                Dara \n",
              "20                Dara \n",
              "21                Dara \n",
              "22                Dara \n",
              "23                Dara \n",
              "24                Dara \n",
              "25                Dara \n",
              "26                Dara \n",
              "27                Dara \n",
              "28                Dara \n",
              "29                Dara \n",
              "30                Dara \n",
              "31                Dara \n",
              "32                Dara \n",
              "33                Dara \n",
              "34                Dara \n",
              "35                Dara \n",
              "36                Dara \n",
              "37                Dara \n",
              "38                Dara \n",
              "39                Dara \n",
              "40                Dara \n",
              "41                Dara \n",
              "42                Dara \n",
              "43                Dara \n",
              "44                Dara \n",
              "45                Dara \n",
              "46                Dara \n",
              "47                Dara \n",
              "48                Dara \n",
              "49                Dara \n",
              "50                Dara \n",
              "51                Dara \n",
              "52                Dara \n",
              "53                Dara \n",
              "54                Dara \n",
              "55                Dara \n",
              "56                Dara \n",
              "57                Dara \n",
              "58                Dara \n",
              "Name: Light Chain ID , dtype: object"
            ],
            "text/html": [
              "<div>\n",
              "<style scoped>\n",
              "    .dataframe tbody tr th:only-of-type {\n",
              "        vertical-align: middle;\n",
              "    }\n",
              "\n",
              "    .dataframe tbody tr th {\n",
              "        vertical-align: top;\n",
              "    }\n",
              "\n",
              "    .dataframe thead th {\n",
              "        text-align: right;\n",
              "    }\n",
              "</style>\n",
              "<table border=\"1\" class=\"dataframe\">\n",
              "  <thead>\n",
              "    <tr style=\"text-align: right;\">\n",
              "      <th></th>\n",
              "      <th>Light Chain ID</th>\n",
              "    </tr>\n",
              "  </thead>\n",
              "  <tbody>\n",
              "    <tr>\n",
              "      <th>0</th>\n",
              "      <td>Dara</td>\n",
              "    </tr>\n",
              "    <tr>\n",
              "      <th>1</th>\n",
              "      <td>Dara</td>\n",
              "    </tr>\n",
              "    <tr>\n",
              "      <th>2</th>\n",
              "      <td>Proteinea-Light-4</td>\n",
              "    </tr>\n",
              "    <tr>\n",
              "      <th>3</th>\n",
              "      <td>Dara</td>\n",
              "    </tr>\n",
              "    <tr>\n",
              "      <th>4</th>\n",
              "      <td>Dara</td>\n",
              "    </tr>\n",
              "    <tr>\n",
              "      <th>5</th>\n",
              "      <td>Dara</td>\n",
              "    </tr>\n",
              "    <tr>\n",
              "      <th>6</th>\n",
              "      <td>Dara</td>\n",
              "    </tr>\n",
              "    <tr>\n",
              "      <th>7</th>\n",
              "      <td>Dara</td>\n",
              "    </tr>\n",
              "    <tr>\n",
              "      <th>8</th>\n",
              "      <td>Dara</td>\n",
              "    </tr>\n",
              "    <tr>\n",
              "      <th>9</th>\n",
              "      <td>Dara</td>\n",
              "    </tr>\n",
              "    <tr>\n",
              "      <th>10</th>\n",
              "      <td>Dara</td>\n",
              "    </tr>\n",
              "    <tr>\n",
              "      <th>11</th>\n",
              "      <td>Dara</td>\n",
              "    </tr>\n",
              "    <tr>\n",
              "      <th>12</th>\n",
              "      <td>Dara</td>\n",
              "    </tr>\n",
              "    <tr>\n",
              "      <th>13</th>\n",
              "      <td>Dara</td>\n",
              "    </tr>\n",
              "    <tr>\n",
              "      <th>14</th>\n",
              "      <td>Dara</td>\n",
              "    </tr>\n",
              "    <tr>\n",
              "      <th>15</th>\n",
              "      <td>Dara</td>\n",
              "    </tr>\n",
              "    <tr>\n",
              "      <th>16</th>\n",
              "      <td>Dara</td>\n",
              "    </tr>\n",
              "    <tr>\n",
              "      <th>17</th>\n",
              "      <td>Dara</td>\n",
              "    </tr>\n",
              "    <tr>\n",
              "      <th>18</th>\n",
              "      <td>Dara</td>\n",
              "    </tr>\n",
              "    <tr>\n",
              "      <th>19</th>\n",
              "      <td>Dara</td>\n",
              "    </tr>\n",
              "    <tr>\n",
              "      <th>20</th>\n",
              "      <td>Dara</td>\n",
              "    </tr>\n",
              "    <tr>\n",
              "      <th>21</th>\n",
              "      <td>Dara</td>\n",
              "    </tr>\n",
              "    <tr>\n",
              "      <th>22</th>\n",
              "      <td>Dara</td>\n",
              "    </tr>\n",
              "    <tr>\n",
              "      <th>23</th>\n",
              "      <td>Dara</td>\n",
              "    </tr>\n",
              "    <tr>\n",
              "      <th>24</th>\n",
              "      <td>Dara</td>\n",
              "    </tr>\n",
              "    <tr>\n",
              "      <th>25</th>\n",
              "      <td>Dara</td>\n",
              "    </tr>\n",
              "    <tr>\n",
              "      <th>26</th>\n",
              "      <td>Dara</td>\n",
              "    </tr>\n",
              "    <tr>\n",
              "      <th>27</th>\n",
              "      <td>Dara</td>\n",
              "    </tr>\n",
              "    <tr>\n",
              "      <th>28</th>\n",
              "      <td>Dara</td>\n",
              "    </tr>\n",
              "    <tr>\n",
              "      <th>29</th>\n",
              "      <td>Dara</td>\n",
              "    </tr>\n",
              "    <tr>\n",
              "      <th>30</th>\n",
              "      <td>Dara</td>\n",
              "    </tr>\n",
              "    <tr>\n",
              "      <th>31</th>\n",
              "      <td>Dara</td>\n",
              "    </tr>\n",
              "    <tr>\n",
              "      <th>32</th>\n",
              "      <td>Dara</td>\n",
              "    </tr>\n",
              "    <tr>\n",
              "      <th>33</th>\n",
              "      <td>Dara</td>\n",
              "    </tr>\n",
              "    <tr>\n",
              "      <th>34</th>\n",
              "      <td>Dara</td>\n",
              "    </tr>\n",
              "    <tr>\n",
              "      <th>35</th>\n",
              "      <td>Dara</td>\n",
              "    </tr>\n",
              "    <tr>\n",
              "      <th>36</th>\n",
              "      <td>Dara</td>\n",
              "    </tr>\n",
              "    <tr>\n",
              "      <th>37</th>\n",
              "      <td>Dara</td>\n",
              "    </tr>\n",
              "    <tr>\n",
              "      <th>38</th>\n",
              "      <td>Dara</td>\n",
              "    </tr>\n",
              "    <tr>\n",
              "      <th>39</th>\n",
              "      <td>Dara</td>\n",
              "    </tr>\n",
              "    <tr>\n",
              "      <th>40</th>\n",
              "      <td>Dara</td>\n",
              "    </tr>\n",
              "    <tr>\n",
              "      <th>41</th>\n",
              "      <td>Dara</td>\n",
              "    </tr>\n",
              "    <tr>\n",
              "      <th>42</th>\n",
              "      <td>Dara</td>\n",
              "    </tr>\n",
              "    <tr>\n",
              "      <th>43</th>\n",
              "      <td>Dara</td>\n",
              "    </tr>\n",
              "    <tr>\n",
              "      <th>44</th>\n",
              "      <td>Dara</td>\n",
              "    </tr>\n",
              "    <tr>\n",
              "      <th>45</th>\n",
              "      <td>Dara</td>\n",
              "    </tr>\n",
              "    <tr>\n",
              "      <th>46</th>\n",
              "      <td>Dara</td>\n",
              "    </tr>\n",
              "    <tr>\n",
              "      <th>47</th>\n",
              "      <td>Dara</td>\n",
              "    </tr>\n",
              "    <tr>\n",
              "      <th>48</th>\n",
              "      <td>Dara</td>\n",
              "    </tr>\n",
              "    <tr>\n",
              "      <th>49</th>\n",
              "      <td>Dara</td>\n",
              "    </tr>\n",
              "    <tr>\n",
              "      <th>50</th>\n",
              "      <td>Dara</td>\n",
              "    </tr>\n",
              "    <tr>\n",
              "      <th>51</th>\n",
              "      <td>Dara</td>\n",
              "    </tr>\n",
              "    <tr>\n",
              "      <th>52</th>\n",
              "      <td>Dara</td>\n",
              "    </tr>\n",
              "    <tr>\n",
              "      <th>53</th>\n",
              "      <td>Dara</td>\n",
              "    </tr>\n",
              "    <tr>\n",
              "      <th>54</th>\n",
              "      <td>Dara</td>\n",
              "    </tr>\n",
              "    <tr>\n",
              "      <th>55</th>\n",
              "      <td>Dara</td>\n",
              "    </tr>\n",
              "    <tr>\n",
              "      <th>56</th>\n",
              "      <td>Dara</td>\n",
              "    </tr>\n",
              "    <tr>\n",
              "      <th>57</th>\n",
              "      <td>Dara</td>\n",
              "    </tr>\n",
              "    <tr>\n",
              "      <th>58</th>\n",
              "      <td>Dara</td>\n",
              "    </tr>\n",
              "  </tbody>\n",
              "</table>\n",
              "</div><br><label><b>dtype:</b> object</label>"
            ]
          },
          "metadata": {},
          "execution_count": 7
        }
      ]
    },
    {
      "cell_type": "code",
      "source": [
        "Dictionary_2 = {Keys_2[i]: Light_Chain[i] for i in range(len(Light_Chain))}"
      ],
      "metadata": {
        "id": "0igmXY06wkpX"
      },
      "execution_count": 9,
      "outputs": []
    },
    {
      "cell_type": "code",
      "source": [
        "list3 = {}\n",
        "for i in range(len(list(Dictionary_2.keys()))):\n",
        "    key2 = list(Dictionary_2.keys())[i]  # Get the key\n",
        "    value2 = [j for a, j in enumerate(Light_Chain[i])] # Extract the value for list2\n",
        "    #Check if the Key is in the list2 if not create an empty list for that key:\n",
        "    if key2 not in list3:\n",
        "        list3[key2] = []\n",
        "    list3[key2].append(value2)"
      ],
      "metadata": {
        "id": "Fa1zI2bixQNW"
      },
      "execution_count": 11,
      "outputs": []
    },
    {
      "cell_type": "code",
      "source": [
        "print(list3)"
      ],
      "metadata": {
        "colab": {
          "base_uri": "https://localhost:8080/"
        },
        "id": "eKMR0s3jxrtx",
        "outputId": "e39c19bf-afc9-43fa-c9dc-baa4a9e6f110"
      },
      "execution_count": 12,
      "outputs": [
        {
          "output_type": "stream",
          "name": "stdout",
          "text": [
            "{'Dara ': [['E', 'I', 'V', 'L', 'T', 'Q', 'S', 'P', 'A', 'T', 'L', 'S', 'L', 'S', 'P', 'G', 'E', 'R', 'A', 'T', 'L', 'S', 'C', 'R', 'A', 'S', 'Q', 'S', 'V', 'S', 'S', 'Y', 'L', 'A', 'W', 'Y', 'Q', 'Q', 'K', 'P', 'G', 'Q', 'A', 'P', 'R', 'L', 'L', 'I', 'Y', 'D', 'A', 'S', 'N', 'R', 'A', 'T', 'G', 'I', 'P', 'A', 'R', 'F', 'S', 'G', 'S', 'G', 'S', 'G', 'T', 'D', 'F', 'T', 'L', 'T', 'I', 'S', 'S', 'L', 'E', 'P', 'E', 'D', 'F', 'A', 'V', 'Y', 'Y', 'C', 'Q', 'Q', 'R', 'S', 'N', 'W', 'P', 'P', 'T', 'F', 'G', 'Q', 'G', 'T', 'K', 'V', 'E', 'I', 'K', 'R', 'T', 'V', 'A', 'A', 'P', 'S', 'V', 'F', 'I', 'F', 'P', 'P', 'S', 'D', 'E', 'Q', 'L', 'K', 'S', 'G', 'T', 'A', 'S', 'V', 'V', 'C', 'L', 'L', 'N', 'N', 'F', 'Y', 'P', 'R', 'E', 'A', 'K', 'V', 'Q', 'W', 'K', 'V', 'D', 'N', 'A', 'L', 'Q', 'S', 'G', 'N', 'S', 'Q', 'E', 'S', 'V', 'T', 'E', 'Q', 'D', 'S', 'K', 'D', 'S', 'T', 'Y', 'S', 'L', 'S', 'S', 'T', 'L', 'T', 'L', 'S', 'K', 'A', 'D', 'Y', 'E', 'K', 'H', 'K', 'V', 'Y', 'A', 'C', 'E', 'V', 'T', 'H', 'Q', 'G', 'L', 'S', 'S', 'P', 'V', 'T', 'K', 'S', 'F', 'N', 'R', 'G', 'E', 'C']], 'Proteinea-Light-4': [['E', 'I', 'V', 'L', 'T', 'Q', 'S', 'P', 'A', 'T', 'L', 'S', 'L', 'S', 'P', 'G', 'E', 'R', 'A', 'T', 'L', 'S', 'C', 'R', 'A', 'S', 'Q', 'S', 'V', 'S', 'S', 'Y', 'L', 'A', 'W', 'Y', 'Q', 'Q', 'K', 'P', 'G', 'Q', 'A', 'P', 'R', 'L', 'L', 'I', 'Y', 'D', 'A', 'S', 'N', 'R', 'A', 'T', 'G', 'I', 'P', 'A', 'R', 'F', 'S', 'G', 'S', 'G', 'S', 'G', 'T', 'D', 'F', 'T', 'L', 'T', 'I', 'S', 'S', 'L', 'E', 'P', 'E', 'D', 'F', 'A', 'V', 'Y', 'Y', 'C', 'Q', 'Q', 'R', 'S', 'N', 'W', 'P', 'P', 'T', 'F', 'G', 'Q', 'G', 'T', 'K', 'V', 'E', 'I', 'K', 'R', 'T', 'V', 'A', 'A', 'P', 'S', 'V', 'F', 'I', 'F', 'P', 'P', 'S', 'D', 'E', 'Q', 'L', 'K', 'S', 'G', 'T', 'A', 'S', 'V', 'V', 'C', 'L', 'L', 'N', 'N', 'F', 'Y', 'P', 'R', 'E', 'A', 'K', 'V', 'Q', 'W', 'K', 'V', 'D', 'N', 'A', 'L', 'Q', 'S', 'G', 'N', 'S', 'Q', 'E', 'S', 'V', 'T', 'E', 'Q', 'D', 'S', 'K', 'D', 'S', 'T', 'Y', 'S', 'L', 'S', 'S', 'T', 'L', 'T', 'L', 'S', 'K', 'A', 'D', 'Y', 'E', 'K', 'H', 'K', 'V', 'Y', 'A', 'C', 'E', 'V', 'T', 'H', 'Q', 'G', 'L', 'S', 'S', 'P', 'V', 'T', 'K', 'S', 'F', 'N', 'R', 'G', 'E', 'C']]}\n"
          ]
        }
      ]
    },
    {
      "cell_type": "code",
      "source": [
        "import csv\n",
        "\n",
        "# Specify the CSV file name\n",
        "csv_file = 'file_light.csv'\n",
        "\n",
        "# Writing to CSV file\n",
        "with open(csv_file, 'w', newline='') as file:\n",
        "    writer = csv.writer(file)\n",
        "    writer.writerow(['Key', 'Value'])\n",
        "\n",
        "    # Write data\n",
        "    for key, value in list3.items():\n",
        "        writer.writerow([key, value])\n",
        "\n",
        "print(f\"Dictionary saved to {csv_file}\")"
      ],
      "metadata": {
        "colab": {
          "base_uri": "https://localhost:8080/"
        },
        "id": "TYfpMtfAx480",
        "outputId": "febc6aef-e6ec-40ea-e1e8-549cf57e82e5"
      },
      "execution_count": 13,
      "outputs": [
        {
          "output_type": "stream",
          "name": "stdout",
          "text": [
            "Dictionary saved to file_light.csv\n"
          ]
        }
      ]
    },
    {
      "cell_type": "markdown",
      "source": [
        "**In Excel**\n",
        "\n",
        "Go to Data > Text to columns > Delimitted > Delimiters >\n",
        "check the following\n",
        "\n",
        "*   Comma\n",
        "*   Space\n",
        "*   Other '\n",
        "*   Treat consecutive delimiters as one (text qualifier ')\n",
        "\n",
        "\n",
        "\n",
        "\n",
        "\n"
      ],
      "metadata": {
        "id": "0YLBCQ45zEPl"
      }
    }
  ]
}