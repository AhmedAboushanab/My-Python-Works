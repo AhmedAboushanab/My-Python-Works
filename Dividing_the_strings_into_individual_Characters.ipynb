{
  "nbformat": 4,
  "nbformat_minor": 0,
  "metadata": {
    "colab": {
      "provenance": [],
      "authorship_tag": "ABX9TyN47b2TpuTf2+uP2NCgyuNZ",
      "include_colab_link": true
    },
    "kernelspec": {
      "name": "python3",
      "display_name": "Python 3"
    },
    "language_info": {
      "name": "python"
    }
  },
  "cells": [
    {
      "cell_type": "markdown",
      "metadata": {
        "id": "view-in-github",
        "colab_type": "text"
      },
      "source": [
        "<a href=\"https://colab.research.google.com/github/AhmedAboushanab/My-Python-Works/blob/master/Dividing_the_strings_into_individual_Characters.ipynb\" target=\"_parent\"><img src=\"https://colab.research.google.com/assets/colab-badge.svg\" alt=\"Open In Colab\"/></a>"
      ]
    },
    {
      "cell_type": "code",
      "source": [
        "import pandas as pd\n",
        "import numpy as np"
      ],
      "metadata": {
        "id": "hIWLzl0q7rLZ"
      },
      "execution_count": 1,
      "outputs": []
    },
    {
      "cell_type": "code",
      "source": [
        "Data = pd.read_csv(\"file.csv\")"
      ],
      "metadata": {
        "id": "tPj-Vg7i6Sv3"
      },
      "execution_count": 2,
      "outputs": []
    },
    {
      "cell_type": "markdown",
      "source": [
        "**For Heavy chain**"
      ],
      "metadata": {
        "id": "9b5tq46Hd9lM"
      }
    },
    {
      "cell_type": "code",
      "source": [
        "Heavy_Chain = Data['heavy chain sequence']\n",
        "Keys = Data['Heavy Chain ID']\n",
        "Heavy_Chain[1][1]\n",
        "Keys"
      ],
      "metadata": {
        "id": "oTcDhBca6n8F"
      },
      "execution_count": null,
      "outputs": []
    },
    {
      "cell_type": "code",
      "source": [
        "# Dividing the sting into a list of strings\n",
        "List = Heavy_Chain[1]\n",
        "x=[i for a,i in enumerate(List) ]\n",
        "print(x)"
      ],
      "metadata": {
        "id": "aUIaDlWlmINC"
      },
      "execution_count": null,
      "outputs": []
    },
    {
      "cell_type": "code",
      "source": [
        "Dictionary_1 = {Keys[i]: Heavy_Chain[i] for i in range(len(Heavy_Chain))}\n",
        "Dictionary_1[][]"
      ],
      "metadata": {
        "id": "y0UdOIxAZwaS"
      },
      "execution_count": null,
      "outputs": []
    },
    {
      "cell_type": "code",
      "source": [
        "Dictionary_1.keys()\n",
        "list(Dictionary_1.keys())[1]"
      ],
      "metadata": {
        "id": "vi5HghoDhuvJ"
      },
      "execution_count": null,
      "outputs": []
    },
    {
      "cell_type": "code",
      "source": [
        "list2 = {}\n",
        "for i in range(len(list(Dictionary_1.keys()))):\n",
        "    key = list(Dictionary_1.keys())[i]  # Get the key\n",
        "    value = [j for a, j in enumerate(Heavy_Chain[i])] # Extract the value for list2\n",
        "    #Check if the Key is in the list2 if not create an empty list for that key:\n",
        "    if key not in list2:\n",
        "        list2[key] = []\n",
        "    list2[key].append(value)"
      ],
      "metadata": {
        "id": "gb7HMnjlw1tl"
      },
      "execution_count": 175,
      "outputs": []
    },
    {
      "cell_type": "code",
      "source": [
        "print(list2)"
      ],
      "metadata": {
        "id": "RETxTPr8CsuH"
      },
      "execution_count": null,
      "outputs": []
    },
    {
      "cell_type": "code",
      "source": [
        "import csv\n",
        "\n",
        "# Specify the CSV file name\n",
        "csv_file = 'file.csv'\n",
        "\n",
        "# Writing to CSV file\n",
        "with open(csv_file, 'w', newline='') as file:\n",
        "    writer = csv.writer(file)\n",
        "    writer.writerow(['Key', 'Value'])\n",
        "\n",
        "    # Write data\n",
        "    for key, value in list2.items():\n",
        "        writer.writerow([key, value])\n",
        "\n",
        "print(f\"Dictionary saved to {csv_file}\")"
      ],
      "metadata": {
        "colab": {
          "base_uri": "https://localhost:8080/"
        },
        "id": "E_udJnNbxiOH",
        "outputId": "d6483bbe-82b8-4c46-e3df-0475a5b672ef"
      },
      "execution_count": 182,
      "outputs": [
        {
          "output_type": "stream",
          "name": "stdout",
          "text": [
            "Dictionary saved to file.csv\n"
          ]
        }
      ]
    },
    {
      "cell_type": "markdown",
      "source": [
        "**In Excel**\n",
        "\n",
        "Go to Data > Text to columns > Delimitted > Delimiters >\n",
        "check the following\n",
        "\n",
        "*   Comma\n",
        "*   Space\n",
        "*   Other '\n",
        "*   Treat consecutive delimiters as one (text qualifier ')"
      ],
      "metadata": {
        "id": "4EVCgOHp0M9I"
      }
    },
    {
      "cell_type": "markdown",
      "source": [
        "**For light Chain**"
      ],
      "metadata": {
        "id": "aY-15zyweEP9"
      }
    },
    {
      "cell_type": "code",
      "source": [
        "Light_Chain = Data['light chain sequence (same across all)']\n",
        "Keys_2 = Data['Light Chain ID ']\n",
        "Light_Chain[1][1]\n",
        "Keys_2"
      ],
      "metadata": {
        "id": "xYiC6xZjvu7-"
      },
      "execution_count": null,
      "outputs": []
    },
    {
      "cell_type": "code",
      "source": [
        "Dictionary_2 = {Keys_2[i]: Light_Chain[i] for i in range(len(Light_Chain))}"
      ],
      "metadata": {
        "id": "0igmXY06wkpX"
      },
      "execution_count": 9,
      "outputs": []
    },
    {
      "cell_type": "code",
      "source": [
        "list3 = {}\n",
        "for i in range(len(list(Dictionary_2.keys()))):\n",
        "    key2 = list(Dictionary_2.keys())[i]  # Get the key\n",
        "    value2 = [j for a, j in enumerate(Light_Chain[i])] # Extract the value for list2\n",
        "    #Check if the Key is in the list2 if not create an empty list for that key:\n",
        "    if key2 not in list3:\n",
        "        list3[key2] = []\n",
        "    list3[key2].append(value2)"
      ],
      "metadata": {
        "id": "Fa1zI2bixQNW"
      },
      "execution_count": 11,
      "outputs": []
    },
    {
      "cell_type": "code",
      "source": [
        "print(list3)"
      ],
      "metadata": {
        "id": "eKMR0s3jxrtx"
      },
      "execution_count": null,
      "outputs": []
    },
    {
      "cell_type": "code",
      "source": [
        "import csv\n",
        "\n",
        "# Specify the CSV file name\n",
        "csv_file = 'file_light.csv'\n",
        "\n",
        "# Writing to CSV file\n",
        "with open(csv_file, 'w', newline='') as file:\n",
        "    writer = csv.writer(file)\n",
        "    writer.writerow(['Key', 'Value'])\n",
        "\n",
        "    # Write data\n",
        "    for key, value in list3.items():\n",
        "        writer.writerow([key, value])\n",
        "\n",
        "print(f\"Dictionary saved to {csv_file}\")"
      ],
      "metadata": {
        "colab": {
          "base_uri": "https://localhost:8080/"
        },
        "id": "TYfpMtfAx480",
        "outputId": "febc6aef-e6ec-40ea-e1e8-549cf57e82e5"
      },
      "execution_count": 13,
      "outputs": [
        {
          "output_type": "stream",
          "name": "stdout",
          "text": [
            "Dictionary saved to file_light.csv\n"
          ]
        }
      ]
    },
    {
      "cell_type": "markdown",
      "source": [
        "**In Excel**\n",
        "\n",
        "Go to Data > Text to columns > Delimitted > Delimiters >\n",
        "check the following\n",
        "\n",
        "*   Comma\n",
        "*   Space\n",
        "*   Other '\n",
        "*   Treat consecutive delimiters as one (text qualifier ')\n",
        "\n",
        "\n",
        "\n",
        "\n",
        "\n"
      ],
      "metadata": {
        "id": "0YLBCQ45zEPl"
      }
    }
  ]
}