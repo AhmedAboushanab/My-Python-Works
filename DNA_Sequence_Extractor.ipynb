{
  "nbformat": 4,
  "nbformat_minor": 0,
  "metadata": {
    "colab": {
      "provenance": [],
      "mount_file_id": "1E9GmtSaqiRFl2mj8sn_4uCvEeY_VoPZE",
      "authorship_tag": "ABX9TyM+ZEtAIQO4oKN1xqwLQJRl",
      "include_colab_link": true
    },
    "kernelspec": {
      "name": "python3",
      "display_name": "Python 3"
    },
    "language_info": {
      "name": "python"
    }
  },
  "cells": [
    {
      "cell_type": "markdown",
      "metadata": {
        "id": "view-in-github",
        "colab_type": "text"
      },
      "source": [
        "<a href=\"https://colab.research.google.com/github/AhmedAboushanab/My-Python-Works/blob/master/DNA_Sequence_Extractor.ipynb\" target=\"_parent\"><img src=\"https://colab.research.google.com/assets/colab-badge.svg\" alt=\"Open In Colab\"/></a>"
      ]
    },
    {
      "cell_type": "code",
      "execution_count": null,
      "metadata": {
        "colab": {
          "base_uri": "https://localhost:8080/"
        },
        "id": "O8oimyoUigyc",
        "outputId": "3dae90be-2d69-47a1-bd9c-6a7b012d325e"
      },
      "outputs": [
        {
          "output_type": "stream",
          "name": "stdout",
          "text": [
            "Collecting biopython\n",
            "  Downloading biopython-1.85-cp311-cp311-manylinux_2_17_x86_64.manylinux2014_x86_64.whl.metadata (13 kB)\n",
            "Requirement already satisfied: pandas in /usr/local/lib/python3.11/dist-packages (2.2.2)\n",
            "Requirement already satisfied: numpy in /usr/local/lib/python3.11/dist-packages (from biopython) (2.0.2)\n",
            "Requirement already satisfied: python-dateutil>=2.8.2 in /usr/local/lib/python3.11/dist-packages (from pandas) (2.9.0.post0)\n",
            "Requirement already satisfied: pytz>=2020.1 in /usr/local/lib/python3.11/dist-packages (from pandas) (2025.2)\n",
            "Requirement already satisfied: tzdata>=2022.7 in /usr/local/lib/python3.11/dist-packages (from pandas) (2025.2)\n",
            "Requirement already satisfied: six>=1.5 in /usr/local/lib/python3.11/dist-packages (from python-dateutil>=2.8.2->pandas) (1.17.0)\n",
            "Downloading biopython-1.85-cp311-cp311-manylinux_2_17_x86_64.manylinux2014_x86_64.whl (3.3 MB)\n",
            "\u001b[2K   \u001b[90m━━━━━━━━━━━━━━━━━━━━━━━━━━━━━━━━━━━━━━━━\u001b[0m \u001b[32m3.3/3.3 MB\u001b[0m \u001b[31m82.1 MB/s\u001b[0m eta \u001b[36m0:00:00\u001b[0m\n",
            "\u001b[?25hInstalling collected packages: biopython\n",
            "Successfully installed biopython-1.85\n"
          ]
        }
      ],
      "source": [
        "pip install biopython pandas\n"
      ]
    },
    {
      "cell_type": "code",
      "source": [
        "import os\n",
        "from Bio import SeqIO\n",
        "from Bio.Seq import Seq\n",
        "import pandas as pd\n",
        "from google.colab import files\n",
        "\n",
        "def extract_sequences(fasta_path, coords_csv_path, output_fasta_path, output_csv_path):\n",
        "    sequences = SeqIO.to_dict(SeqIO.parse(fasta_path, \"fasta\"))\n",
        "    df = pd.read_csv(coords_csv_path)\n",
        "\n",
        "    extracted_records = []\n",
        "    extracted_fasta = []\n",
        "\n",
        "    for idx, row in df.iterrows():\n",
        "        seq_id = row['Sample-id']\n",
        "        # Remove commas before converting to integer\n",
        "        start = int(str(row['From']).replace(',', '')) - 1  # Convert to 0-based\n",
        "        end = int(str(row['To']).replace(',', ''))\n",
        "        strand = row.get('strand', '+')\n",
        "\n",
        "        if seq_id not in sequences:\n",
        "            print(f\"Warning: {seq_id} not found in {fasta_path}\")\n",
        "            continue\n",
        "\n",
        "        full_seq = sequences[seq_id].seq\n",
        "        sub_seq = full_seq[start:end]\n",
        "        if strand == '-':\n",
        "            sub_seq = sub_seq.reverse_complement()\n",
        "\n",
        "        record_id = f\"{seq_id}_{start+1}_{end}_{strand}\"\n",
        "        extracted_fasta.append(f\">{record_id}\\n{sub_seq}\")\n",
        "        extracted_records.append({\n",
        "            'record_id': record_id,\n",
        "            'seq_id': seq_id,\n",
        "            'start': start + 1,\n",
        "            'end': end,\n",
        "            'strand': strand,\n",
        "            'sequence': str(sub_seq)\n",
        "        })\n",
        "\n",
        "    # Save output\n",
        "    with open(output_fasta_path, \"w\") as f:\n",
        "        f.write(\"\\n\".join(extracted_fasta))\n",
        "\n",
        "    pd.DataFrame(extracted_records).to_csv(output_csv_path, index=False)\n",
        "\n",
        "    # Offer files for download\n",
        "    files.download(output_fasta_path)\n",
        "    files.download(output_csv_path)\n",
        "\n",
        "# Main execution: loop over all FASTA files\n",
        "def process_all_fastas(coords_csv_path):\n",
        "    for file in os.listdir():\n",
        "        if file.endswith(\".fasta\") or file.endswith(\".fa\"):\n",
        "            base = os.path.splitext(file)[0]\n",
        "            print(f\"Processing {file}...\")\n",
        "            extract_sequences(\n",
        "                fasta_path=file,\n",
        "                coords_csv_path=coords_csv_path,\n",
        "                output_fasta_path=f\"{base}_extracted.fasta\",\n",
        "                output_csv_path=f\"{base}_extracted.csv\"\n",
        "            )\n",
        "\n",
        "# Usage:\n",
        "# First upload all your FASTA files and your coordinates.csv\n",
        "# Then call this line (adjust the filename if needed)\n",
        "# process_all_fastas(\"coordinates.csv\")\n"
      ],
      "metadata": {
        "id": "APXLexhItKWN"
      },
      "execution_count": null,
      "outputs": []
    },
    {
      "cell_type": "code",
      "source": [
        "process_all_fastas(\"Coordinates.csv\")"
      ],
      "metadata": {
        "colab": {
          "base_uri": "https://localhost:8080/",
          "height": 946
        },
        "id": "MFF7GASSubu4",
        "outputId": "925b35a5-715b-48cf-87c2-07c5cc12b347"
      },
      "execution_count": 22,
      "outputs": [
        {
          "output_type": "stream",
          "name": "stdout",
          "text": [
            "Processing Reference-3.fa...\n",
            "Warning: Reference-1 not found in Reference-3.fa\n",
            "Warning: Reference-1 not found in Reference-3.fa\n",
            "Warning: Reference-1 not found in Reference-3.fa\n",
            "Warning: Reference-1 not found in Reference-3.fa\n",
            "Warning: Reference-1 not found in Reference-3.fa\n",
            "Warning: Reference-1 not found in Reference-3.fa\n",
            "Warning: Reference-1 not found in Reference-3.fa\n",
            "Warning: Reference-2 not found in Reference-3.fa\n",
            "Warning: Reference-2 not found in Reference-3.fa\n",
            "Warning: Reference-2 not found in Reference-3.fa\n",
            "Warning: Reference-2 not found in Reference-3.fa\n",
            "Warning: Reference-2 not found in Reference-3.fa\n",
            "Warning: Reference-2 not found in Reference-3.fa\n",
            "Warning: Reference-2 not found in Reference-3.fa\n"
          ]
        },
        {
          "output_type": "display_data",
          "data": {
            "text/plain": [
              "<IPython.core.display.Javascript object>"
            ],
            "application/javascript": [
              "\n",
              "    async function download(id, filename, size) {\n",
              "      if (!google.colab.kernel.accessAllowed) {\n",
              "        return;\n",
              "      }\n",
              "      const div = document.createElement('div');\n",
              "      const label = document.createElement('label');\n",
              "      label.textContent = `Downloading \"${filename}\": `;\n",
              "      div.appendChild(label);\n",
              "      const progress = document.createElement('progress');\n",
              "      progress.max = size;\n",
              "      div.appendChild(progress);\n",
              "      document.body.appendChild(div);\n",
              "\n",
              "      const buffers = [];\n",
              "      let downloaded = 0;\n",
              "\n",
              "      const channel = await google.colab.kernel.comms.open(id);\n",
              "      // Send a message to notify the kernel that we're ready.\n",
              "      channel.send({})\n",
              "\n",
              "      for await (const message of channel.messages) {\n",
              "        // Send a message to notify the kernel that we're ready.\n",
              "        channel.send({})\n",
              "        if (message.buffers) {\n",
              "          for (const buffer of message.buffers) {\n",
              "            buffers.push(buffer);\n",
              "            downloaded += buffer.byteLength;\n",
              "            progress.value = downloaded;\n",
              "          }\n",
              "        }\n",
              "      }\n",
              "      const blob = new Blob(buffers, {type: 'application/binary'});\n",
              "      const a = document.createElement('a');\n",
              "      a.href = window.URL.createObjectURL(blob);\n",
              "      a.download = filename;\n",
              "      div.appendChild(a);\n",
              "      a.click();\n",
              "      div.remove();\n",
              "    }\n",
              "  "
            ]
          },
          "metadata": {}
        },
        {
          "output_type": "display_data",
          "data": {
            "text/plain": [
              "<IPython.core.display.Javascript object>"
            ],
            "application/javascript": [
              "download(\"download_07dc2a9b-e020-418c-af7e-75fd596f97fa\", \"Reference-3_extracted.fasta\", 195371)"
            ]
          },
          "metadata": {}
        },
        {
          "output_type": "display_data",
          "data": {
            "text/plain": [
              "<IPython.core.display.Javascript object>"
            ],
            "application/javascript": [
              "\n",
              "    async function download(id, filename, size) {\n",
              "      if (!google.colab.kernel.accessAllowed) {\n",
              "        return;\n",
              "      }\n",
              "      const div = document.createElement('div');\n",
              "      const label = document.createElement('label');\n",
              "      label.textContent = `Downloading \"${filename}\": `;\n",
              "      div.appendChild(label);\n",
              "      const progress = document.createElement('progress');\n",
              "      progress.max = size;\n",
              "      div.appendChild(progress);\n",
              "      document.body.appendChild(div);\n",
              "\n",
              "      const buffers = [];\n",
              "      let downloaded = 0;\n",
              "\n",
              "      const channel = await google.colab.kernel.comms.open(id);\n",
              "      // Send a message to notify the kernel that we're ready.\n",
              "      channel.send({})\n",
              "\n",
              "      for await (const message of channel.messages) {\n",
              "        // Send a message to notify the kernel that we're ready.\n",
              "        channel.send({})\n",
              "        if (message.buffers) {\n",
              "          for (const buffer of message.buffers) {\n",
              "            buffers.push(buffer);\n",
              "            downloaded += buffer.byteLength;\n",
              "            progress.value = downloaded;\n",
              "          }\n",
              "        }\n",
              "      }\n",
              "      const blob = new Blob(buffers, {type: 'application/binary'});\n",
              "      const a = document.createElement('a');\n",
              "      a.href = window.URL.createObjectURL(blob);\n",
              "      a.download = filename;\n",
              "      div.appendChild(a);\n",
              "      a.click();\n",
              "      div.remove();\n",
              "    }\n",
              "  "
            ]
          },
          "metadata": {}
        },
        {
          "output_type": "display_data",
          "data": {
            "text/plain": [
              "<IPython.core.display.Javascript object>"
            ],
            "application/javascript": [
              "download(\"download_71dff49a-9da8-419b-999f-5dd8e405ea41\", \"Reference-3_extracted.csv\", 195611)"
            ]
          },
          "metadata": {}
        },
        {
          "output_type": "stream",
          "name": "stdout",
          "text": [
            "Processing Reference-1.fa...\n",
            "Warning: Reference-2 not found in Reference-1.fa\n",
            "Warning: Reference-2 not found in Reference-1.fa\n",
            "Warning: Reference-2 not found in Reference-1.fa\n",
            "Warning: Reference-2 not found in Reference-1.fa\n",
            "Warning: Reference-2 not found in Reference-1.fa\n",
            "Warning: Reference-2 not found in Reference-1.fa\n",
            "Warning: Reference-2 not found in Reference-1.fa\n",
            "Warning: Reference-3 not found in Reference-1.fa\n",
            "Warning: Reference-3 not found in Reference-1.fa\n",
            "Warning: Reference-3 not found in Reference-1.fa\n",
            "Warning: Reference-3 not found in Reference-1.fa\n",
            "Warning: Reference-3 not found in Reference-1.fa\n",
            "Warning: Reference-3 not found in Reference-1.fa\n",
            "Warning: Reference-3 not found in Reference-1.fa\n"
          ]
        },
        {
          "output_type": "display_data",
          "data": {
            "text/plain": [
              "<IPython.core.display.Javascript object>"
            ],
            "application/javascript": [
              "\n",
              "    async function download(id, filename, size) {\n",
              "      if (!google.colab.kernel.accessAllowed) {\n",
              "        return;\n",
              "      }\n",
              "      const div = document.createElement('div');\n",
              "      const label = document.createElement('label');\n",
              "      label.textContent = `Downloading \"${filename}\": `;\n",
              "      div.appendChild(label);\n",
              "      const progress = document.createElement('progress');\n",
              "      progress.max = size;\n",
              "      div.appendChild(progress);\n",
              "      document.body.appendChild(div);\n",
              "\n",
              "      const buffers = [];\n",
              "      let downloaded = 0;\n",
              "\n",
              "      const channel = await google.colab.kernel.comms.open(id);\n",
              "      // Send a message to notify the kernel that we're ready.\n",
              "      channel.send({})\n",
              "\n",
              "      for await (const message of channel.messages) {\n",
              "        // Send a message to notify the kernel that we're ready.\n",
              "        channel.send({})\n",
              "        if (message.buffers) {\n",
              "          for (const buffer of message.buffers) {\n",
              "            buffers.push(buffer);\n",
              "            downloaded += buffer.byteLength;\n",
              "            progress.value = downloaded;\n",
              "          }\n",
              "        }\n",
              "      }\n",
              "      const blob = new Blob(buffers, {type: 'application/binary'});\n",
              "      const a = document.createElement('a');\n",
              "      a.href = window.URL.createObjectURL(blob);\n",
              "      a.download = filename;\n",
              "      div.appendChild(a);\n",
              "      a.click();\n",
              "      div.remove();\n",
              "    }\n",
              "  "
            ]
          },
          "metadata": {}
        },
        {
          "output_type": "display_data",
          "data": {
            "text/plain": [
              "<IPython.core.display.Javascript object>"
            ],
            "application/javascript": [
              "download(\"download_9e8fa3ac-9768-4349-a47c-259cede314a7\", \"Reference-1_extracted.fasta\", 196816)"
            ]
          },
          "metadata": {}
        },
        {
          "output_type": "display_data",
          "data": {
            "text/plain": [
              "<IPython.core.display.Javascript object>"
            ],
            "application/javascript": [
              "\n",
              "    async function download(id, filename, size) {\n",
              "      if (!google.colab.kernel.accessAllowed) {\n",
              "        return;\n",
              "      }\n",
              "      const div = document.createElement('div');\n",
              "      const label = document.createElement('label');\n",
              "      label.textContent = `Downloading \"${filename}\": `;\n",
              "      div.appendChild(label);\n",
              "      const progress = document.createElement('progress');\n",
              "      progress.max = size;\n",
              "      div.appendChild(progress);\n",
              "      document.body.appendChild(div);\n",
              "\n",
              "      const buffers = [];\n",
              "      let downloaded = 0;\n",
              "\n",
              "      const channel = await google.colab.kernel.comms.open(id);\n",
              "      // Send a message to notify the kernel that we're ready.\n",
              "      channel.send({})\n",
              "\n",
              "      for await (const message of channel.messages) {\n",
              "        // Send a message to notify the kernel that we're ready.\n",
              "        channel.send({})\n",
              "        if (message.buffers) {\n",
              "          for (const buffer of message.buffers) {\n",
              "            buffers.push(buffer);\n",
              "            downloaded += buffer.byteLength;\n",
              "            progress.value = downloaded;\n",
              "          }\n",
              "        }\n",
              "      }\n",
              "      const blob = new Blob(buffers, {type: 'application/binary'});\n",
              "      const a = document.createElement('a');\n",
              "      a.href = window.URL.createObjectURL(blob);\n",
              "      a.download = filename;\n",
              "      div.appendChild(a);\n",
              "      a.click();\n",
              "      div.remove();\n",
              "    }\n",
              "  "
            ]
          },
          "metadata": {}
        },
        {
          "output_type": "display_data",
          "data": {
            "text/plain": [
              "<IPython.core.display.Javascript object>"
            ],
            "application/javascript": [
              "download(\"download_fe218766-87eb-48a0-bdd2-7543fbebfc0a\", \"Reference-1_extracted.csv\", 197057)"
            ]
          },
          "metadata": {}
        },
        {
          "output_type": "stream",
          "name": "stdout",
          "text": [
            "Processing output_sequences.fasta...\n",
            "Warning: Reference-1 not found in output_sequences.fasta\n",
            "Warning: Reference-1 not found in output_sequences.fasta\n",
            "Warning: Reference-1 not found in output_sequences.fasta\n",
            "Warning: Reference-1 not found in output_sequences.fasta\n",
            "Warning: Reference-1 not found in output_sequences.fasta\n",
            "Warning: Reference-1 not found in output_sequences.fasta\n",
            "Warning: Reference-1 not found in output_sequences.fasta\n",
            "Warning: Reference-2 not found in output_sequences.fasta\n",
            "Warning: Reference-2 not found in output_sequences.fasta\n",
            "Warning: Reference-2 not found in output_sequences.fasta\n",
            "Warning: Reference-2 not found in output_sequences.fasta\n",
            "Warning: Reference-2 not found in output_sequences.fasta\n",
            "Warning: Reference-2 not found in output_sequences.fasta\n",
            "Warning: Reference-2 not found in output_sequences.fasta\n",
            "Warning: Reference-3 not found in output_sequences.fasta\n",
            "Warning: Reference-3 not found in output_sequences.fasta\n",
            "Warning: Reference-3 not found in output_sequences.fasta\n",
            "Warning: Reference-3 not found in output_sequences.fasta\n",
            "Warning: Reference-3 not found in output_sequences.fasta\n",
            "Warning: Reference-3 not found in output_sequences.fasta\n",
            "Warning: Reference-3 not found in output_sequences.fasta\n"
          ]
        },
        {
          "output_type": "display_data",
          "data": {
            "text/plain": [
              "<IPython.core.display.Javascript object>"
            ],
            "application/javascript": [
              "\n",
              "    async function download(id, filename, size) {\n",
              "      if (!google.colab.kernel.accessAllowed) {\n",
              "        return;\n",
              "      }\n",
              "      const div = document.createElement('div');\n",
              "      const label = document.createElement('label');\n",
              "      label.textContent = `Downloading \"${filename}\": `;\n",
              "      div.appendChild(label);\n",
              "      const progress = document.createElement('progress');\n",
              "      progress.max = size;\n",
              "      div.appendChild(progress);\n",
              "      document.body.appendChild(div);\n",
              "\n",
              "      const buffers = [];\n",
              "      let downloaded = 0;\n",
              "\n",
              "      const channel = await google.colab.kernel.comms.open(id);\n",
              "      // Send a message to notify the kernel that we're ready.\n",
              "      channel.send({})\n",
              "\n",
              "      for await (const message of channel.messages) {\n",
              "        // Send a message to notify the kernel that we're ready.\n",
              "        channel.send({})\n",
              "        if (message.buffers) {\n",
              "          for (const buffer of message.buffers) {\n",
              "            buffers.push(buffer);\n",
              "            downloaded += buffer.byteLength;\n",
              "            progress.value = downloaded;\n",
              "          }\n",
              "        }\n",
              "      }\n",
              "      const blob = new Blob(buffers, {type: 'application/binary'});\n",
              "      const a = document.createElement('a');\n",
              "      a.href = window.URL.createObjectURL(blob);\n",
              "      a.download = filename;\n",
              "      div.appendChild(a);\n",
              "      a.click();\n",
              "      div.remove();\n",
              "    }\n",
              "  "
            ]
          },
          "metadata": {}
        },
        {
          "output_type": "display_data",
          "data": {
            "text/plain": [
              "<IPython.core.display.Javascript object>"
            ],
            "application/javascript": [
              "download(\"download_72ecb740-2a3b-4b9a-9e2a-71666cde9941\", \"output_sequences_extracted.fasta\", 0)"
            ]
          },
          "metadata": {}
        },
        {
          "output_type": "display_data",
          "data": {
            "text/plain": [
              "<IPython.core.display.Javascript object>"
            ],
            "application/javascript": [
              "\n",
              "    async function download(id, filename, size) {\n",
              "      if (!google.colab.kernel.accessAllowed) {\n",
              "        return;\n",
              "      }\n",
              "      const div = document.createElement('div');\n",
              "      const label = document.createElement('label');\n",
              "      label.textContent = `Downloading \"${filename}\": `;\n",
              "      div.appendChild(label);\n",
              "      const progress = document.createElement('progress');\n",
              "      progress.max = size;\n",
              "      div.appendChild(progress);\n",
              "      document.body.appendChild(div);\n",
              "\n",
              "      const buffers = [];\n",
              "      let downloaded = 0;\n",
              "\n",
              "      const channel = await google.colab.kernel.comms.open(id);\n",
              "      // Send a message to notify the kernel that we're ready.\n",
              "      channel.send({})\n",
              "\n",
              "      for await (const message of channel.messages) {\n",
              "        // Send a message to notify the kernel that we're ready.\n",
              "        channel.send({})\n",
              "        if (message.buffers) {\n",
              "          for (const buffer of message.buffers) {\n",
              "            buffers.push(buffer);\n",
              "            downloaded += buffer.byteLength;\n",
              "            progress.value = downloaded;\n",
              "          }\n",
              "        }\n",
              "      }\n",
              "      const blob = new Blob(buffers, {type: 'application/binary'});\n",
              "      const a = document.createElement('a');\n",
              "      a.href = window.URL.createObjectURL(blob);\n",
              "      a.download = filename;\n",
              "      div.appendChild(a);\n",
              "      a.click();\n",
              "      div.remove();\n",
              "    }\n",
              "  "
            ]
          },
          "metadata": {}
        },
        {
          "output_type": "display_data",
          "data": {
            "text/plain": [
              "<IPython.core.display.Javascript object>"
            ],
            "application/javascript": [
              "download(\"download_95b4109f-e6cd-4e2b-8672-b1bb9d7cadf0\", \"output_sequences_extracted.csv\", 1)"
            ]
          },
          "metadata": {}
        }
      ]
    }
  ]
}